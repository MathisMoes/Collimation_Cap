{
 "cells": [
  {
   "cell_type": "markdown",
   "id": "d820655f",
   "metadata": {},
   "source": [
    "## Functions and Classes"
   ]
  },
  {
   "cell_type": "code",
   "execution_count": null,
   "id": "40600068",
   "metadata": {},
   "outputs": [
    {
     "name": "stderr",
     "output_type": "stream",
     "text": [
      "<>:290: SyntaxWarning: invalid escape sequence '\\m'\n",
      "<>:290: SyntaxWarning: invalid escape sequence '\\m'\n",
      "C:\\Users\\Frederike\\AppData\\Local\\Temp\\ipykernel_86480\\2294524268.py:290: SyntaxWarning: invalid escape sequence '\\m'\n",
      "  plt.legend(['Gaussian Fit: $\\mu = {:.2f}$, $\\sigma = {:.2f}$'.format(mu, std)])\n"
     ]
    }
   ],
   "source": [
    "import numpy as np\n",
    "import plotly.graph_objects as go\n",
    "from scipy.stats import norm\n",
    "import matplotlib.pyplot as plt\n",
    "\n",
    "# Class to represent a cylinder in 3D space\n",
    "class Cylinder:\n",
    "    def __init__(self, radius_lower, coordinates_lower, radius_upper, coordinates_upper, color, wall_lower, wall_upper):\n",
    "        # Initialize the cylinder with its properties\n",
    "        self.radius_lower = radius_lower  # Radius at the lower part of the cylinder\n",
    "        self.coordinates_lower = np.array([coordinates_lower[0], coordinates_lower[1], wall_lower])  # Lower circle coordinates\n",
    "        self.radius_upper = radius_upper  # Radius at the upper part of the cylinder\n",
    "        self.coordinates_upper = np.array([coordinates_upper[0], coordinates_upper[1], wall_upper])  # Upper circle coordinates\n",
    "        self.color = color  # Color for visualization\n",
    "\n",
    "    def plot(self, fig):\n",
    "        # Plot the cylinder in 3D by plotting two circles (upper and lower) and connecting them with lines\n",
    "        theta = np.linspace(0, 2 * np.pi, 50)  # Angle values to plot the circles\n",
    "\n",
    "        # Lower circle coordinates\n",
    "        lower_circle_x = self.radius_lower * np.cos(theta) + self.coordinates_lower[0]\n",
    "        lower_circle_y = self.radius_lower * np.sin(theta) + self.coordinates_lower[1]\n",
    "        lower_circle_z = np.full_like(lower_circle_x, self.coordinates_lower[2])\n",
    "\n",
    "        # Upper circle coordinates\n",
    "        upper_circle_x = self.radius_upper * np.cos(theta) + self.coordinates_upper[0]\n",
    "        upper_circle_y = self.radius_upper * np.sin(theta) + self.coordinates_upper[1]\n",
    "        upper_circle_z = np.full_like(upper_circle_x, self.coordinates_upper[2])\n",
    "\n",
    "        # Plot both circles (lower and upper)\n",
    "        fig.add_trace(go.Scatter3d(x=lower_circle_x, y=lower_circle_y, z=lower_circle_z,\n",
    "                                   mode='lines', line=dict(color=self.color, width=3),\n",
    "                                   showlegend=False))\n",
    "        fig.add_trace(go.Scatter3d(x=upper_circle_x, y=upper_circle_y, z=upper_circle_z,\n",
    "                                   mode='lines', line=dict(color=self.color, width=3),\n",
    "                                   showlegend=False))\n",
    "\n",
    "        # Plot lines connecting corresponding points of the lower and upper circles\n",
    "        for i in range(len(theta)):\n",
    "            fig.add_trace(go.Scatter3d(x=[lower_circle_x[i], upper_circle_x[i]],\n",
    "                                       y=[lower_circle_y[i], upper_circle_y[i]],\n",
    "                                       z=[lower_circle_z[i], upper_circle_z[i]],\n",
    "                                       mode='lines', line=dict(color=self.color, width=3),\n",
    "                                       showlegend=False))\n",
    "\n",
    "    def passes_through(self, start, direction):\n",
    "        # Check if a particle passes through the cylinder by checking if it intersects both the upper and lower circles\n",
    "        intersects_lower, _ = check_line_circle_intersection(\n",
    "            start[0], start[1], start[2], direction[0], direction[1], direction[2],\n",
    "            self.coordinates_lower[0], self.coordinates_lower[1], self.radius_lower, self.coordinates_lower[2])\n",
    "        \n",
    "        intersects_upper, _ = check_line_circle_intersection(\n",
    "            start[0], start[1], start[2], direction[0], direction[1], direction[2],\n",
    "            self.coordinates_upper[0], self.coordinates_upper[1], self.radius_upper, self.coordinates_upper[2])\n",
    "        \n",
    "        # Return True if the particle intersects both the lower and upper circles\n",
    "        return intersects_lower and intersects_upper\n",
    "\n",
    "\n",
    "# Function to check intersection of a line with a circle in 3D space\n",
    "def check_line_circle_intersection(x0, y0, z0, dx, dy, dz, xc, yc, r, z1):\n",
    "\n",
    "    # The line is given by the parametric equations:\n",
    "    #   x = x0 + t * dx\n",
    "    #   y = y0 + t * dy\n",
    "    #   z = z0 + t * dz\n",
    "    # where (x0, y0, z0) is a point on the line and (dx, dy, dz) is the direction vector.\n",
    "    #\n",
    "    # The circle is centered at (xc, yc) with radius r, and lies in the plane z = z1.\n",
    "    #\n",
    "    # Steps performed by the function:\n",
    "    # 1. Calculate the parameter t at which the line intersects the plane z = z1 using:\n",
    "    #    t = (z1 - z0) / dz\n",
    "    #    This gives the intersection point (x_int, y_int) on the plane z = z1 as:\n",
    "    #    x_int = x0 + t * dx\n",
    "    #    y_int = y0 + t * dy\n",
    "    #\n",
    "    # 2. Compute the distance d from the circle's center (xc, yc) to the intersection point (x_int, y_int) using:\n",
    "    #    d = sqrt((x_int - xc)^2 + (y_int - yc)^2)\n",
    "    #\n",
    "    # 3. Check if this distance d is less than or equal to the circle's radius r. If it is:\n",
    "    #    - The line intersects or is inside the circle at the plane z = z1.\n",
    "    #    - Return True and the coordinates of the intersection point (x_int, y_int, z1).\n",
    "    # Otherwise:\n",
    "    #    - The line does not intersect the circle at the plane.\n",
    "    #    - Return False and None.\n",
    "    \n",
    "    if dz == 0:\n",
    "        return False, None  # If dz = 0, the line is parallel to the z-plane and does not intersect\n",
    "    \n",
    "    # Calculate the parameter t where the line intersects the plane z = z1\n",
    "    t = (z1 - z0) / dz\n",
    "    x_int = x0 + t * dx  # Intersection x-coordinate\n",
    "    y_int = y0 + t * dy  # Intersection y-coordinate\n",
    "    \n",
    "    # Compute distance from circle center to the intersection point\n",
    "    d = np.sqrt((x_int - xc) ** 2 + (y_int - yc) ** 2)\n",
    "    \n",
    "    # If the distance is less than or equal to the radius, there is an intersection\n",
    "    if d <= r:\n",
    "        return True, (x_int, y_int, z1)\n",
    "    else:\n",
    "        return False, None\n",
    "\n",
    "# Function to generate a random direction vector (unit vector)\n",
    "def random_direction():\n",
    "    # Randomly generate a direction on the unit sphere\n",
    "    theta = np.random.uniform(0, 2 * np.pi)\n",
    "    phi = np.arccos(np.random.uniform(-1, 1))\n",
    "    x = np.sin(phi) * np.cos(theta)\n",
    "    y = np.sin(phi) * np.sin(theta)\n",
    "    z = np.cos(phi)\n",
    "    return np.array([x, y, z])\n",
    "\n",
    "# Function to generate a random point inside a circle at a given z-coordinate\n",
    "def random_point_in_circle(radius, source_z):\n",
    "    r = np.sqrt(np.random.uniform(0, 1)) * radius  # Random radial distance within the circle\n",
    "    angle = np.random.uniform(0, 2 * np.pi)  # Random angle in the xy-plane\n",
    "    x = r * np.cos(angle)\n",
    "    y = r * np.sin(angle)\n",
    "    return np.array([x, y, source_z])\n",
    "\n",
    "# Function to generate paths for multiple particles\n",
    "def generate_paths(num_particles, circle_radius, source_z, cylinders, chip_z):\n",
    "    # Generate paths for a given number of particles starting from the source circle\n",
    "    \n",
    "    x_paths = []\n",
    "    y_paths = []\n",
    "    z_paths = []\n",
    "\n",
    "    for _ in range(num_particles):\n",
    "        direction = random_direction()  # Random direction for each particle\n",
    "        # Calculate the path of the particle\n",
    "        x_path, y_path, z_path = calculate_particle_path(source_z, direction, cylinders, chip_z, np.abs(source_z)/2, circle_radius)\n",
    "        \n",
    "        x_paths.append(x_path)\n",
    "        y_paths.append(y_path)\n",
    "        z_paths.append(z_path)\n",
    "    \n",
    "    return x_paths, y_paths, z_paths\n",
    "\n",
    "# Function to add a plane (wall or chip) to the plot\n",
    "def add_plane(fig, z_position, plane_width, plane_length, color='black', name=\"Package wall\"):\n",
    "    # Adds a 3D plane to the figure\n",
    "    half_width = plane_width / 2\n",
    "    half_length = plane_length / 2\n",
    "    plane_x = np.array([-half_width, half_width, half_width, -half_width, -half_width])\n",
    "    plane_y = np.array([-half_length, -half_length, half_length, half_length, -half_length])\n",
    "    plane_z = np.full_like(plane_x, z_position)  # Constant z-coordinate for the plane\n",
    "    \n",
    "    fig.add_trace(go.Scatter3d(x=plane_x, y=plane_y, z=plane_z,\n",
    "                               mode='lines', line=dict(color=color, width=2),\n",
    "                               name=f'{name} at z={z_position}'))\n",
    "\n",
    "# Function to add a circular source to the plot\n",
    "def add_circle_source(fig, source_z, radius):\n",
    "    # Adds a circle at the source z-coordinate to the plot\n",
    "    theta = np.linspace(0, 2 * np.pi, 100)\n",
    "    circle_x = radius * np.cos(theta)\n",
    "    circle_y = radius * np.sin(theta)\n",
    "    circle_z = np.full_like(circle_x, source_z)  # Fixed z-coordinate for the source\n",
    "    \n",
    "    fig.add_trace(go.Scatter3d(x=circle_x, y=circle_y, z=circle_z,\n",
    "                               mode='lines', line=dict(color='red', width=2),\n",
    "                               name=f'Source Circle at z={source_z} and radius {radius}'))\n",
    "\n",
    "# Function to calculate the path of a particle based on its initial position and direction\n",
    "def calculate_particle_path(source_z, direction, cylinders, chip_z, path_len, radius):\n",
    "    # Initialize the source position as a random point in the source circle\n",
    "    source_position = random_point_in_circle(radius, source_z)\n",
    "    end_point = source_position + path_len * direction  # Calculate the end point of the path\n",
    "\n",
    "    for cylinder in cylinders:\n",
    "        # Check if the particle passes through the cylinder\n",
    "        if cylinder.passes_through(source_position, direction):\n",
    "            # If it intersects, calculate where the particle hits the chip (z = chip_z)\n",
    "            t = (chip_z - source_position[2]) / direction[2]  # Solve for t to get the z = chip_z\n",
    "            end_point = source_position + t * direction\n",
    "            break\n",
    "\n",
    "    # Return the path (from source to end point)\n",
    "    return [source_position[0], end_point[0]], [source_position[1], end_point[1]], [source_position[2], end_point[2]]\n",
    "\n",
    "# Function to check if the particle has hit the chip\n",
    "def has_hit_chip(end_point, chip_z, chip_plane_width, chip_plane_length):\n",
    "    x_end, y_end, z_end = end_point\n",
    "\n",
    "    # Check if the particle has hit the chip at z = chip_z and is within the chip's boundaries\n",
    "    if z_end == chip_z:\n",
    "        if (-chip_plane_width / 2 <= x_end <= chip_plane_width / 2) and (-chip_plane_length / 2 <= y_end <= chip_plane_length / 2):\n",
    "            return True\n",
    "    return False\n",
    "\n",
    "# Function to plot setup\n",
    "def plot_simulation(fig, x_paths, y_paths, z_paths, source_z, cylinders, wall_upper, wall_lower, chip_z, plane_size, chip_plane_width, chip_plane_length, circle_radius):\n",
    "    \n",
    "    for i in range(len(x_paths)):\n",
    "        fig.add_trace(go.Scatter3d(x=x_paths[i], y=y_paths[i], z=z_paths[i],\n",
    "                                   mode='lines', line=dict(color='blue', width=2),\n",
    "                                   opacity=0.3, showlegend=False))\n",
    "\n",
    "    # Add planes\n",
    "    add_plane(fig, wall_upper, plane_size, plane_size, color='grey')\n",
    "    add_plane(fig, wall_lower, plane_size, plane_size, color='grey')\n",
    "    add_plane(fig, chip_z, chip_plane_width, chip_plane_length, color='black', name=\"Chip\")\n",
    "\n",
    "    # Add source circle\n",
    "    add_circle_source(fig, source_z, circle_radius)\n",
    "\n",
    "    # Add cylinders\n",
    "    for cylinder in cylinders:\n",
    "        cylinder.plot(fig)\n",
    "\n",
    "    # Record hit points\n",
    "    hit_x = []\n",
    "    hit_y = []\n",
    "    hit_z = []\n",
    "\n",
    "    for i in range(len(x_paths)):\n",
    "        end_point = [x_paths[i][-1], y_paths[i][-1], z_paths[i][-1]]  # Use the last point in the path\n",
    "        if has_hit_chip(end_point, chip_z, chip_plane_width, chip_plane_length):\n",
    "            hit_x.append(end_point[0])\n",
    "            hit_y.append(end_point[1])\n",
    "            hit_z.append(end_point[2])\n",
    "\n",
    "    # Add hit spots on the chip\n",
    "    if hit_x:\n",
    "        fig.add_trace(go.Scatter3d(x=hit_x, y=hit_y, z=hit_z,\n",
    "                                   mode='markers', opacity=0.3, marker=dict(color='red', size=2),\n",
    "                                   name='Hit Spots on Chip'))\n",
    "\n",
    "    fig.update_layout(scene=dict(xaxis_title='X', yaxis_title='Y', zaxis_title='Z'),\n",
    "                      title='3D Particle Emission with Cylinders and Planes', showlegend=True)\n",
    "\n",
    "# Function to count number of hits of particles with chip passing through the cylinder(s)\n",
    "def count_hits_on_chip(x_paths, y_paths, z_paths, chip_z, chip_plane_width, chip_plane_length):\n",
    "    hit_positions = []\n",
    "    hit_count = 0\n",
    "\n",
    "    for i in range(len(x_paths)):\n",
    "        x_start, x_end = x_paths[i]\n",
    "        y_start, y_end = y_paths[i]\n",
    "        z_start, z_end = z_paths[i]\n",
    "\n",
    "        if (z_start < chip_z <= z_end) or (z_end < chip_z <= z_start):\n",
    "            # The value t represents the fraction of the way from the start point to the end point along the path where the z-coordinate equals chip_z.\n",
    "            t = (chip_z - z_start) / (z_end - z_start)\n",
    "            x_hit = x_start + t * (x_end - x_start)\n",
    "            y_hit = y_start + t * (y_end - y_start)\n",
    "\n",
    "            if (-chip_plane_width / 2 <= x_hit <= chip_plane_width / 2) and (-chip_plane_length / 2 <= y_hit <= chip_plane_length / 2):\n",
    "                hit_positions.append((x_hit, y_hit))\n",
    "                hit_count += 1\n",
    "\n",
    "    return hit_count, hit_positions\n",
    "\n",
    "def plot_chip_with_hits(hit_positions, chip_plane_width, chip_plane_length):\n",
    "    fig = plt.figure(figsize=(8, 8))\n",
    "    ax = fig.add_subplot(111)\n",
    "\n",
    "    x_hits, y_hits = zip(*hit_positions) if hit_positions else ([], [])\n",
    "    ax.scatter(x_hits, y_hits, color='red', alpha=0.3, marker='x', label='Hit Spots')\n",
    "\n",
    "    half_width = chip_plane_width / 2\n",
    "    half_length = chip_plane_length / 2\n",
    "    chip_boundary = plt.Rectangle((-half_width, -half_length), chip_plane_width, chip_plane_length, fill=None, edgecolor='black', linewidth=2)\n",
    "    ax.add_patch(chip_boundary)\n",
    "\n",
    "    ax.set_xlim(-half_width - 1, half_width + 1)\n",
    "    ax.set_ylim(-half_length - 1, half_length + 1)\n",
    "    ax.set_xlabel('X')\n",
    "    ax.set_ylabel('Y')\n",
    "    ax.set_title('Projected Chip Plane with Hit Spots')\n",
    "    ax.legend()\n",
    "    plt.show()\n",
    "\n",
    "def plot_hist(hit_counts):\n",
    "    plt.figure(figsize=(10, 6))\n",
    "    counts, bins, _ = plt.hist(hit_counts, bins=range(min(hit_counts), max(hit_counts) + 1), edgecolor='black', alpha=0.6, density=True)\n",
    "    mu, std = norm.fit(hit_counts)\n",
    "    \n",
    "    xmin, xmax = plt.xlim()\n",
    "    x = np.linspace(xmin, xmax, 100)\n",
    "    p = norm.pdf(x, mu, std)\n",
    "    plt.plot(x, p, 'k', linewidth=2)\n",
    "    \n",
    "    plt.xlabel('Number of Hits')\n",
    "    plt.ylabel('Frequency')\n",
    "    plt.title('Histogram of Number of Hits on Chip with Gaussian Fit')\n",
    "    plt.grid(True)\n",
    "    \n",
    "    plt.legend(['Gaussian Fit: $\\mu = {:.2f}$, $\\sigma = {:.2f}$'.format(mu, std)])\n",
    "    \n",
    "    plt.show()\n",
    "    \n",
    "    return mu\n",
    "\n",
    "def plot_2d_chip_with_circle(center_x, center_y, radius, chip_width, chip_height, chip_z, boundary_pts, show_plot=True):\n",
    "    fig, ax = plt.subplots(figsize=(5, 5))\n",
    "    rect = plt.Rectangle((-chip_width / 2, -chip_height / 2), chip_width, chip_height, linewidth=1, edgecolor='black', facecolor='none')\n",
    "    ax.add_patch(rect)\n",
    "\n",
    "    angles = np.linspace(0, 2 * np.pi, boundary_pts)\n",
    "    x_circle = center_x + radius * np.cos(angles)\n",
    "    y_circle = center_y + radius * np.sin(angles)\n",
    "    z_circle = np.full(boundary_pts, chip_z)\n",
    "    boundary_points = np.column_stack((x_circle, y_circle, z_circle))\n",
    "    boundary_points = np.vstack(((center_x, center_y, chip_z), boundary_points))\n",
    "\n",
    "    ax.plot(x_circle, y_circle, marker='+', linestyle='None', color='blue', markersize=5)\n",
    "    ax.plot(center_x, center_y, marker='+', linestyle='None', color='red', markersize=5)\n",
    "    ax.set_xlim(-chip_width / 2, chip_width / 2)\n",
    "    ax.set_ylim(-chip_height / 2, chip_height / 2)\n",
    "    ax.set_title(f\"2D Chip with Circle (Center: ({center_x}, {center_y}), Radius: {radius})\")\n",
    "    ax.set_xlabel(\"X Axis\")\n",
    "    ax.set_ylabel(\"Y Axis\")\n",
    "    ax.set_aspect('equal')\n",
    "\n",
    "    if show_plot:\n",
    "        plt.show()\n",
    "    else:\n",
    "        plt.close(fig)  # Close the plot if show_plot is False\n",
    "    \n",
    "    return boundary_points\n",
    "\n",
    "def find_intersection_with_planes(source_position, point_on_chip, wall_upper, wall_lower):\n",
    "    source_x, source_y, source_z = source_position\n",
    "    point_x, point_y, point_z = point_on_chip\n",
    "    \n",
    "    # Direction vector of the line from source to point_on_chip:\n",
    "    direction = np.array([point_x - source_x, point_y - source_y, point_z - source_z])\n",
    "    \n",
    "    def get_intersection(z_plane):\n",
    "        # If direction[2] == 0, the line is parallel to the z-plane and does not intersect\n",
    "        if direction[2] == 0:\n",
    "            return None\n",
    "        \n",
    "        # Calculate the parameter t where the line intersects the z-plane:\n",
    "        # Parametric equation of the line: P(t) = source + t * (point_on_chip - source)\n",
    "        # For the z-component: z(t) = source_z + t * (point_z - source_z)\n",
    "        # Solve for t when z(t) = z_plane:\n",
    "        # t = (z_plane - source_z) / (point_z - source_z)\n",
    "        t = (z_plane - source_z) / direction[2]\n",
    "        \n",
    "        # Calculate intersection coordinates in the x and y planes using the parameter t:\n",
    "        # x(t) = source_x + t * (point_x - source_x)\n",
    "        # y(t) = source_y + t * (point_y - source_y)\n",
    "        intersection_x = source_x + t * direction[0]\n",
    "        intersection_y = source_y + t * direction[1]\n",
    "        \n",
    "        # Return the intersection point at the z-plane\n",
    "        return (intersection_x, intersection_y, z_plane)\n",
    "    \n",
    "    intersection_upper = get_intersection(wall_upper)\n",
    "    intersection_lower = get_intersection(wall_lower)\n",
    "    \n",
    "    return intersection_upper, intersection_lower\n",
    "\n",
    "def calculate_radius(center_point, circle_point):\n",
    "    center_point = np.array(center_point)\n",
    "    circle_point = np.array(circle_point)\n",
    "    radius = np.linalg.norm(circle_point - center_point)\n",
    "    \n",
    "    return radius\n",
    "\n",
    "def calculate_circle_properties(intersections_upper, intersections_lower, print_output = True):\n",
    "\n",
    "    if len(intersections_upper) < 2:\n",
    "        raise ValueError(\"No intersections found for the upper plane.\")\n",
    "    \n",
    "    radii_upper = [calculate_radius(intersections_upper[0], pt) for pt in intersections_upper[1:]]\n",
    "    radius_upper = np.mean(radii_upper)\n",
    "\n",
    "    radii_lower = [calculate_radius(intersections_lower[0], pt) for pt in intersections_lower[1:]]\n",
    "    radius_lower = np.mean(radii_lower)\n",
    "\n",
    "    center_xl, center_yl, center_zl = intersections_lower[0]\n",
    "    center_xu, center_yu, center_zu = intersections_upper[0]\n",
    "    \n",
    "    if print_output:\n",
    "        print(f\"Coordinates of center point of lower circle: {center_xl, center_yl, center_zl}\")\n",
    "        print(f\"Coordinates of center point of upper circle: {center_xu, center_yu, center_zu}\")\n",
    "\n",
    "    return center_xl, center_yl, center_zl, radius_lower, center_xu, center_yu, center_zu, radius_upper\n",
    "\n",
    "def diameter_at_z(z, source_z, chip_z, source_radius, hit_radius):\n",
    "    d_source = 2 * source_radius\n",
    "    d_chip = 2 * hit_radius\n",
    "    \n",
    "    z = np.asarray(z)  \n",
    "    valid_mask = (source_z <= z) & (z <= chip_z)\n",
    "    \n",
    "    diameter = np.empty_like(z, dtype=float)\n",
    "    diameter[valid_mask] = d_source + (d_chip - d_source) / (chip_z - source_z) * (z[valid_mask] - source_z)\n",
    "    \n",
    "    if not np.all(valid_mask):\n",
    "        raise ValueError(f\"Some values of z are outside the range [{source_z}, {chip_z}]\")\n",
    "    \n",
    "    return diameter\n",
    "\n",
    "        \n",
    "    \n"
   ]
  },
  {
   "cell_type": "markdown",
   "id": "b1a76b92",
   "metadata": {},
   "source": [
    "# 1) Update Chip and Package Dimensions"
   ]
  },
  {
   "cell_type": "code",
   "execution_count": 7,
   "id": "e89667cb",
   "metadata": {},
   "outputs": [],
   "source": [
    "############################### Parameters #########################################\n",
    "\n",
    "# Dimensions in um\n",
    "\n",
    "source_z = -27000             # Distance from the source to the hole center\n",
    "circle_radius = 1000          # radius of circular source\n",
    "\n",
    "chip_z = 15000                # Z position of the chip plane\n",
    "chip_plane_width = 5000       # width of chip\n",
    "chip_plane_length = 5000      # length of chip\n",
    "\n",
    "plane_size = 20000            # Size of the planes (length and width)\n",
    "wall_lower = 0                # Z position of the lower wall plane\n",
    "wall_upper = 13700            # Z position of the upper wall plane\n"
   ]
  },
  {
   "cell_type": "markdown",
   "id": "c5f2cbd0",
   "metadata": {},
   "source": [
    "# 2) If you want to find out the hit rate and location for given cylinders"
   ]
  },
  {
   "cell_type": "markdown",
   "id": "09d10b43",
   "metadata": {},
   "source": [
    "## a) Set cylinder dimensions and coordinates by yourself"
   ]
  },
  {
   "cell_type": "code",
   "execution_count": 13,
   "id": "7439ad90",
   "metadata": {},
   "outputs": [
    {
     "data": {
      "application/vnd.plotly.v1+json": {
       "config": {
        "plotlyServerURL": "https://plot.ly"
       },
       "data": [
        {
         "line": {
          "color": "blue",
          "width": 2
         },
         "mode": "lines",
         "opacity": 0.3,
         "showlegend": false,
         "type": "scatter3d",
         "x": [
          114.14930364435013,
          -3273.537685776922
         ],
         "y": [
          934.1298449376825,
          4468.468090394216
         ],
         "z": [
          -27000,
          -14418.981359666894
         ]
        },
        {
         "line": {
          "color": "blue",
          "width": 2
         },
         "mode": "lines",
         "opacity": 0.3,
         "showlegend": false,
         "type": "scatter3d",
         "x": [
          670.1044857546965,
          -7122.102195258447
         ],
         "y": [
          718.0726163189139,
          -3416.1212878872375
         ],
         "z": [
          -27000,
          -16780.413129543893
         ]
        },
        {
         "line": {
          "color": "blue",
          "width": 2
         },
         "mode": "lines",
         "opacity": 0.3,
         "showlegend": false,
         "type": "scatter3d",
         "x": [
          -927.1878393629244,
          1222.680552693988
         ],
         "y": [
          -43.81122315725794,
          -5970.407922964577
         ],
         "z": [
          -27000,
          -38937.48371536764
         ]
        },
        {
         "line": {
          "color": "blue",
          "width": 2
         },
         "mode": "lines",
         "opacity": 0.3,
         "showlegend": false,
         "type": "scatter3d",
         "x": [
          -15.158016784469678,
          -8560.733261601117
         ],
         "y": [
          958.96345119639,
          -8350.12117570475
         ],
         "z": [
          -27000,
          -22249.83293510957
         ]
        },
        {
         "line": {
          "color": "blue",
          "width": 2
         },
         "mode": "lines",
         "opacity": 0.3,
         "showlegend": false,
         "type": "scatter3d",
         "x": [
          -142.51545669386218,
          -8498.623065534168
         ],
         "y": [
          876.5888245626973,
          -2054.7315530557553
         ],
         "z": [
          -27000,
          -16810.160625738994
         ]
        },
        {
         "line": {
          "color": "blue",
          "width": 2
         },
         "mode": "lines",
         "opacity": 0.3,
         "showlegend": false,
         "type": "scatter3d",
         "x": [
          280.2558993592133,
          -10565.304160473625
         ],
         "y": [
          -787.3238129079273,
          7164.849619235644
         ],
         "z": [
          -27000,
          -28177.60973742094
         ]
        },
        {
         "line": {
          "color": "blue",
          "width": 2
         },
         "mode": "lines",
         "opacity": 0.3,
         "showlegend": false,
         "type": "scatter3d",
         "x": [
          20.307108866299636,
          -6248.9114655195945
         ],
         "y": [
          -144.37349507359988,
          6673.5519225493
         ],
         "z": [
          -27000,
          -17178.452694900538
         ]
        },
        {
         "line": {
          "color": "blue",
          "width": 2
         },
         "mode": "lines",
         "opacity": 0.3,
         "showlegend": false,
         "type": "scatter3d",
         "x": [
          -303.6734409768246,
          -7085.05106153236
         ],
         "y": [
          758.6201644068409,
          -8396.062593298566
         ],
         "z": [
          -27000,
          -19757.438217508952
         ]
        },
        {
         "line": {
          "color": "blue",
          "width": 2
         },
         "mode": "lines",
         "opacity": 0.3,
         "showlegend": false,
         "type": "scatter3d",
         "x": [
          -126.74513011169998,
          3404.2516457816414
         ],
         "y": [
          311.4613619050754,
          12974.899996748043
         ],
         "z": [
          -27000,
          -30069.10144996827
         ]
        },
        {
         "line": {
          "color": "blue",
          "width": 2
         },
         "mode": "lines",
         "opacity": 0.3,
         "showlegend": false,
         "type": "scatter3d",
         "x": [
          81.21749305188114,
          6833.652337636063
         ],
         "y": [
          782.187934114627,
          5186.542281337269
         ],
         "z": [
          -27000,
          -16171.505808574011
         ]
        },
        {
         "line": {
          "color": "blue",
          "width": 2
         },
         "mode": "lines",
         "opacity": 0.3,
         "showlegend": false,
         "type": "scatter3d",
         "x": [
          -190.65396799348912,
          -8774.968872220908
         ],
         "y": [
          956.8163382031826,
          -5198.972748877405
         ],
         "z": [
          -27000,
          -35406.29516139176
         ]
        },
        {
         "line": {
          "color": "blue",
          "width": 2
         },
         "mode": "lines",
         "opacity": 0.3,
         "showlegend": false,
         "type": "scatter3d",
         "x": [
          95.68342571752466,
          6302.998379477166
         ],
         "y": [
          66.37160207514424,
          -849.5913222275283
         ],
         "z": [
          -27000,
          -15046.747179694774
         ]
        },
        {
         "line": {
          "color": "blue",
          "width": 2
         },
         "mode": "lines",
         "opacity": 0.3,
         "showlegend": false,
         "type": "scatter3d",
         "x": [
          35.1250905483026,
          -3014.365678716902
         ],
         "y": [
          -812.9345261389935,
          9621.133151502103
         ],
         "z": [
          -27000,
          -18994.94923522832
         ]
        },
        {
         "line": {
          "color": "blue",
          "width": 2
         },
         "mode": "lines",
         "opacity": 0.3,
         "showlegend": false,
         "type": "scatter3d",
         "x": [
          462.95748155419693,
          4398.5350870126495
         ],
         "y": [
          71.36898117901484,
          12445.99930948918
         ],
         "z": [
          -27000,
          -23308.150443330574
         ]
        },
        {
         "line": {
          "color": "blue",
          "width": 2
         },
         "mode": "lines",
         "opacity": 0.3,
         "showlegend": false,
         "type": "scatter3d",
         "x": [
          125.67678498202811,
          -7918.93976477076
         ],
         "y": [
          -457.8118401702516,
          5522.02868612182
         ],
         "z": [
          -27000,
          -36042.989099161765
         ]
        },
        {
         "line": {
          "color": "blue",
          "width": 2
         },
         "mode": "lines",
         "opacity": 0.3,
         "showlegend": false,
         "type": "scatter3d",
         "x": [
          844.2464431734599,
          -8691.777405955085
         ],
         "y": [
          -273.0035680256851,
          7512.601413788145
         ],
         "z": [
          -27000,
          -32540.632113397103
         ]
        },
        {
         "line": {
          "color": "blue",
          "width": 2
         },
         "mode": "lines",
         "opacity": 0.3,
         "showlegend": false,
         "type": "scatter3d",
         "x": [
          119.77613457449769,
          6910.84668851833
         ],
         "y": [
          336.5958535012048,
          -6799.143733230574
         ],
         "z": [
          -27000,
          -17768.933903296653
         ]
        },
        {
         "line": {
          "color": "blue",
          "width": 2
         },
         "mode": "lines",
         "opacity": 0.3,
         "showlegend": false,
         "type": "scatter3d",
         "x": [
          -526.3326944022425,
          -859.1112849441595
         ],
         "y": [
          -220.89085345660354,
          -11370.765837806133
         ],
         "z": [
          -27000,
          -34603.916506843925
         ]
        },
        {
         "line": {
          "color": "blue",
          "width": 2
         },
         "mode": "lines",
         "opacity": 0.3,
         "showlegend": false,
         "type": "scatter3d",
         "x": [
          627.8241662495017,
          6068.020434062504
         ],
         "y": [
          -190.46077311878636,
          -4419.288906780547
         ],
         "z": [
          -27000,
          -15390.896796753666
         ]
        },
        {
         "line": {
          "color": "blue",
          "width": 2
         },
         "mode": "lines",
         "opacity": 0.3,
         "showlegend": false,
         "type": "scatter3d",
         "x": [
          -361.6497262922825,
          -8048.754612119826
         ],
         "y": [
          -545.0324493446428,
          10479.363644884686
         ],
         "z": [
          -27000,
          -28273.227878986097
         ]
        },
        {
         "line": {
          "color": "blue",
          "width": 2
         },
         "mode": "lines",
         "opacity": 0.3,
         "showlegend": false,
         "type": "scatter3d",
         "x": [
          -560.2259493694537,
          11534.628536275286
         ],
         "y": [
          805.0547990758687,
          6288.919336895709
         ],
         "z": [
          -27000,
          -24572.712480582217
         ]
        },
        {
         "line": {
          "color": "blue",
          "width": 2
         },
         "mode": "lines",
         "opacity": 0.3,
         "showlegend": false,
         "type": "scatter3d",
         "x": [
          -258.82730126482414,
          8035.850769355289
         ],
         "y": [
          -621.7379576150844,
          -10204.403664593632
         ],
         "z": [
          -27000,
          -31649.820819458655
         ]
        },
        {
         "line": {
          "color": "blue",
          "width": 2
         },
         "mode": "lines",
         "opacity": 0.3,
         "showlegend": false,
         "type": "scatter3d",
         "x": [
          -740.8304103739725,
          -2172.9514978614066
         ],
         "y": [
          -49.209147573952265,
          11283.796003541878
         ],
         "z": [
          -27000,
          -34194.58292297447
         ]
        },
        {
         "line": {
          "color": "blue",
          "width": 2
         },
         "mode": "lines",
         "opacity": 0.3,
         "showlegend": false,
         "type": "scatter3d",
         "x": [
          -849.3182864369019,
          324.5361739152347
         ],
         "y": [
          -465.92836040781293,
          7794.372936044102
         ],
         "z": [
          -27000,
          -16386.824782481624
         ]
        },
        {
         "line": {
          "color": "blue",
          "width": 2
         },
         "mode": "lines",
         "opacity": 0.3,
         "showlegend": false,
         "type": "scatter3d",
         "x": [
          -754.211729427615,
          9384.184923383753
         ],
         "y": [
          31.560512825642775,
          4060.7954934259756
         ],
         "z": [
          -27000,
          -19048.385146313365
         ]
        },
        {
         "line": {
          "color": "blue",
          "width": 2
         },
         "mode": "lines",
         "opacity": 0.3,
         "showlegend": false,
         "type": "scatter3d",
         "x": [
          -133.0917975375522,
          -9773.46850119356
         ],
         "y": [
          -576.8663152570521,
          2412.222233159186
         ],
         "z": [
          -27000,
          -18034.5950085156
         ]
        },
        {
         "line": {
          "color": "blue",
          "width": 2
         },
         "mode": "lines",
         "opacity": 0.3,
         "showlegend": false,
         "type": "scatter3d",
         "x": [
          -171.3418887810281,
          8703.082050130062
         ],
         "y": [
          -547.4681535222468,
          -5502.431093808249
         ],
         "z": [
          -27000,
          -18115.01592500729
         ]
        },
        {
         "line": {
          "color": "blue",
          "width": 2
         },
         "mode": "lines",
         "opacity": 0.3,
         "showlegend": false,
         "type": "scatter3d",
         "x": [
          494.3191039075559,
          9956.824028727866
         ],
         "y": [
          510.72359295740705,
          8478.894252280304
         ],
         "z": [
          -27000,
          -21594.516035389886
         ]
        },
        {
         "line": {
          "color": "blue",
          "width": 2
         },
         "mode": "lines",
         "opacity": 0.3,
         "showlegend": false,
         "type": "scatter3d",
         "x": [
          -368.9614195701427,
          -12957.594056433196
         ],
         "y": [
          785.4856813516169,
          -3806.9322001905293
         ],
         "z": [
          -27000,
          -28638.91010595405
         ]
        },
        {
         "line": {
          "color": "blue",
          "width": 2
         },
         "mode": "lines",
         "opacity": 0.3,
         "showlegend": false,
         "type": "scatter3d",
         "x": [
          4.899494336271335,
          9070.185691275345
         ],
         "y": [
          701.2060362409052,
          -2345.5666918683482
         ],
         "z": [
          -27000,
          -36528.26123229394
         ]
        },
        {
         "line": {
          "color": "blue",
          "width": 2
         },
         "mode": "lines",
         "opacity": 0.3,
         "showlegend": false,
         "type": "scatter3d",
         "x": [
          -504.90163361387505,
          7915.80097205899
         ],
         "y": [
          749.453470551994,
          11301.1552412283
         ],
         "z": [
          -27000,
          -27057.942812502853
         ]
        },
        {
         "line": {
          "color": "blue",
          "width": 2
         },
         "mode": "lines",
         "opacity": 0.3,
         "showlegend": false,
         "type": "scatter3d",
         "x": [
          -117.84205996818802,
          2084.9387361635327
         ],
         "y": [
          -832.787335339502,
          -10862.37401620345
         ],
         "z": [
          -27000,
          -35763.854618558544
         ]
        },
        {
         "line": {
          "color": "blue",
          "width": 2
         },
         "mode": "lines",
         "opacity": 0.3,
         "showlegend": false,
         "type": "scatter3d",
         "x": [
          264.3352121311097,
          -5898.650261061954
         ],
         "y": [
          -169.29886944966054,
          1395.7092854653708
         ],
         "z": [
          -27000,
          -15091.248615733859
         ]
        },
        {
         "line": {
          "color": "blue",
          "width": 2
         },
         "mode": "lines",
         "opacity": 0.3,
         "showlegend": false,
         "type": "scatter3d",
         "x": [
          -276.58609162494037,
          4574.872242583256
         ],
         "y": [
          -697.8561452207579,
          -712.1020542601034
         ],
         "z": [
          -27000,
          -39598.14069954441
         ]
        },
        {
         "line": {
          "color": "blue",
          "width": 2
         },
         "mode": "lines",
         "opacity": 0.3,
         "showlegend": false,
         "type": "scatter3d",
         "x": [
          782.2468633788787,
          -1507.795557895898
         ],
         "y": [
          440.8648991230407,
          -12855.027326108831
         ],
         "z": [
          -27000,
          -26525.70510883987
         ]
        },
        {
         "line": {
          "color": "blue",
          "width": 2
         },
         "mode": "lines",
         "opacity": 0.3,
         "showlegend": false,
         "type": "scatter3d",
         "x": [
          -70.90676370089902,
          4580.420243966813
         ],
         "y": [
          303.1809411248408,
          5614.600286000082
         ],
         "z": [
          -27000,
          -38506.69290502818
         ]
        },
        {
         "line": {
          "color": "blue",
          "width": 2
         },
         "mode": "lines",
         "opacity": 0.3,
         "showlegend": false,
         "type": "scatter3d",
         "x": [
          775.9854016256351,
          -10926.753566819103
         ],
         "y": [
          -161.62296081111845,
          -6891.395572083393
         ],
         "z": [
          -27000,
          -26922.146053314384
         ]
        },
        {
         "line": {
          "color": "blue",
          "width": 2
         },
         "mode": "lines",
         "opacity": 0.3,
         "showlegend": false,
         "type": "scatter3d",
         "x": [
          488.1052147639269,
          -6619.490767782713
         ],
         "y": [
          335.8552016962178,
          10639.128455870032
         ],
         "z": [
          -27000,
          -32057.137490588273
         ]
        },
        {
         "line": {
          "color": "blue",
          "width": 2
         },
         "mode": "lines",
         "opacity": 0.3,
         "showlegend": false,
         "type": "scatter3d",
         "x": [
          569.2366641228987,
          -3971.74994487497
         ],
         "y": [
          -794.2362313218621,
          1401.071874126024
         ],
         "z": [
          -27000,
          -39522.38247854843
         ]
        },
        {
         "line": {
          "color": "blue",
          "width": 2
         },
         "mode": "lines",
         "opacity": 0.3,
         "showlegend": false,
         "type": "scatter3d",
         "x": [
          -558.95643882913,
          5954.660392291051
         ],
         "y": [
          695.6293025893832,
          -8245.02540964346
         ],
         "z": [
          -27000,
          -19261.29926318529
         ]
        },
        {
         "line": {
          "color": "blue",
          "width": 2
         },
         "mode": "lines",
         "opacity": 0.3,
         "showlegend": false,
         "type": "scatter3d",
         "x": [
          139.97187691954684,
          10389.521280985588
         ],
         "y": [
          -934.9270017075612,
          7681.612003523713
         ],
         "z": [
          -27000,
          -25281.863630284988
         ]
        },
        {
         "line": {
          "color": "blue",
          "width": 2
         },
         "mode": "lines",
         "opacity": 0.3,
         "showlegend": false,
         "type": "scatter3d",
         "x": [
          -147.36071089754506,
          9161.658814220107
         ],
         "y": [
          -246.11866021112192,
          -10009.555373828935
         ],
         "z": [
          -27000,
          -26482.835596586425
         ]
        },
        {
         "line": {
          "color": "blue",
          "width": 2
         },
         "mode": "lines",
         "opacity": 0.3,
         "showlegend": false,
         "type": "scatter3d",
         "x": [
          39.925901226254595,
          5400.219047448971
         ],
         "y": [
          148.65516111328117,
          66.73656007585026
         ],
         "z": [
          -27000,
          -39389.93731741052
         ]
        },
        {
         "line": {
          "color": "blue",
          "width": 2
         },
         "mode": "lines",
         "opacity": 0.3,
         "showlegend": false,
         "type": "scatter3d",
         "x": [
          370.5768112869302,
          -1945.8013382980728
         ],
         "y": [
          493.8084845590497,
          -5696.164341864511
         ],
         "z": [
          -27000,
          -15228.482312111872
         ]
        },
        {
         "line": {
          "color": "blue",
          "width": 2
         },
         "mode": "lines",
         "opacity": 0.3,
         "showlegend": false,
         "type": "scatter3d",
         "x": [
          -157.68240032342183,
          8558.047547987935
         ],
         "y": [
          -188.19156296897552,
          -98.11176925366915
         ],
         "z": [
          -27000,
          -37309.11912332343
         ]
        },
        {
         "line": {
          "color": "blue",
          "width": 2
         },
         "mode": "lines",
         "opacity": 0.3,
         "showlegend": false,
         "type": "scatter3d",
         "x": [
          606.5059893098527,
          12648.627495259272
         ],
         "y": [
          637.5310896806945,
          3713.2634038250794
         ],
         "z": [
          -27000,
          -21729.593908655756
         ]
        },
        {
         "line": {
          "color": "blue",
          "width": 2
         },
         "mode": "lines",
         "opacity": 0.3,
         "showlegend": false,
         "type": "scatter3d",
         "x": [
          41.391199261192426,
          8992.740531545986
         ],
         "y": [
          350.56507162239467,
          6277.315205344205
         ],
         "z": [
          -27000,
          -18814.831829227143
         ]
        },
        {
         "line": {
          "color": "blue",
          "width": 2
         },
         "mode": "lines",
         "opacity": 0.3,
         "showlegend": false,
         "type": "scatter3d",
         "x": [
          -721.1405273417208,
          12644.370261199394
         ],
         "y": [
          190.01953146350507,
          -810.8288955369981
         ],
         "z": [
          -27000,
          -28615.990033249494
         ]
        },
        {
         "line": {
          "color": "blue",
          "width": 2
         },
         "mode": "lines",
         "opacity": 0.3,
         "showlegend": false,
         "type": "scatter3d",
         "x": [
          308.9419290881223,
          12402.916579796034
         ],
         "y": [
          108.45387196297233,
          -5831.522538058076
         ],
         "z": [
          -27000,
          -26161.87268483368
         ]
        },
        {
         "line": {
          "color": "blue",
          "width": 2
         },
         "mode": "lines",
         "opacity": 0.3,
         "showlegend": false,
         "type": "scatter3d",
         "x": [
          -892.3386365616418,
          12576.690589812823
         ],
         "y": [
          437.4415507329288,
          -264.990516437872
         ],
         "z": [
          -27000,
          -27584.671608751996
         ]
        },
        {
         "line": {
          "color": "blue",
          "width": 2
         },
         "mode": "lines",
         "opacity": 0.3,
         "showlegend": false,
         "type": "scatter3d",
         "x": [
          774.832562885485,
          -9082.238594958455
         ],
         "y": [
          556.1522092163596,
          8942.744247801984
         ],
         "z": [
          -27000,
          -23159.007658490667
         ]
        },
        {
         "line": {
          "color": "blue",
          "width": 2
         },
         "mode": "lines",
         "opacity": 0.3,
         "showlegend": false,
         "type": "scatter3d",
         "x": [
          407.8788142607501,
          5445.981223644111
         ],
         "y": [
          -263.98112340447614,
          10698.744928190816
         ],
         "z": [
          -27000,
          -20943.0897620784
         ]
        },
        {
         "line": {
          "color": "blue",
          "width": 2
         },
         "mode": "lines",
         "opacity": 0.3,
         "showlegend": false,
         "type": "scatter3d",
         "x": [
          -788.731281446771,
          8868.329161573301
         ],
         "y": [
          283.58640948756766,
          4718.437270339508
         ],
         "z": [
          -27000,
          -18673.93962057338
         ]
        },
        {
         "line": {
          "color": "blue",
          "width": 2
         },
         "mode": "lines",
         "opacity": 0.3,
         "showlegend": false,
         "type": "scatter3d",
         "x": [
          712.1446370474662,
          -11698.89695694391
         ],
         "y": [
          575.3529870508913,
          5171.99662268761
         ],
         "z": [
          -27000,
          -29662.125812048795
         ]
        },
        {
         "line": {
          "color": "blue",
          "width": 2
         },
         "mode": "lines",
         "opacity": 0.3,
         "showlegend": false,
         "type": "scatter3d",
         "x": [
          661.7431266426203,
          1896.6935305360412
         ],
         "y": [
          634.1565543791946,
          -11328.912655879049
         ],
         "z": [
          -27000,
          -33132.688853226995
         ]
        },
        {
         "line": {
          "color": "blue",
          "width": 2
         },
         "mode": "lines",
         "opacity": 0.3,
         "showlegend": false,
         "type": "scatter3d",
         "x": [
          793.8070788649727,
          4873.308978708031
         ],
         "y": [
          -398.692973346225,
          -12471.640769832085
         ],
         "z": [
          -27000,
          -22544.4870382296
         ]
        },
        {
         "line": {
          "color": "blue",
          "width": 2
         },
         "mode": "lines",
         "opacity": 0.3,
         "showlegend": false,
         "type": "scatter3d",
         "x": [
          315.6139435107857,
          4048.114933772638
         ],
         "y": [
          -42.7530551480496,
          8967.57721103743
         ],
         "z": [
          -27000,
          -17665.52707155052
         ]
        },
        {
         "line": {
          "color": "blue",
          "width": 2
         },
         "mode": "lines",
         "opacity": 0.3,
         "showlegend": false,
         "type": "scatter3d",
         "x": [
          309.6187136594544,
          2645.2312340473654
         ],
         "y": [
          7.129127116024691,
          2692.2404985541552
         ],
         "z": [
          -27000,
          -13977.515940590256
         ]
        },
        {
         "line": {
          "color": "blue",
          "width": 2
         },
         "mode": "lines",
         "opacity": 0.3,
         "showlegend": false,
         "type": "scatter3d",
         "x": [
          -441.74359464215024,
          -12778.207115202069
         ],
         "y": [
          -582.3620171126811,
          2543.8697783554608
         ],
         "z": [
          -27000,
          -31504.25827044791
         ]
        },
        {
         "line": {
          "color": "blue",
          "width": 2
         },
         "mode": "lines",
         "opacity": 0.3,
         "showlegend": false,
         "type": "scatter3d",
         "x": [
          783.6318413602047,
          -12334.49638031655
         ],
         "y": [
          77.72221782771823,
          -1202.3600909565587
         ],
         "z": [
          -27000,
          -29919.948842426085
         ]
        },
        {
         "line": {
          "color": "blue",
          "width": 2
         },
         "mode": "lines",
         "opacity": 0.3,
         "showlegend": false,
         "type": "scatter3d",
         "x": [
          -406.9979182741457,
          -12720.418932859002
         ],
         "y": [
          315.2532517428773,
          -5200.102371884086
         ],
         "z": [
          -27000,
          -27458.819422547174
         ]
        },
        {
         "line": {
          "color": "blue",
          "width": 2
         },
         "mode": "lines",
         "opacity": 0.3,
         "showlegend": false,
         "type": "scatter3d",
         "x": [
          371.8180829257365,
          6192.3509498391295
         ],
         "y": [
          870.8815525132682,
          12720.503865808945
         ],
         "z": [
          -27000,
          -24179.034176487392
         ]
        },
        {
         "line": {
          "color": "blue",
          "width": 2
         },
         "mode": "lines",
         "opacity": 0.3,
         "showlegend": false,
         "type": "scatter3d",
         "x": [
          -345.22512915024174,
          -3255.077781023543
         ],
         "y": [
          248.07379259085693,
          -12927.966773368538
         ],
         "z": [
          -27000,
          -27417.986301902773
         ]
        },
        {
         "line": {
          "color": "blue",
          "width": 2
         },
         "mode": "lines",
         "opacity": 0.3,
         "showlegend": false,
         "type": "scatter3d",
         "x": [
          582.4379023720594,
          -5095.541358718164
         ],
         "y": [
          656.0593562608833,
          -9162.703484368913
         ],
         "z": [
          -27000,
          -34321.369256505015
         ]
        },
        {
         "line": {
          "color": "blue",
          "width": 2
         },
         "mode": "lines",
         "opacity": 0.3,
         "showlegend": false,
         "type": "scatter3d",
         "x": [
          69.01685040070555,
          -12087.509175443336
         ],
         "y": [
          -901.402535397201,
          4262.355599889593
         ],
         "z": [
          -27000,
          -29793.649388029204
         ]
        },
        {
         "line": {
          "color": "blue",
          "width": 2
         },
         "mode": "lines",
         "opacity": 0.3,
         "showlegend": false,
         "type": "scatter3d",
         "x": [
          333.34613227572777,
          3801.5113949517927
         ],
         "y": [
          -31.987858424096643,
          6150.683148553323
         ],
         "z": [
          -27000,
          -38488.969010761924
         ]
        },
        {
         "line": {
          "color": "blue",
          "width": 2
         },
         "mode": "lines",
         "opacity": 0.3,
         "showlegend": false,
         "type": "scatter3d",
         "x": [
          -191.565229283051,
          3558.8931247348714
         ],
         "y": [
          -935.3053628913268,
          3153.312172986692
         ],
         "z": [
          -27000,
          -39307.20393834798
         ]
        },
        {
         "line": {
          "color": "blue",
          "width": 2
         },
         "mode": "lines",
         "opacity": 0.3,
         "showlegend": false,
         "type": "scatter3d",
         "x": [
          306.92929421422406,
          4458.843421866867
         ],
         "y": [
          -683.2303405298669,
          3361.171155929076
         ],
         "z": [
          -27000,
          -14807.607879827723
         ]
        },
        {
         "line": {
          "color": "blue",
          "width": 2
         },
         "mode": "lines",
         "opacity": 0.3,
         "showlegend": false,
         "type": "scatter3d",
         "x": [
          -333.13207617543344,
          10617.360886966395
         ],
         "y": [
          877.609019970016,
          3998.392030344891
         ],
         "z": [
          -27000,
          -34252.40768754328
         ]
        },
        {
         "line": {
          "color": "blue",
          "width": 2
         },
         "mode": "lines",
         "opacity": 0.3,
         "showlegend": false,
         "type": "scatter3d",
         "x": [
          -123.94194910394268,
          -4453.7477874848055
         ],
         "y": [
          -502.6535559444358,
          6297.920866118849
         ],
         "z": [
          -27000,
          -37828.43335537979
         ]
        },
        {
         "line": {
          "color": "blue",
          "width": 2
         },
         "mode": "lines",
         "opacity": 0.3,
         "showlegend": false,
         "type": "scatter3d",
         "x": [
          434.7698993763901,
          12993.825279954828
         ],
         "y": [
          -452.17241727235455,
          -5001.226333656077
         ],
         "z": [
          -27000,
          -28956.076791283427
         ]
        },
        {
         "line": {
          "color": "blue",
          "width": 2
         },
         "mode": "lines",
         "opacity": 0.3,
         "showlegend": false,
         "type": "scatter3d",
         "x": [
          621.4804035406444,
          -8840.481995011276
         ],
         "y": [
          234.6461693032263,
          -2424.0453479445814
         ],
         "z": [
          -27000,
          -36254.870446662346
         ]
        },
        {
         "line": {
          "color": "blue",
          "width": 2
         },
         "mode": "lines",
         "opacity": 0.3,
         "showlegend": false,
         "type": "scatter3d",
         "x": [
          -153.2947633801857,
          -8879.389239270757
         ],
         "y": [
          238.98922627163446,
          10339.290966701752
         ],
         "z": [
          -27000,
          -24977.82791283818
         ]
        },
        {
         "line": {
          "color": "blue",
          "width": 2
         },
         "mode": "lines",
         "opacity": 0.3,
         "showlegend": false,
         "type": "scatter3d",
         "x": [
          886.9832157690281,
          3203.989404378441
         ],
         "y": [
          457.55219084463283,
          5431.131504848311
         ],
         "z": [
          -27000,
          -39334.70677110973
         ]
        },
        {
         "line": {
          "color": "blue",
          "width": 2
         },
         "mode": "lines",
         "opacity": 0.3,
         "showlegend": false,
         "type": "scatter3d",
         "x": [
          -214.1897662725439,
          10199.008335013385
         ],
         "y": [
          -765.2806137521186,
          7824.719945598217
         ],
         "z": [
          -27000,
          -26835.08883077221
         ]
        },
        {
         "line": {
          "color": "blue",
          "width": 2
         },
         "mode": "lines",
         "opacity": 0.3,
         "showlegend": false,
         "type": "scatter3d",
         "x": [
          -306.5165699160637,
          3955.201170323026
         ],
         "y": [
          872.323050898494,
          13239.574711185602
         ],
         "z": [
          -27000,
          -30337.491314394272
         ]
        },
        {
         "line": {
          "color": "blue",
          "width": 2
         },
         "mode": "lines",
         "opacity": 0.3,
         "showlegend": false,
         "type": "scatter3d",
         "x": [
          -130.4625717557875,
          11285.582001337592
         ],
         "y": [
          938.7411523206922,
          7913.362992277814
         ],
         "z": [
          -27000,
          -28810.683985332147
         ]
        },
        {
         "line": {
          "color": "blue",
          "width": 2
         },
         "mode": "lines",
         "opacity": 0.3,
         "showlegend": false,
         "type": "scatter3d",
         "x": [
          789.8262524601723,
          -10236.920881054757
         ],
         "y": [
          -439.23794724667243,
          3344.73918796143
         ],
         "z": [
          -27000,
          -20192.477345337546
         ]
        },
        {
         "line": {
          "color": "blue",
          "width": 2
         },
         "mode": "lines",
         "opacity": 0.3,
         "showlegend": false,
         "type": "scatter3d",
         "x": [
          -4.442587163992269,
          5226.408311252403
         ],
         "y": [
          378.4260560406253,
          12818.411889393725
         ],
         "z": [
          -27000,
          -27367.35724371599
         ]
        },
        {
         "line": {
          "color": "blue",
          "width": 2
         },
         "mode": "lines",
         "opacity": 0.3,
         "showlegend": false,
         "type": "scatter3d",
         "x": [
          203.25002890320445,
          3509.9963637041237
         ],
         "y": [
          -956.331826485939,
          11058.17418416963
         ],
         "z": [
          -27000,
          -21807.016849901982
         ]
        },
        {
         "line": {
          "color": "blue",
          "width": 2
         },
         "mode": "lines",
         "opacity": 0.3,
         "showlegend": false,
         "type": "scatter3d",
         "x": [
          309.5521670235595,
          -234.24043828281788
         ],
         "y": [
          945.3755928690235,
          13240.454821808713
         ],
         "z": [
          -27000,
          -21451.54829195478
         ]
        },
        {
         "line": {
          "color": "blue",
          "width": 2
         },
         "mode": "lines",
         "opacity": 0.3,
         "showlegend": false,
         "type": "scatter3d",
         "x": [
          575.5447413156538,
          -12621.499098921882
         ],
         "y": [
          428.57742352051633,
          2938.6601848693826
         ],
         "z": [
          -27000,
          -28336.98108065436
         ]
        },
        {
         "line": {
          "color": "blue",
          "width": 2
         },
         "mode": "lines",
         "opacity": 0.3,
         "showlegend": false,
         "type": "scatter3d",
         "x": [
          238.53038026496756,
          9684.46957559047
         ],
         "y": [
          876.3512997602619,
          -2142.2215547672135
         ],
         "z": [
          -27000,
          -36160.37393560565
         ]
        },
        {
         "line": {
          "color": "blue",
          "width": 2
         },
         "mode": "lines",
         "opacity": 0.3,
         "showlegend": false,
         "type": "scatter3d",
         "x": [
          -149.61464058675583,
          11319.125311622494
         ],
         "y": [
          285.3332048537827,
          2580.8957504647487
         ],
         "z": [
          -27000,
          -20258.457408887232
         ]
        },
        {
         "line": {
          "color": "blue",
          "width": 2
         },
         "mode": "lines",
         "opacity": 0.3,
         "showlegend": false,
         "type": "scatter3d",
         "x": [
          -142.5843831028988,
          -6378.468684689474
         ],
         "y": [
          -353.42243478472113,
          9775.94591374784
         ],
         "z": [
          -27000,
          -20615.672013674983
         ]
        },
        {
         "line": {
          "color": "blue",
          "width": 2
         },
         "mode": "lines",
         "opacity": 0.3,
         "showlegend": false,
         "type": "scatter3d",
         "x": [
          -857.3339138282344,
          -13168.991357296398
         ],
         "y": [
          369.5627687097711,
          -4475.678867753128
         ],
         "z": [
          -27000,
          -29682.671146260986
         ]
        },
        {
         "line": {
          "color": "blue",
          "width": 2
         },
         "mode": "lines",
         "opacity": 0.3,
         "showlegend": false,
         "type": "scatter3d",
         "x": [
          810.0619816244796,
          12568.888100430826
         ],
         "y": [
          198.73270870783614,
          -908.8719561588157
         ],
         "z": [
          -27000,
          -33538.59466659644
         ]
        },
        {
         "line": {
          "color": "blue",
          "width": 2
         },
         "mode": "lines",
         "opacity": 0.3,
         "showlegend": false,
         "type": "scatter3d",
         "x": [
          -127.23860668282653,
          5946.187749374976
         ],
         "y": [
          656.1325176003031,
          12433.595725233234
         ],
         "z": [
          -27000,
          -29579.70011636916
         ]
        },
        {
         "line": {
          "color": "blue",
          "width": 2
         },
         "mode": "lines",
         "opacity": 0.3,
         "showlegend": false,
         "type": "scatter3d",
         "x": [
          -426.02969478059913,
          468.82342910390435
         ],
         "y": [
          -25.692352789437685,
          -5886.713585201773
         ],
         "z": [
          -27000,
          -14871.617255384544
         ]
        },
        {
         "line": {
          "color": "blue",
          "width": 2
         },
         "mode": "lines",
         "opacity": 0.3,
         "showlegend": false,
         "type": "scatter3d",
         "x": [
          533.3660584881104,
          11278.640168594266
         ],
         "y": [
          268.5940629084733,
          7988.27709145562
         ],
         "z": [
          -27000,
          -29682.4574996528
         ]
        },
        {
         "line": {
          "color": "blue",
          "width": 2
         },
         "mode": "lines",
         "opacity": 0.3,
         "showlegend": false,
         "type": "scatter3d",
         "x": [
          -438.8833370742984,
          11734.261729054888
         ],
         "y": [
          30.407350959198038,
          5489.679551438669
         ],
         "z": [
          -27000,
          -24935.808574756997
         ]
        },
        {
         "line": {
          "color": "blue",
          "width": 2
         },
         "mode": "lines",
         "opacity": 0.3,
         "showlegend": false,
         "type": "scatter3d",
         "x": [
          -92.89081170601587,
          -3388.180503829956
         ],
         "y": [
          -316.8305817693912,
          -1543.5379943384423
         ],
         "z": [
          -27000,
          -40034.04215003656
         ]
        },
        {
         "line": {
          "color": "blue",
          "width": 2
         },
         "mode": "lines",
         "opacity": 0.3,
         "showlegend": false,
         "type": "scatter3d",
         "x": [
          -709.1080379705598,
          5086.816719368942
         ],
         "y": [
          -117.69403921757205,
          1305.8979660337152
         ],
         "z": [
          -27000,
          -14890.885994019065
         ]
        },
        {
         "line": {
          "color": "blue",
          "width": 2
         },
         "mode": "lines",
         "opacity": 0.3,
         "showlegend": false,
         "type": "scatter3d",
         "x": [
          261.2581855024598,
          -4732.818414930683
         ],
         "y": [
          -885.1219580465915,
          -4050.07158766494
         ],
         "z": [
          -27000,
          -39136.40361684568
         ]
        },
        {
         "line": {
          "color": "blue",
          "width": 2
         },
         "mode": "lines",
         "opacity": 0.3,
         "showlegend": false,
         "type": "scatter3d",
         "x": [
          477.01051046006125,
          9561.644376008488
         ],
         "y": [
          872.8048656321835,
          10814.541502879489
         ],
         "z": [
          -27000,
          -26061.224113781518
         ]
        },
        {
         "line": {
          "color": "blue",
          "width": 2
         },
         "mode": "lines",
         "opacity": 0.3,
         "showlegend": false,
         "type": "scatter3d",
         "x": [
          81.74207119705444,
          12285.95666110068
         ],
         "y": [
          -854.9959561369308,
          4233.708018005994
         ],
         "z": [
          -27000,
          -24277.45741867541
         ]
        },
        {
         "line": {
          "color": "blue",
          "width": 2
         },
         "mode": "lines",
         "opacity": 0.3,
         "showlegend": false,
         "type": "scatter3d",
         "x": [
          -109.68830067638632,
          911.1166951497652
         ],
         "y": [
          -497.8266552474133,
          11275.9932108732
         ],
         "z": [
          -27000,
          -20474.272230575352
         ]
        },
        {
         "line": {
          "color": "blue",
          "width": 2
         },
         "mode": "lines",
         "opacity": 0.3,
         "showlegend": false,
         "type": "scatter3d",
         "x": [
          -623.0003642868429,
          -6510.6095994412235
         ],
         "y": [
          41.015528066597824,
          2581.9080202604728
         ],
         "z": [
          -27000,
          -38879.81156572938
         ]
        },
        {
         "line": {
          "color": "blue",
          "width": 2
         },
         "mode": "lines",
         "opacity": 0.3,
         "showlegend": false,
         "type": "scatter3d",
         "x": [
          -111.74468272342492,
          678.115925876751
         ],
         "y": [
          -889.6335869421493,
          -12459.28408482216
         ],
         "z": [
          -27000,
          -33911.53438650829
         ]
        },
        {
         "line": {
          "color": "blue",
          "width": 2
         },
         "mode": "lines",
         "opacity": 0.3,
         "showlegend": false,
         "type": "scatter3d",
         "x": [
          892.273627759368,
          -8913.914856571813
         ],
         "y": [
          -284.12234923721735,
          -4674.287896649174
         ],
         "z": [
          -27000,
          -18825.948747647373
         ]
        },
        {
         "line": {
          "color": "grey",
          "width": 2
         },
         "mode": "lines",
         "name": "Package wall at z=13700",
         "type": "scatter3d",
         "x": [
          -10000,
          10000,
          10000,
          -10000,
          -10000
         ],
         "y": [
          -10000,
          -10000,
          10000,
          10000,
          -10000
         ],
         "z": [
          13700,
          13700,
          13700,
          13700,
          13700
         ]
        },
        {
         "line": {
          "color": "grey",
          "width": 2
         },
         "mode": "lines",
         "name": "Package wall at z=0",
         "type": "scatter3d",
         "x": [
          -10000,
          10000,
          10000,
          -10000,
          -10000
         ],
         "y": [
          -10000,
          -10000,
          10000,
          10000,
          -10000
         ],
         "z": [
          0,
          0,
          0,
          0,
          0
         ]
        },
        {
         "line": {
          "color": "black",
          "width": 2
         },
         "mode": "lines",
         "name": "Chip at z=15000",
         "type": "scatter3d",
         "x": [
          -2500,
          2500,
          2500,
          -2500,
          -2500
         ],
         "y": [
          -2500,
          -2500,
          2500,
          2500,
          -2500
         ],
         "z": [
          15000,
          15000,
          15000,
          15000,
          15000
         ]
        },
        {
         "line": {
          "color": "red",
          "width": 2
         },
         "mode": "lines",
         "name": "Source Circle at z=-27000 and radius 1000",
         "type": "scatter3d",
         "x": [
          1000,
          997.9866764718845,
          991.9548128307954,
          981.9286972627067,
          967.9487013963562,
          950.0711177409454,
          928.3679330160726,
          902.9265382866212,
          873.849377069785,
          841.2535328311812,
          805.2702575310586,
          766.044443118978,
          723.7340381050702,
          678.5094115571321,
          630.5526670845225,
          580.0569095711982,
          527.2254676105024,
          472.2710747726827,
          415.41501300188645,
          356.8862215918719,
          296.92037532827493,
          235.7589355094273,
          173.64817766693042,
          110.8381999010111,
          47.58191582374218,
          -15.865963834808028,
          -79.24995685678854,
          -142.31483827328523,
          -204.80666806519073,
          -266.47381369003506,
          -327.0679633174217,
          -386.3451256931287,
          -444.06661260577414,
          -500.0000000000002,
          -553.9200638661102,
          -605.6096871376668,
          -654.860733945285,
          -701.4748877063214,
          -745.2644496757547,
          -786.0530947427875,
          -823.6765814298327,
          -857.9834132349771,
          -888.8354486549233,
          -916.1084574320696,
          -939.6926207859083,
          -959.4929736144974,
          -975.429786885407,
          -987.4388886763943,
          -995.4719225730846,
          -999.4965423831851,
          -999.4965423831851,
          -995.4719225730846,
          -987.4388886763943,
          -975.429786885407,
          -959.4929736144974,
          -939.6926207859084,
          -916.1084574320696,
          -888.8354486549234,
          -857.983413234977,
          -823.6765814298328,
          -786.0530947427874,
          -745.2644496757548,
          -701.4748877063213,
          -654.8607339452852,
          -605.6096871376666,
          -553.9200638661105,
          -499.9999999999996,
          -444.06661260577397,
          -386.3451256931287,
          -327.06796331742186,
          -266.47381369003466,
          -204.80666806519054,
          -142.31483827328523,
          -79.24995685678878,
          -15.865963834807609,
          47.581915823742385,
          110.83819990101087,
          173.64817766692997,
          235.7589355094275,
          296.92037532827493,
          356.8862215918717,
          415.41501300188685,
          472.2710747726829,
          527.2254676105024,
          580.0569095711979,
          630.5526670845228,
          678.5094115571322,
          723.7340381050701,
          766.0444431189778,
          805.2702575310587,
          841.2535328311812,
          873.8493770697849,
          902.926538286621,
          928.3679330160727,
          950.0711177409454,
          967.9487013963562,
          981.9286972627068,
          991.9548128307954,
          997.9866764718845,
          1000
         ],
         "y": [
          0,
          63.42391965656451,
          126.59245357374927,
          189.25124436041023,
          251.14798718107923,
          312.0334456984871,
          371.66245566032757,
          429.79491208917165,
          486.1967361004687,
          540.6408174555976,
          592.9079290546404,
          642.7876096865392,
          690.079011482112,
          734.5917086575333,
          776.1464642917568,
          814.5759520503357,
          849.7254299495144,
          881.4533634475821,
          909.6319953545184,
          934.1478602651066,
          954.9022414440739,
          971.8115683235417,
          984.807753012208,
          993.8384644612541,
          998.867339183008,
          999.874127673875,
          996.8547759519424,
          989.8214418809326,
          978.8024462147788,
          963.842158559942,
          945.0008187146684,
          922.3542941045814,
          895.9937742913359,
          866.0254037844386,
          832.5698546347714,
          795.7618405308319,
          755.7495743542582,
          712.6941713788627,
          666.7690005162916,
          618.1589862206051,
          567.0598638627708,
          513.6773915734063,
          458.2265217274105,
          400.9305354066136,
          342.02014332566887,
          281.7325568414297,
          220.31053278654082,
          158.0013959733499,
          95.05604330418244,
          31.727933498067657,
          -31.72793349806786,
          -95.05604330418264,
          -158.00139597335007,
          -220.31053278654056,
          -281.7325568414298,
          -342.02014332566864,
          -400.9305354066138,
          -458.2265217274103,
          -513.6773915734065,
          -567.0598638627706,
          -618.1589862206052,
          -666.7690005162915,
          -712.694171378863,
          -755.7495743542581,
          -795.761840530832,
          -832.5698546347713,
          -866.0254037844388,
          -895.993774291336,
          -922.3542941045814,
          -945.0008187146683,
          -963.8421585599422,
          -978.8024462147788,
          -989.8214418809326,
          -996.8547759519423,
          -999.874127673875,
          -998.867339183008,
          -993.8384644612541,
          -984.8077530122081,
          -971.8115683235417,
          -954.9022414440739,
          -934.1478602651067,
          -909.6319953545183,
          -881.453363447582,
          -849.7254299495144,
          -814.5759520503358,
          -776.1464642917566,
          -734.5917086575331,
          -690.079011482112,
          -642.7876096865396,
          -592.9079290546401,
          -540.6408174555975,
          -486.1967361004688,
          -429.79491208917193,
          -371.6624556603272,
          -312.03344569848707,
          -251.1479871810794,
          -189.25124436040974,
          -126.59245357374904,
          -63.42391965656452,
          -2.4492935982947065e-13
         ],
         "z": [
          -27000,
          -27000,
          -27000,
          -27000,
          -27000,
          -27000,
          -27000,
          -27000,
          -27000,
          -27000,
          -27000,
          -27000,
          -27000,
          -27000,
          -27000,
          -27000,
          -27000,
          -27000,
          -27000,
          -27000,
          -27000,
          -27000,
          -27000,
          -27000,
          -27000,
          -27000,
          -27000,
          -27000,
          -27000,
          -27000,
          -27000,
          -27000,
          -27000,
          -27000,
          -27000,
          -27000,
          -27000,
          -27000,
          -27000,
          -27000,
          -27000,
          -27000,
          -27000,
          -27000,
          -27000,
          -27000,
          -27000,
          -27000,
          -27000,
          -27000,
          -27000,
          -27000,
          -27000,
          -27000,
          -27000,
          -27000,
          -27000,
          -27000,
          -27000,
          -27000,
          -27000,
          -27000,
          -27000,
          -27000,
          -27000,
          -27000,
          -27000,
          -27000,
          -27000,
          -27000,
          -27000,
          -27000,
          -27000,
          -27000,
          -27000,
          -27000,
          -27000,
          -27000,
          -27000,
          -27000,
          -27000,
          -27000,
          -27000,
          -27000,
          -27000,
          -27000,
          -27000,
          -27000,
          -27000,
          -27000,
          -27000,
          -27000,
          -27000,
          -27000,
          -27000,
          -27000,
          -27000,
          -27000,
          -27000,
          -27000
         ]
        },
        {
         "line": {
          "color": "green",
          "width": 3
         },
         "mode": "lines",
         "showlegend": false,
         "type": "scatter3d",
         "x": [
          1200,
          1190.1480165878954,
          1160.7538356468353,
          1112.3001088152262,
          1045.5824449480674,
          961.6963462415481,
          862.0192201172732,
          748.1877622304803,
          622.0710819726302,
          485.7400117468728,
          341.4331039572392,
          191.51987404005519,
          38.4618930859864,
          -115.22763108921785,
          -267.0251207475772,
          -414.438065305569,
          -555.0459482890021,
          -686.5399921466034,
          -806.7610683135799,
          -913.7351500429611,
          -1005.7057258702084,
          -1081.162641482903,
          -1138.8668964128024,
          -1177.8709883892784,
          -1197.5344713004035,
          -1197.5344713004035,
          -1177.8709883892786,
          -1138.8668964128026,
          -1081.162641482903,
          -1005.7057258702089,
          -913.7351500429615,
          -806.7610683135804,
          -686.539992146604,
          -555.0459482890024,
          -414.4380653055698,
          -267.0251207475775,
          -115.22763108921893,
          38.461893085985835,
          191.51987404005408,
          341.4331039572384,
          485.7400117468715,
          622.0710819726294,
          748.1877622304801,
          862.0192201172724,
          961.6963462415476,
          1045.5824449480667,
          1112.300108815226,
          1160.753835646835,
          1190.1480165878952,
          1200
         ],
         "y": [
          0,
          153.4525940214072,
          304.3855006914088,
          450.3204058552489,
          588.8610624047254,
          717.732636589459,
          834.8190607241837,
          938.1977789616358,
          1026.1713156064152,
          1097.2951476189749,
          1150.4014236439928,
          1184.61814009734,
          1199.3834594408254,
          1194.454935539038,
          1169.9134946181885,
          1126.1621064597125,
          1063.9191676476,
          984.2067055163471,
          888.3335964903789,
          777.8740743693465,
          654.6418814526588,
          520.6604869410698,
          378.12986162834505,
          229.39035444164705,
          76.88426397685588,
          -76.88426397685507,
          -229.39035444164625,
          -378.12986162834426,
          -520.6604869410696,
          -654.6418814526581,
          -777.8740743693459,
          -888.3335964903783,
          -984.2067055163468,
          -1063.9191676476,
          -1126.1621064597123,
          -1169.9134946181885,
          -1194.4549355390377,
          -1199.3834594408254,
          -1184.6181400973403,
          -1150.401423643993,
          -1097.2951476189753,
          -1026.1713156064156,
          -938.1977789616359,
          -834.8190607241843,
          -717.7326365894595,
          -588.8610624047263,
          -450.32040585524953,
          -304.38550069141,
          -153.45259402140798,
          -2.9391523179536476e-13
         ],
         "z": [
          0,
          0,
          0,
          0,
          0,
          0,
          0,
          0,
          0,
          0,
          0,
          0,
          0,
          0,
          0,
          0,
          0,
          0,
          0,
          0,
          0,
          0,
          0,
          0,
          0,
          0,
          0,
          0,
          0,
          0,
          0,
          0,
          0,
          0,
          0,
          0,
          0,
          0,
          0,
          0,
          0,
          0,
          0,
          0,
          0,
          0,
          0,
          0,
          0,
          0
         ]
        },
        {
         "line": {
          "color": "green",
          "width": 3
         },
         "mode": "lines",
         "showlegend": false,
         "type": "scatter3d",
         "x": [
          1500,
          1487.6850207348693,
          1450.9422945585443,
          1390.3751360190327,
          1306.9780561850841,
          1202.120432801935,
          1077.5240251465916,
          935.2347027881004,
          777.5888524657878,
          607.175014683591,
          426.791379946549,
          239.39984255006897,
          48.077366357483,
          -144.03453886152232,
          -333.7814009344715,
          -518.0475816319613,
          -693.8074353612526,
          -858.1749901832542,
          -1008.4513353919748,
          -1142.1689375537012,
          -1257.1321573377606,
          -1351.4533018536285,
          -1423.583620516003,
          -1472.338735486598,
          -1496.9180891255046,
          -1496.9180891255046,
          -1472.3387354865981,
          -1423.5836205160033,
          -1351.4533018536288,
          -1257.132157337761,
          -1142.1689375537019,
          -1008.4513353919755,
          -858.174990183255,
          -693.8074353612529,
          -518.0475816319622,
          -333.7814009344719,
          -144.03453886152366,
          48.07736635748229,
          239.3998425500676,
          426.791379946548,
          607.1750146835894,
          777.5888524657868,
          935.2347027881001,
          1077.5240251465905,
          1202.1204328019346,
          1306.9780561850835,
          1390.3751360190324,
          1450.9422945585436,
          1487.685020734869,
          1500
         ],
         "y": [
          0,
          191.81574252675898,
          380.48187586426104,
          562.9005073190611,
          736.0763280059068,
          897.1657957368238,
          1043.5238259052296,
          1172.7472237020447,
          1282.7141445080192,
          1371.6189345237185,
          1438.001779554991,
          1480.772675121675,
          1499.2293243010317,
          1493.0686694237972,
          1462.3918682727353,
          1407.7026330746407,
          1329.8989595595,
          1230.258381895434,
          1110.4169956129736,
          972.3425929616832,
          818.3023518158236,
          650.8256086763373,
          472.6623270354313,
          286.7379430520588,
          96.10532997106985,
          -96.10532997106883,
          -286.7379430520578,
          -472.66232703543034,
          -650.825608676337,
          -818.3023518158227,
          -972.3425929616823,
          -1110.4169956129729,
          -1230.2583818954336,
          -1329.8989595595,
          -1407.7026330746403,
          -1462.3918682727353,
          -1493.0686694237972,
          -1499.2293243010317,
          -1480.7726751216753,
          -1438.0017795549911,
          -1371.6189345237192,
          -1282.7141445080197,
          -1172.747223702045,
          -1043.5238259052303,
          -897.1657957368243,
          -736.076328005908,
          -562.9005073190618,
          -380.4818758642625,
          -191.81574252675995,
          -3.6739403974420595e-13
         ],
         "z": [
          13700,
          13700,
          13700,
          13700,
          13700,
          13700,
          13700,
          13700,
          13700,
          13700,
          13700,
          13700,
          13700,
          13700,
          13700,
          13700,
          13700,
          13700,
          13700,
          13700,
          13700,
          13700,
          13700,
          13700,
          13700,
          13700,
          13700,
          13700,
          13700,
          13700,
          13700,
          13700,
          13700,
          13700,
          13700,
          13700,
          13700,
          13700,
          13700,
          13700,
          13700,
          13700,
          13700,
          13700,
          13700,
          13700,
          13700,
          13700,
          13700,
          13700
         ]
        },
        {
         "line": {
          "color": "green",
          "width": 3
         },
         "mode": "lines",
         "showlegend": false,
         "type": "scatter3d",
         "x": [
          1200,
          1500
         ],
         "y": [
          0,
          0
         ],
         "z": [
          0,
          13700
         ]
        },
        {
         "line": {
          "color": "green",
          "width": 3
         },
         "mode": "lines",
         "showlegend": false,
         "type": "scatter3d",
         "x": [
          1190.1480165878954,
          1487.6850207348693
         ],
         "y": [
          153.4525940214072,
          191.81574252675898
         ],
         "z": [
          0,
          13700
         ]
        },
        {
         "line": {
          "color": "green",
          "width": 3
         },
         "mode": "lines",
         "showlegend": false,
         "type": "scatter3d",
         "x": [
          1160.7538356468353,
          1450.9422945585443
         ],
         "y": [
          304.3855006914088,
          380.48187586426104
         ],
         "z": [
          0,
          13700
         ]
        },
        {
         "line": {
          "color": "green",
          "width": 3
         },
         "mode": "lines",
         "showlegend": false,
         "type": "scatter3d",
         "x": [
          1112.3001088152262,
          1390.3751360190327
         ],
         "y": [
          450.3204058552489,
          562.9005073190611
         ],
         "z": [
          0,
          13700
         ]
        },
        {
         "line": {
          "color": "green",
          "width": 3
         },
         "mode": "lines",
         "showlegend": false,
         "type": "scatter3d",
         "x": [
          1045.5824449480674,
          1306.9780561850841
         ],
         "y": [
          588.8610624047254,
          736.0763280059068
         ],
         "z": [
          0,
          13700
         ]
        },
        {
         "line": {
          "color": "green",
          "width": 3
         },
         "mode": "lines",
         "showlegend": false,
         "type": "scatter3d",
         "x": [
          961.6963462415481,
          1202.120432801935
         ],
         "y": [
          717.732636589459,
          897.1657957368238
         ],
         "z": [
          0,
          13700
         ]
        },
        {
         "line": {
          "color": "green",
          "width": 3
         },
         "mode": "lines",
         "showlegend": false,
         "type": "scatter3d",
         "x": [
          862.0192201172732,
          1077.5240251465916
         ],
         "y": [
          834.8190607241837,
          1043.5238259052296
         ],
         "z": [
          0,
          13700
         ]
        },
        {
         "line": {
          "color": "green",
          "width": 3
         },
         "mode": "lines",
         "showlegend": false,
         "type": "scatter3d",
         "x": [
          748.1877622304803,
          935.2347027881004
         ],
         "y": [
          938.1977789616358,
          1172.7472237020447
         ],
         "z": [
          0,
          13700
         ]
        },
        {
         "line": {
          "color": "green",
          "width": 3
         },
         "mode": "lines",
         "showlegend": false,
         "type": "scatter3d",
         "x": [
          622.0710819726302,
          777.5888524657878
         ],
         "y": [
          1026.1713156064152,
          1282.7141445080192
         ],
         "z": [
          0,
          13700
         ]
        },
        {
         "line": {
          "color": "green",
          "width": 3
         },
         "mode": "lines",
         "showlegend": false,
         "type": "scatter3d",
         "x": [
          485.7400117468728,
          607.175014683591
         ],
         "y": [
          1097.2951476189749,
          1371.6189345237185
         ],
         "z": [
          0,
          13700
         ]
        },
        {
         "line": {
          "color": "green",
          "width": 3
         },
         "mode": "lines",
         "showlegend": false,
         "type": "scatter3d",
         "x": [
          341.4331039572392,
          426.791379946549
         ],
         "y": [
          1150.4014236439928,
          1438.001779554991
         ],
         "z": [
          0,
          13700
         ]
        },
        {
         "line": {
          "color": "green",
          "width": 3
         },
         "mode": "lines",
         "showlegend": false,
         "type": "scatter3d",
         "x": [
          191.51987404005519,
          239.39984255006897
         ],
         "y": [
          1184.61814009734,
          1480.772675121675
         ],
         "z": [
          0,
          13700
         ]
        },
        {
         "line": {
          "color": "green",
          "width": 3
         },
         "mode": "lines",
         "showlegend": false,
         "type": "scatter3d",
         "x": [
          38.4618930859864,
          48.077366357483
         ],
         "y": [
          1199.3834594408254,
          1499.2293243010317
         ],
         "z": [
          0,
          13700
         ]
        },
        {
         "line": {
          "color": "green",
          "width": 3
         },
         "mode": "lines",
         "showlegend": false,
         "type": "scatter3d",
         "x": [
          -115.22763108921785,
          -144.03453886152232
         ],
         "y": [
          1194.454935539038,
          1493.0686694237972
         ],
         "z": [
          0,
          13700
         ]
        },
        {
         "line": {
          "color": "green",
          "width": 3
         },
         "mode": "lines",
         "showlegend": false,
         "type": "scatter3d",
         "x": [
          -267.0251207475772,
          -333.7814009344715
         ],
         "y": [
          1169.9134946181885,
          1462.3918682727353
         ],
         "z": [
          0,
          13700
         ]
        },
        {
         "line": {
          "color": "green",
          "width": 3
         },
         "mode": "lines",
         "showlegend": false,
         "type": "scatter3d",
         "x": [
          -414.438065305569,
          -518.0475816319613
         ],
         "y": [
          1126.1621064597125,
          1407.7026330746407
         ],
         "z": [
          0,
          13700
         ]
        },
        {
         "line": {
          "color": "green",
          "width": 3
         },
         "mode": "lines",
         "showlegend": false,
         "type": "scatter3d",
         "x": [
          -555.0459482890021,
          -693.8074353612526
         ],
         "y": [
          1063.9191676476,
          1329.8989595595
         ],
         "z": [
          0,
          13700
         ]
        },
        {
         "line": {
          "color": "green",
          "width": 3
         },
         "mode": "lines",
         "showlegend": false,
         "type": "scatter3d",
         "x": [
          -686.5399921466034,
          -858.1749901832542
         ],
         "y": [
          984.2067055163471,
          1230.258381895434
         ],
         "z": [
          0,
          13700
         ]
        },
        {
         "line": {
          "color": "green",
          "width": 3
         },
         "mode": "lines",
         "showlegend": false,
         "type": "scatter3d",
         "x": [
          -806.7610683135799,
          -1008.4513353919748
         ],
         "y": [
          888.3335964903789,
          1110.4169956129736
         ],
         "z": [
          0,
          13700
         ]
        },
        {
         "line": {
          "color": "green",
          "width": 3
         },
         "mode": "lines",
         "showlegend": false,
         "type": "scatter3d",
         "x": [
          -913.7351500429611,
          -1142.1689375537012
         ],
         "y": [
          777.8740743693465,
          972.3425929616832
         ],
         "z": [
          0,
          13700
         ]
        },
        {
         "line": {
          "color": "green",
          "width": 3
         },
         "mode": "lines",
         "showlegend": false,
         "type": "scatter3d",
         "x": [
          -1005.7057258702084,
          -1257.1321573377606
         ],
         "y": [
          654.6418814526588,
          818.3023518158236
         ],
         "z": [
          0,
          13700
         ]
        },
        {
         "line": {
          "color": "green",
          "width": 3
         },
         "mode": "lines",
         "showlegend": false,
         "type": "scatter3d",
         "x": [
          -1081.162641482903,
          -1351.4533018536285
         ],
         "y": [
          520.6604869410698,
          650.8256086763373
         ],
         "z": [
          0,
          13700
         ]
        },
        {
         "line": {
          "color": "green",
          "width": 3
         },
         "mode": "lines",
         "showlegend": false,
         "type": "scatter3d",
         "x": [
          -1138.8668964128024,
          -1423.583620516003
         ],
         "y": [
          378.12986162834505,
          472.6623270354313
         ],
         "z": [
          0,
          13700
         ]
        },
        {
         "line": {
          "color": "green",
          "width": 3
         },
         "mode": "lines",
         "showlegend": false,
         "type": "scatter3d",
         "x": [
          -1177.8709883892784,
          -1472.338735486598
         ],
         "y": [
          229.39035444164705,
          286.7379430520588
         ],
         "z": [
          0,
          13700
         ]
        },
        {
         "line": {
          "color": "green",
          "width": 3
         },
         "mode": "lines",
         "showlegend": false,
         "type": "scatter3d",
         "x": [
          -1197.5344713004035,
          -1496.9180891255046
         ],
         "y": [
          76.88426397685588,
          96.10532997106985
         ],
         "z": [
          0,
          13700
         ]
        },
        {
         "line": {
          "color": "green",
          "width": 3
         },
         "mode": "lines",
         "showlegend": false,
         "type": "scatter3d",
         "x": [
          -1197.5344713004035,
          -1496.9180891255046
         ],
         "y": [
          -76.88426397685507,
          -96.10532997106883
         ],
         "z": [
          0,
          13700
         ]
        },
        {
         "line": {
          "color": "green",
          "width": 3
         },
         "mode": "lines",
         "showlegend": false,
         "type": "scatter3d",
         "x": [
          -1177.8709883892786,
          -1472.3387354865981
         ],
         "y": [
          -229.39035444164625,
          -286.7379430520578
         ],
         "z": [
          0,
          13700
         ]
        },
        {
         "line": {
          "color": "green",
          "width": 3
         },
         "mode": "lines",
         "showlegend": false,
         "type": "scatter3d",
         "x": [
          -1138.8668964128026,
          -1423.5836205160033
         ],
         "y": [
          -378.12986162834426,
          -472.66232703543034
         ],
         "z": [
          0,
          13700
         ]
        },
        {
         "line": {
          "color": "green",
          "width": 3
         },
         "mode": "lines",
         "showlegend": false,
         "type": "scatter3d",
         "x": [
          -1081.162641482903,
          -1351.4533018536288
         ],
         "y": [
          -520.6604869410696,
          -650.825608676337
         ],
         "z": [
          0,
          13700
         ]
        },
        {
         "line": {
          "color": "green",
          "width": 3
         },
         "mode": "lines",
         "showlegend": false,
         "type": "scatter3d",
         "x": [
          -1005.7057258702089,
          -1257.132157337761
         ],
         "y": [
          -654.6418814526581,
          -818.3023518158227
         ],
         "z": [
          0,
          13700
         ]
        },
        {
         "line": {
          "color": "green",
          "width": 3
         },
         "mode": "lines",
         "showlegend": false,
         "type": "scatter3d",
         "x": [
          -913.7351500429615,
          -1142.1689375537019
         ],
         "y": [
          -777.8740743693459,
          -972.3425929616823
         ],
         "z": [
          0,
          13700
         ]
        },
        {
         "line": {
          "color": "green",
          "width": 3
         },
         "mode": "lines",
         "showlegend": false,
         "type": "scatter3d",
         "x": [
          -806.7610683135804,
          -1008.4513353919755
         ],
         "y": [
          -888.3335964903783,
          -1110.4169956129729
         ],
         "z": [
          0,
          13700
         ]
        },
        {
         "line": {
          "color": "green",
          "width": 3
         },
         "mode": "lines",
         "showlegend": false,
         "type": "scatter3d",
         "x": [
          -686.539992146604,
          -858.174990183255
         ],
         "y": [
          -984.2067055163468,
          -1230.2583818954336
         ],
         "z": [
          0,
          13700
         ]
        },
        {
         "line": {
          "color": "green",
          "width": 3
         },
         "mode": "lines",
         "showlegend": false,
         "type": "scatter3d",
         "x": [
          -555.0459482890024,
          -693.8074353612529
         ],
         "y": [
          -1063.9191676476,
          -1329.8989595595
         ],
         "z": [
          0,
          13700
         ]
        },
        {
         "line": {
          "color": "green",
          "width": 3
         },
         "mode": "lines",
         "showlegend": false,
         "type": "scatter3d",
         "x": [
          -414.4380653055698,
          -518.0475816319622
         ],
         "y": [
          -1126.1621064597123,
          -1407.7026330746403
         ],
         "z": [
          0,
          13700
         ]
        },
        {
         "line": {
          "color": "green",
          "width": 3
         },
         "mode": "lines",
         "showlegend": false,
         "type": "scatter3d",
         "x": [
          -267.0251207475775,
          -333.7814009344719
         ],
         "y": [
          -1169.9134946181885,
          -1462.3918682727353
         ],
         "z": [
          0,
          13700
         ]
        },
        {
         "line": {
          "color": "green",
          "width": 3
         },
         "mode": "lines",
         "showlegend": false,
         "type": "scatter3d",
         "x": [
          -115.22763108921893,
          -144.03453886152366
         ],
         "y": [
          -1194.4549355390377,
          -1493.0686694237972
         ],
         "z": [
          0,
          13700
         ]
        },
        {
         "line": {
          "color": "green",
          "width": 3
         },
         "mode": "lines",
         "showlegend": false,
         "type": "scatter3d",
         "x": [
          38.461893085985835,
          48.07736635748229
         ],
         "y": [
          -1199.3834594408254,
          -1499.2293243010317
         ],
         "z": [
          0,
          13700
         ]
        },
        {
         "line": {
          "color": "green",
          "width": 3
         },
         "mode": "lines",
         "showlegend": false,
         "type": "scatter3d",
         "x": [
          191.51987404005408,
          239.3998425500676
         ],
         "y": [
          -1184.6181400973403,
          -1480.7726751216753
         ],
         "z": [
          0,
          13700
         ]
        },
        {
         "line": {
          "color": "green",
          "width": 3
         },
         "mode": "lines",
         "showlegend": false,
         "type": "scatter3d",
         "x": [
          341.4331039572384,
          426.791379946548
         ],
         "y": [
          -1150.401423643993,
          -1438.0017795549911
         ],
         "z": [
          0,
          13700
         ]
        },
        {
         "line": {
          "color": "green",
          "width": 3
         },
         "mode": "lines",
         "showlegend": false,
         "type": "scatter3d",
         "x": [
          485.7400117468715,
          607.1750146835894
         ],
         "y": [
          -1097.2951476189753,
          -1371.6189345237192
         ],
         "z": [
          0,
          13700
         ]
        },
        {
         "line": {
          "color": "green",
          "width": 3
         },
         "mode": "lines",
         "showlegend": false,
         "type": "scatter3d",
         "x": [
          622.0710819726294,
          777.5888524657868
         ],
         "y": [
          -1026.1713156064156,
          -1282.7141445080197
         ],
         "z": [
          0,
          13700
         ]
        },
        {
         "line": {
          "color": "green",
          "width": 3
         },
         "mode": "lines",
         "showlegend": false,
         "type": "scatter3d",
         "x": [
          748.1877622304801,
          935.2347027881001
         ],
         "y": [
          -938.1977789616359,
          -1172.747223702045
         ],
         "z": [
          0,
          13700
         ]
        },
        {
         "line": {
          "color": "green",
          "width": 3
         },
         "mode": "lines",
         "showlegend": false,
         "type": "scatter3d",
         "x": [
          862.0192201172724,
          1077.5240251465905
         ],
         "y": [
          -834.8190607241843,
          -1043.5238259052303
         ],
         "z": [
          0,
          13700
         ]
        },
        {
         "line": {
          "color": "green",
          "width": 3
         },
         "mode": "lines",
         "showlegend": false,
         "type": "scatter3d",
         "x": [
          961.6963462415476,
          1202.1204328019346
         ],
         "y": [
          -717.7326365894595,
          -897.1657957368243
         ],
         "z": [
          0,
          13700
         ]
        },
        {
         "line": {
          "color": "green",
          "width": 3
         },
         "mode": "lines",
         "showlegend": false,
         "type": "scatter3d",
         "x": [
          1045.5824449480667,
          1306.9780561850835
         ],
         "y": [
          -588.8610624047263,
          -736.076328005908
         ],
         "z": [
          0,
          13700
         ]
        },
        {
         "line": {
          "color": "green",
          "width": 3
         },
         "mode": "lines",
         "showlegend": false,
         "type": "scatter3d",
         "x": [
          1112.300108815226,
          1390.3751360190324
         ],
         "y": [
          -450.32040585524953,
          -562.9005073190618
         ],
         "z": [
          0,
          13700
         ]
        },
        {
         "line": {
          "color": "green",
          "width": 3
         },
         "mode": "lines",
         "showlegend": false,
         "type": "scatter3d",
         "x": [
          1160.753835646835,
          1450.9422945585436
         ],
         "y": [
          -304.38550069141,
          -380.4818758642625
         ],
         "z": [
          0,
          13700
         ]
        },
        {
         "line": {
          "color": "green",
          "width": 3
         },
         "mode": "lines",
         "showlegend": false,
         "type": "scatter3d",
         "x": [
          1190.1480165878952,
          1487.685020734869
         ],
         "y": [
          -153.45259402140798,
          -191.81574252675995
         ],
         "z": [
          0,
          13700
         ]
        },
        {
         "line": {
          "color": "green",
          "width": 3
         },
         "mode": "lines",
         "showlegend": false,
         "type": "scatter3d",
         "x": [
          1200,
          1500
         ],
         "y": [
          -2.9391523179536476e-13,
          -3.6739403974420595e-13
         ],
         "z": [
          0,
          13700
         ]
        }
       ],
       "layout": {
        "scene": {
         "xaxis": {
          "title": {
           "text": "X"
          }
         },
         "yaxis": {
          "title": {
           "text": "Y"
          }
         },
         "zaxis": {
          "title": {
           "text": "Z"
          }
         }
        },
        "showlegend": true,
        "template": {
         "data": {
          "bar": [
           {
            "error_x": {
             "color": "#2a3f5f"
            },
            "error_y": {
             "color": "#2a3f5f"
            },
            "marker": {
             "line": {
              "color": "#E5ECF6",
              "width": 0.5
             },
             "pattern": {
              "fillmode": "overlay",
              "size": 10,
              "solidity": 0.2
             }
            },
            "type": "bar"
           }
          ],
          "barpolar": [
           {
            "marker": {
             "line": {
              "color": "#E5ECF6",
              "width": 0.5
             },
             "pattern": {
              "fillmode": "overlay",
              "size": 10,
              "solidity": 0.2
             }
            },
            "type": "barpolar"
           }
          ],
          "carpet": [
           {
            "aaxis": {
             "endlinecolor": "#2a3f5f",
             "gridcolor": "white",
             "linecolor": "white",
             "minorgridcolor": "white",
             "startlinecolor": "#2a3f5f"
            },
            "baxis": {
             "endlinecolor": "#2a3f5f",
             "gridcolor": "white",
             "linecolor": "white",
             "minorgridcolor": "white",
             "startlinecolor": "#2a3f5f"
            },
            "type": "carpet"
           }
          ],
          "choropleth": [
           {
            "colorbar": {
             "outlinewidth": 0,
             "ticks": ""
            },
            "type": "choropleth"
           }
          ],
          "contour": [
           {
            "colorbar": {
             "outlinewidth": 0,
             "ticks": ""
            },
            "colorscale": [
             [
              0,
              "#0d0887"
             ],
             [
              0.1111111111111111,
              "#46039f"
             ],
             [
              0.2222222222222222,
              "#7201a8"
             ],
             [
              0.3333333333333333,
              "#9c179e"
             ],
             [
              0.4444444444444444,
              "#bd3786"
             ],
             [
              0.5555555555555556,
              "#d8576b"
             ],
             [
              0.6666666666666666,
              "#ed7953"
             ],
             [
              0.7777777777777778,
              "#fb9f3a"
             ],
             [
              0.8888888888888888,
              "#fdca26"
             ],
             [
              1,
              "#f0f921"
             ]
            ],
            "type": "contour"
           }
          ],
          "contourcarpet": [
           {
            "colorbar": {
             "outlinewidth": 0,
             "ticks": ""
            },
            "type": "contourcarpet"
           }
          ],
          "heatmap": [
           {
            "colorbar": {
             "outlinewidth": 0,
             "ticks": ""
            },
            "colorscale": [
             [
              0,
              "#0d0887"
             ],
             [
              0.1111111111111111,
              "#46039f"
             ],
             [
              0.2222222222222222,
              "#7201a8"
             ],
             [
              0.3333333333333333,
              "#9c179e"
             ],
             [
              0.4444444444444444,
              "#bd3786"
             ],
             [
              0.5555555555555556,
              "#d8576b"
             ],
             [
              0.6666666666666666,
              "#ed7953"
             ],
             [
              0.7777777777777778,
              "#fb9f3a"
             ],
             [
              0.8888888888888888,
              "#fdca26"
             ],
             [
              1,
              "#f0f921"
             ]
            ],
            "type": "heatmap"
           }
          ],
          "heatmapgl": [
           {
            "colorbar": {
             "outlinewidth": 0,
             "ticks": ""
            },
            "colorscale": [
             [
              0,
              "#0d0887"
             ],
             [
              0.1111111111111111,
              "#46039f"
             ],
             [
              0.2222222222222222,
              "#7201a8"
             ],
             [
              0.3333333333333333,
              "#9c179e"
             ],
             [
              0.4444444444444444,
              "#bd3786"
             ],
             [
              0.5555555555555556,
              "#d8576b"
             ],
             [
              0.6666666666666666,
              "#ed7953"
             ],
             [
              0.7777777777777778,
              "#fb9f3a"
             ],
             [
              0.8888888888888888,
              "#fdca26"
             ],
             [
              1,
              "#f0f921"
             ]
            ],
            "type": "heatmapgl"
           }
          ],
          "histogram": [
           {
            "marker": {
             "pattern": {
              "fillmode": "overlay",
              "size": 10,
              "solidity": 0.2
             }
            },
            "type": "histogram"
           }
          ],
          "histogram2d": [
           {
            "colorbar": {
             "outlinewidth": 0,
             "ticks": ""
            },
            "colorscale": [
             [
              0,
              "#0d0887"
             ],
             [
              0.1111111111111111,
              "#46039f"
             ],
             [
              0.2222222222222222,
              "#7201a8"
             ],
             [
              0.3333333333333333,
              "#9c179e"
             ],
             [
              0.4444444444444444,
              "#bd3786"
             ],
             [
              0.5555555555555556,
              "#d8576b"
             ],
             [
              0.6666666666666666,
              "#ed7953"
             ],
             [
              0.7777777777777778,
              "#fb9f3a"
             ],
             [
              0.8888888888888888,
              "#fdca26"
             ],
             [
              1,
              "#f0f921"
             ]
            ],
            "type": "histogram2d"
           }
          ],
          "histogram2dcontour": [
           {
            "colorbar": {
             "outlinewidth": 0,
             "ticks": ""
            },
            "colorscale": [
             [
              0,
              "#0d0887"
             ],
             [
              0.1111111111111111,
              "#46039f"
             ],
             [
              0.2222222222222222,
              "#7201a8"
             ],
             [
              0.3333333333333333,
              "#9c179e"
             ],
             [
              0.4444444444444444,
              "#bd3786"
             ],
             [
              0.5555555555555556,
              "#d8576b"
             ],
             [
              0.6666666666666666,
              "#ed7953"
             ],
             [
              0.7777777777777778,
              "#fb9f3a"
             ],
             [
              0.8888888888888888,
              "#fdca26"
             ],
             [
              1,
              "#f0f921"
             ]
            ],
            "type": "histogram2dcontour"
           }
          ],
          "mesh3d": [
           {
            "colorbar": {
             "outlinewidth": 0,
             "ticks": ""
            },
            "type": "mesh3d"
           }
          ],
          "parcoords": [
           {
            "line": {
             "colorbar": {
              "outlinewidth": 0,
              "ticks": ""
             }
            },
            "type": "parcoords"
           }
          ],
          "pie": [
           {
            "automargin": true,
            "type": "pie"
           }
          ],
          "scatter": [
           {
            "fillpattern": {
             "fillmode": "overlay",
             "size": 10,
             "solidity": 0.2
            },
            "type": "scatter"
           }
          ],
          "scatter3d": [
           {
            "line": {
             "colorbar": {
              "outlinewidth": 0,
              "ticks": ""
             }
            },
            "marker": {
             "colorbar": {
              "outlinewidth": 0,
              "ticks": ""
             }
            },
            "type": "scatter3d"
           }
          ],
          "scattercarpet": [
           {
            "marker": {
             "colorbar": {
              "outlinewidth": 0,
              "ticks": ""
             }
            },
            "type": "scattercarpet"
           }
          ],
          "scattergeo": [
           {
            "marker": {
             "colorbar": {
              "outlinewidth": 0,
              "ticks": ""
             }
            },
            "type": "scattergeo"
           }
          ],
          "scattergl": [
           {
            "marker": {
             "colorbar": {
              "outlinewidth": 0,
              "ticks": ""
             }
            },
            "type": "scattergl"
           }
          ],
          "scattermapbox": [
           {
            "marker": {
             "colorbar": {
              "outlinewidth": 0,
              "ticks": ""
             }
            },
            "type": "scattermapbox"
           }
          ],
          "scatterpolar": [
           {
            "marker": {
             "colorbar": {
              "outlinewidth": 0,
              "ticks": ""
             }
            },
            "type": "scatterpolar"
           }
          ],
          "scatterpolargl": [
           {
            "marker": {
             "colorbar": {
              "outlinewidth": 0,
              "ticks": ""
             }
            },
            "type": "scatterpolargl"
           }
          ],
          "scatterternary": [
           {
            "marker": {
             "colorbar": {
              "outlinewidth": 0,
              "ticks": ""
             }
            },
            "type": "scatterternary"
           }
          ],
          "surface": [
           {
            "colorbar": {
             "outlinewidth": 0,
             "ticks": ""
            },
            "colorscale": [
             [
              0,
              "#0d0887"
             ],
             [
              0.1111111111111111,
              "#46039f"
             ],
             [
              0.2222222222222222,
              "#7201a8"
             ],
             [
              0.3333333333333333,
              "#9c179e"
             ],
             [
              0.4444444444444444,
              "#bd3786"
             ],
             [
              0.5555555555555556,
              "#d8576b"
             ],
             [
              0.6666666666666666,
              "#ed7953"
             ],
             [
              0.7777777777777778,
              "#fb9f3a"
             ],
             [
              0.8888888888888888,
              "#fdca26"
             ],
             [
              1,
              "#f0f921"
             ]
            ],
            "type": "surface"
           }
          ],
          "table": [
           {
            "cells": {
             "fill": {
              "color": "#EBF0F8"
             },
             "line": {
              "color": "white"
             }
            },
            "header": {
             "fill": {
              "color": "#C8D4E3"
             },
             "line": {
              "color": "white"
             }
            },
            "type": "table"
           }
          ]
         },
         "layout": {
          "annotationdefaults": {
           "arrowcolor": "#2a3f5f",
           "arrowhead": 0,
           "arrowwidth": 1
          },
          "autotypenumbers": "strict",
          "coloraxis": {
           "colorbar": {
            "outlinewidth": 0,
            "ticks": ""
           }
          },
          "colorscale": {
           "diverging": [
            [
             0,
             "#8e0152"
            ],
            [
             0.1,
             "#c51b7d"
            ],
            [
             0.2,
             "#de77ae"
            ],
            [
             0.3,
             "#f1b6da"
            ],
            [
             0.4,
             "#fde0ef"
            ],
            [
             0.5,
             "#f7f7f7"
            ],
            [
             0.6,
             "#e6f5d0"
            ],
            [
             0.7,
             "#b8e186"
            ],
            [
             0.8,
             "#7fbc41"
            ],
            [
             0.9,
             "#4d9221"
            ],
            [
             1,
             "#276419"
            ]
           ],
           "sequential": [
            [
             0,
             "#0d0887"
            ],
            [
             0.1111111111111111,
             "#46039f"
            ],
            [
             0.2222222222222222,
             "#7201a8"
            ],
            [
             0.3333333333333333,
             "#9c179e"
            ],
            [
             0.4444444444444444,
             "#bd3786"
            ],
            [
             0.5555555555555556,
             "#d8576b"
            ],
            [
             0.6666666666666666,
             "#ed7953"
            ],
            [
             0.7777777777777778,
             "#fb9f3a"
            ],
            [
             0.8888888888888888,
             "#fdca26"
            ],
            [
             1,
             "#f0f921"
            ]
           ],
           "sequentialminus": [
            [
             0,
             "#0d0887"
            ],
            [
             0.1111111111111111,
             "#46039f"
            ],
            [
             0.2222222222222222,
             "#7201a8"
            ],
            [
             0.3333333333333333,
             "#9c179e"
            ],
            [
             0.4444444444444444,
             "#bd3786"
            ],
            [
             0.5555555555555556,
             "#d8576b"
            ],
            [
             0.6666666666666666,
             "#ed7953"
            ],
            [
             0.7777777777777778,
             "#fb9f3a"
            ],
            [
             0.8888888888888888,
             "#fdca26"
            ],
            [
             1,
             "#f0f921"
            ]
           ]
          },
          "colorway": [
           "#636efa",
           "#EF553B",
           "#00cc96",
           "#ab63fa",
           "#FFA15A",
           "#19d3f3",
           "#FF6692",
           "#B6E880",
           "#FF97FF",
           "#FECB52"
          ],
          "font": {
           "color": "#2a3f5f"
          },
          "geo": {
           "bgcolor": "white",
           "lakecolor": "white",
           "landcolor": "#E5ECF6",
           "showlakes": true,
           "showland": true,
           "subunitcolor": "white"
          },
          "hoverlabel": {
           "align": "left"
          },
          "hovermode": "closest",
          "mapbox": {
           "style": "light"
          },
          "paper_bgcolor": "white",
          "plot_bgcolor": "#E5ECF6",
          "polar": {
           "angularaxis": {
            "gridcolor": "white",
            "linecolor": "white",
            "ticks": ""
           },
           "bgcolor": "#E5ECF6",
           "radialaxis": {
            "gridcolor": "white",
            "linecolor": "white",
            "ticks": ""
           }
          },
          "scene": {
           "xaxis": {
            "backgroundcolor": "#E5ECF6",
            "gridcolor": "white",
            "gridwidth": 2,
            "linecolor": "white",
            "showbackground": true,
            "ticks": "",
            "zerolinecolor": "white"
           },
           "yaxis": {
            "backgroundcolor": "#E5ECF6",
            "gridcolor": "white",
            "gridwidth": 2,
            "linecolor": "white",
            "showbackground": true,
            "ticks": "",
            "zerolinecolor": "white"
           },
           "zaxis": {
            "backgroundcolor": "#E5ECF6",
            "gridcolor": "white",
            "gridwidth": 2,
            "linecolor": "white",
            "showbackground": true,
            "ticks": "",
            "zerolinecolor": "white"
           }
          },
          "shapedefaults": {
           "line": {
            "color": "#2a3f5f"
           }
          },
          "ternary": {
           "aaxis": {
            "gridcolor": "white",
            "linecolor": "white",
            "ticks": ""
           },
           "baxis": {
            "gridcolor": "white",
            "linecolor": "white",
            "ticks": ""
           },
           "bgcolor": "#E5ECF6",
           "caxis": {
            "gridcolor": "white",
            "linecolor": "white",
            "ticks": ""
           }
          },
          "title": {
           "x": 0.05
          },
          "xaxis": {
           "automargin": true,
           "gridcolor": "white",
           "linecolor": "white",
           "ticks": "",
           "title": {
            "standoff": 15
           },
           "zerolinecolor": "white",
           "zerolinewidth": 2
          },
          "yaxis": {
           "automargin": true,
           "gridcolor": "white",
           "linecolor": "white",
           "ticks": "",
           "title": {
            "standoff": 15
           },
           "zerolinecolor": "white",
           "zerolinewidth": 2
          }
         }
        },
        "title": {
         "text": "3D Particle Emission with Cylinders and Planes"
        }
       }
      }
     },
     "metadata": {},
     "output_type": "display_data"
    },
    {
     "name": "stdout",
     "output_type": "stream",
     "text": [
      "Number of particles that hit the chip: 0\n"
     ]
    }
   ],
   "source": [
    "radius_lower = 1200\n",
    "coordinates_lower = [0, 0]\n",
    "radius_upper = 1500\n",
    "coordinates_upper = [0, 0]\n",
    "num_particles = 100                                                                  \n",
    "\n",
    "############################### Simulation Part #########################################\n",
    "\n",
    "cylinders = [Cylinder(radius_lower, coordinates_lower, radius_upper, coordinates_upper, 'green', wall_lower, wall_upper)]   \n",
    "x_paths, y_paths, z_paths = generate_paths(num_particles, circle_radius, source_z, cylinders, chip_z)\n",
    " \n",
    "fig = go.Figure()\n",
    "plot_simulation(fig, x_paths, y_paths, z_paths, source_z, cylinders, wall_upper, wall_lower, chip_z, plane_size, chip_plane_width, chip_plane_length, circle_radius)\n",
    "fig.show()\n",
    "\n",
    "hit_count, _ = count_hits_on_chip(x_paths, y_paths, z_paths, chip_z, chip_plane_width, chip_plane_length)\n",
    "print(f\"Number of particles that hit the chip: {hit_count}\")"
   ]
  },
  {
   "cell_type": "markdown",
   "id": "df9b1944",
   "metadata": {},
   "source": [
    "## b) Find hit rate"
   ]
  },
  {
   "cell_type": "code",
   "execution_count": 5,
   "id": "ed380c38",
   "metadata": {},
   "outputs": [
    {
     "data": {
      "image/png": "[encoded data removed]",
      "text/plain": [
       "<Figure size 1000x600 with 1 Axes>"
      ]
     },
     "metadata": {},
     "output_type": "display_data"
    },
    {
     "data": {
      "image/png": "[encoded data removed]",
      "text/plain": [
       "<Figure size 800x800 with 1 Axes>"
      ]
     },
     "metadata": {},
     "output_type": "display_data"
    }
   ],
   "source": [
    "num_experiments = 2    # number of repetitions\n",
    "num_particles = 2000   # number of particles emitted for one repetition\n",
    "\n",
    "############################### Simulation Part #########################################\n",
    "\n",
    "all_hit_positions = []\n",
    "hit_counts = []\n",
    "\n",
    "for _ in range(num_experiments):\n",
    "    x_paths, y_paths, z_paths = generate_paths(num_particles, circle_radius, source_z, cylinders, chip_z)\n",
    "\n",
    "    hit_count, hit_positions = count_hits_on_chip(x_paths, y_paths, z_paths, chip_z, chip_plane_width, chip_plane_length)\n",
    "    hit_counts.append(hit_count)\n",
    "    all_hit_positions.extend(hit_positions)\n",
    "\n",
    "plot_hist(hit_counts)\n",
    "plot_chip_with_hits(all_hit_positions, chip_plane_width, chip_plane_length)"
   ]
  },
  {
   "cell_type": "markdown",
   "id": "ac023abf",
   "metadata": {},
   "source": [
    "# 3) Define hit center and radius and get parameters for cylinder"
   ]
  },
  {
   "cell_type": "code",
   "execution_count": 3,
   "id": "4430c555",
   "metadata": {},
   "outputs": [],
   "source": [
    "############################### Parameters #########################################\n",
    "\n",
    "center_x = 0          # x-coordinate for target center\n",
    "center_y = 0          # y-coordinate for target center\n",
    "radius = 200          # radius of target circle\n"
   ]
  },
  {
   "cell_type": "code",
   "execution_count": 8,
   "id": "29d1a134",
   "metadata": {},
   "outputs": [
    {
     "data": {
      "image/png": "[encoded data removed]",
      "text/plain": [
       "<Figure size 500x500 with 1 Axes>"
      ]
     },
     "metadata": {},
     "output_type": "display_data"
    },
    {
     "name": "stdout",
     "output_type": "stream",
     "text": [
      "Coordinates of center point of lower circle: (np.float64(0.0), np.float64(0.0), 0)\n",
      "Coordinates of center point of upper circle: (np.float64(0.0), np.float64(0.0), 13700)\n",
      "Radius of the lower circle: 485.71428571428567\n",
      "Radius of the upper circle: 224.7619047619047\n"
     ]
    }
   ],
   "source": [
    "############################### Simulation Part #########################################\n",
    "\n",
    "boundary_pts = 20     # number of boundary points\n",
    "num_particles = 1000  # number of particles emittedf from source\n",
    "\n",
    "source_position = np.array([0, 0, source_z])\n",
    "boundary_points = plot_2d_chip_with_circle(center_x, center_y, radius, chip_plane_width, chip_plane_length, chip_z, boundary_pts)\n",
    "\n",
    "intersections_upper = []\n",
    "intersections_lower = []\n",
    "\n",
    "for boundary_point in boundary_points:\n",
    "    intersection_upper, intersection_lower = find_intersection_with_planes(source_position, boundary_point, wall_upper, wall_lower)\n",
    "    if intersection_upper is not None:\n",
    "        intersections_upper.append(intersection_upper)\n",
    "    if intersection_lower is not None:\n",
    "        intersections_lower.append(intersection_lower)\n",
    "\n",
    "center_xl, center_yl, center_zl, _, center_xu, center_yu, center_zu, _ = calculate_circle_properties(intersections_upper, intersections_lower)\n",
    "\n",
    "radius_lower = diameter_at_z(wall_lower, source_z, chip_z, circle_radius, radius)/2\n",
    "radius_upper = diameter_at_z(wall_upper, source_z, chip_z, circle_radius, radius)/2\n",
    "\n",
    "print(\"Radius of the lower circle:\", radius_lower, end=\"\\n\")\n",
    "print(\"Radius of the upper circle:\", radius_upper)"
   ]
  },
  {
   "cell_type": "markdown",
   "id": "ccd16a1d",
   "metadata": {},
   "source": [
    "## a) Visualize Setup"
   ]
  },
  {
   "cell_type": "code",
   "execution_count": 9,
   "id": "92e1c028",
   "metadata": {},
   "outputs": [
    {
     "data": {
      "application/vnd.plotly.v1+json": {
       "config": {
        "plotlyServerURL": "https://plot.ly"
       },
       "data": [
        {
         "line": {
          "color": "blue",
          "width": 2
         },
         "mode": "lines",
         "opacity": 0.3,
         "showlegend": false,
         "type": "scatter3d",
         "x": [
          317.2729986837221,
          -8603.163561138059
         ],
         "y": [
          650.8002505950043,
          3505.3902385438587
         ],
         "z": [
          -27000,
          -36722.50623979728
         ]
        },
        {
         "line": {
          "color": "blue",
          "width": 2
         },
         "mode": "lines",
         "opacity": 0.3,
         "showlegend": false,
         "type": "scatter3d",
         "x": [
          349.01053000396917,
          -11687.568519032468
         ],
         "y": [
          -107.74105434374367,
          -5920.6740463211945
         ],
         "z": [
          -27000,
          -28892.24068952055
         ]
        },
        {
         "line": {
          "color": "blue",
          "width": 2
         },
         "mode": "lines",
         "opacity": 0.3,
         "showlegend": false,
         "type": "scatter3d",
         "x": [
          -371.5721952192879,
          -13383.244159985668
         ],
         "y": [
          920.0577941250842,
          4449.752565262924
         ],
         "z": [
          -27000,
          -26301.682376053173
         ]
        },
        {
         "line": {
          "color": "blue",
          "width": 2
         },
         "mode": "lines",
         "opacity": 0.3,
         "showlegend": false,
         "type": "scatter3d",
         "x": [
          230.40607808638003,
          4155.845295715645
         ],
         "y": [
          128.66293007808142,
          1011.7855724465667
         ],
         "z": [
          -27000,
          -14113.533403324469
         ]
        },
        {
         "line": {
          "color": "blue",
          "width": 2
         },
         "mode": "lines",
         "opacity": 0.3,
         "showlegend": false,
         "type": "scatter3d",
         "x": [
          658.3051095622864,
          403.1978133697216
         ],
         "y": [
          196.13031141132677,
          33.81972592767775
         ],
         "z": [
          -27000,
          -13503.38651582297
         ]
        },
        {
         "line": {
          "color": "blue",
          "width": 2
         },
         "mode": "lines",
         "opacity": 0.3,
         "showlegend": false,
         "type": "scatter3d",
         "x": [
          476.52434831732324,
          3014.552585681131
         ],
         "y": [
          840.8359751878372,
          13891.188640151771
         ],
         "z": [
          -27000,
          -29344.50591520105
         ]
        },
        {
         "line": {
          "color": "blue",
          "width": 2
         },
         "mode": "lines",
         "opacity": 0.3,
         "showlegend": false,
         "type": "scatter3d",
         "x": [
          -539.5549242446579,
          1346.1178699172851
         ],
         "y": [
          -171.090234446236,
          -11520.082666984736
         ],
         "z": [
          -27000,
          -34063.61160310654
         ]
        },
        {
         "line": {
          "color": "blue",
          "width": 2
         },
         "mode": "lines",
         "opacity": 0.3,
         "showlegend": false,
         "type": "scatter3d",
         "x": [
          -28.789857849782013,
          -6204.061176482084
         ],
         "y": [
          553.2575747434776,
          -11450.26774609907
         ],
         "z": [
          -27000,
          -27177.21177491664
         ]
        },
        {
         "line": {
          "color": "blue",
          "width": 2
         },
         "mode": "lines",
         "opacity": 0.3,
         "showlegend": false,
         "type": "scatter3d",
         "x": [
          617.5115868484903,
          1054.1250707369088
         ],
         "y": [
          -225.28476100416458,
          8630.556918153128
         ],
         "z": [
          -27000,
          -37180.05092420403
         ]
        },
        {
         "line": {
          "color": "blue",
          "width": 2
         },
         "mode": "lines",
         "opacity": 0.3,
         "showlegend": false,
         "type": "scatter3d",
         "x": [
          -701.2313473400726,
          -2296.5449999718408
         ],
         "y": [
          -527.3616443344604,
          2974.7047643525025
         ],
         "z": [
          -27000,
          -39939.880417487366
         ]
        },
        {
         "line": {
          "color": "blue",
          "width": 2
         },
         "mode": "lines",
         "opacity": 0.3,
         "showlegend": false,
         "type": "scatter3d",
         "x": [
          724.1587995277303,
          10699.230226833071
         ],
         "y": [
          -189.08700091846694,
          -1091.2604101470265
         ],
         "z": [
          -27000,
          -36051.74199587226
         ]
        },
        {
         "line": {
          "color": "blue",
          "width": 2
         },
         "mode": "lines",
         "opacity": 0.3,
         "showlegend": false,
         "type": "scatter3d",
         "x": [
          -100.40871670658841,
          9886.121079561619
         ],
         "y": [
          -107.61692485894542,
          -6327.662060271633
         ],
         "z": [
          -27000,
          -20379.557330383694
         ]
        },
        {
         "line": {
          "color": "blue",
          "width": 2
         },
         "mode": "lines",
         "opacity": 0.3,
         "showlegend": false,
         "type": "scatter3d",
         "x": [
          58.58639242002975,
          3308.1404508525616
         ],
         "y": [
          597.8343002615886,
          -4489.928982986822
         ],
         "z": [
          -27000,
          -14925.023263171312
         ]
        },
        {
         "line": {
          "color": "blue",
          "width": 2
         },
         "mode": "lines",
         "opacity": 0.3,
         "showlegend": false,
         "type": "scatter3d",
         "x": [
          -806.7364618295979,
          5500.257783888038
         ],
         "y": [
          307.0497380301861,
          8044.577188836803
         ],
         "z": [
          -27000,
          -17911.408660716523
         ]
        },
        {
         "line": {
          "color": "blue",
          "width": 2
         },
         "mode": "lines",
         "opacity": 0.3,
         "showlegend": false,
         "type": "scatter3d",
         "x": [
          166.56889216948656,
          69.11380856145547
         ],
         "y": [
          -933.6096348487332,
          -14428.873023941474
         ],
         "z": [
          -27000,
          -27344.047330598703
         ]
        },
        {
         "line": {
          "color": "blue",
          "width": 2
         },
         "mode": "lines",
         "opacity": 0.3,
         "showlegend": false,
         "type": "scatter3d",
         "x": [
          -433.61988698788963,
          2750.1042906573825
         ],
         "y": [
          229.55616304630132,
          40.99215974010204
         ],
         "z": [
          -27000,
          -40117.86354469866
         ]
        },
        {
         "line": {
          "color": "blue",
          "width": 2
         },
         "mode": "lines",
         "opacity": 0.3,
         "showlegend": false,
         "type": "scatter3d",
         "x": [
          205.41261660752562,
          2821.37565244951
         ],
         "y": [
          46.13337944363131,
          12702.593202347904
         ],
         "z": [
          -27000,
          -30901.37951836505
         ]
        },
        {
         "line": {
          "color": "blue",
          "width": 2
         },
         "mode": "lines",
         "opacity": 0.3,
         "showlegend": false,
         "type": "scatter3d",
         "x": [
          112.40075933748018,
          11871.889057649192
         ],
         "y": [
          -815.3314752702445,
          1927.9888935325098
         ],
         "z": [
          -27000,
          -33036.44169324792
         ]
        },
        {
         "line": {
          "color": "blue",
          "width": 2
         },
         "mode": "lines",
         "opacity": 0.3,
         "showlegend": false,
         "type": "scatter3d",
         "x": [
          -632.2684964491706,
          2432.7705082776047
         ],
         "y": [
          559.1634140179096,
          -7117.671336746508
         ],
         "z": [
          -27000,
          -37673.412955046726
         ]
        },
        {
         "line": {
          "color": "blue",
          "width": 2
         },
         "mode": "lines",
         "opacity": 0.3,
         "showlegend": false,
         "type": "scatter3d",
         "x": [
          31.525471467416924,
          3932.9735385599206
         ],
         "y": [
          -819.9730487858675,
          2033.3487228686577
         ],
         "z": [
          -27000,
          -14394.951096993616
         ]
        },
        {
         "line": {
          "color": "blue",
          "width": 2
         },
         "mode": "lines",
         "opacity": 0.3,
         "showlegend": false,
         "type": "scatter3d",
         "x": [
          237.80283992634276,
          5437.502242604408
         ],
         "y": [
          824.8166658959373,
          10503.511028931352
         ],
         "z": [
          -27000,
          -34844.48860976519
         ]
        },
        {
         "line": {
          "color": "blue",
          "width": 2
         },
         "mode": "lines",
         "opacity": 0.3,
         "showlegend": false,
         "type": "scatter3d",
         "x": [
          -21.85038119704875,
          3389.7578592131363
         ],
         "y": [
          -582.3300795568201,
          4310.299820700156
         ],
         "z": [
          -27000,
          -14889.132901683846
         ]
        },
        {
         "line": {
          "color": "blue",
          "width": 2
         },
         "mode": "lines",
         "opacity": 0.3,
         "showlegend": false,
         "type": "scatter3d",
         "x": [
          -656.414225964575,
          12349.327647914277
         ],
         "y": [
          249.68600164443745,
          2993.9162302953287
         ],
         "z": [
          -27000,
          -29360.059059047668
         ]
        },
        {
         "line": {
          "color": "blue",
          "width": 2
         },
         "mode": "lines",
         "opacity": 0.3,
         "showlegend": false,
         "type": "scatter3d",
         "x": [
          -328.2992563753806,
          8017.860157760627
         ],
         "y": [
          -531.2192683097038,
          -10191.611887972706
         ],
         "z": [
          -27000,
          -31389.582835280533
         ]
        },
        {
         "line": {
          "color": "blue",
          "width": 2
         },
         "mode": "lines",
         "opacity": 0.3,
         "showlegend": false,
         "type": "scatter3d",
         "x": [
          -324.17773635462186,
          -9207.099780535302
         ],
         "y": [
          348.0017472715836,
          -3359.6911045525535
         ],
         "z": [
          -27000,
          -36465.553849275864
         ]
        },
        {
         "line": {
          "color": "blue",
          "width": 2
         },
         "mode": "lines",
         "opacity": 0.3,
         "showlegend": false,
         "type": "scatter3d",
         "x": [
          -67.96896771958917,
          -7023.0231417756395
         ],
         "y": [
          974.4687008520468,
          -6140.9151236436655
         ],
         "z": [
          -27000,
          -17875.936515671856
         ]
        },
        {
         "line": {
          "color": "blue",
          "width": 2
         },
         "mode": "lines",
         "opacity": 0.3,
         "showlegend": false,
         "type": "scatter3d",
         "x": [
          -830.1747997248648,
          -10950.201714774577
         ],
         "y": [
          327.00046779470136,
          -7862.836363049674
         ],
         "z": [
          -27000,
          -30572.34207807907
         ]
        },
        {
         "line": {
          "color": "blue",
          "width": 2
         },
         "mode": "lines",
         "opacity": 0.3,
         "showlegend": false,
         "type": "scatter3d",
         "x": [
          235.62995378916477,
          9742.60568196529
         ],
         "y": [
          -539.6227905098916,
          -6114.030056333009
         ],
         "z": [
          -27000,
          -34797.01200067106
         ]
        },
        {
         "line": {
          "color": "blue",
          "width": 2
         },
         "mode": "lines",
         "opacity": 0.3,
         "showlegend": false,
         "type": "scatter3d",
         "x": [
          -62.6207530979051,
          -413.8721842624521
         ],
         "y": [
          -987.0752344271297,
          -4168.851941310251
         ],
         "z": [
          -27000,
          -13885.011650037928
         ]
        },
        {
         "line": {
          "color": "blue",
          "width": 2
         },
         "mode": "lines",
         "opacity": 0.3,
         "showlegend": false,
         "type": "scatter3d",
         "x": [
          411.0778205106186,
          12168.098825680814
         ],
         "y": [
          -354.3300306212152,
          19.279152411150392
         ],
         "z": [
          -27000,
          -20375.58506263831
         ]
        },
        {
         "line": {
          "color": "blue",
          "width": 2
         },
         "mode": "lines",
         "opacity": 0.3,
         "showlegend": false,
         "type": "scatter3d",
         "x": [
          396.17092573555345,
          2442.0262249365537
         ],
         "y": [
          -465.6955612448029,
          -1796.7499456275345
         ],
         "z": [
          -27000,
          -40277.52877310182
         ]
        },
        {
         "line": {
          "color": "blue",
          "width": 2
         },
         "mode": "lines",
         "opacity": 0.3,
         "showlegend": false,
         "type": "scatter3d",
         "x": [
          739.5717097552277,
          -7727.337672572174
         ],
         "y": [
          200.14178743021154,
          6693.47698466661
         ],
         "z": [
          -27000,
          -35270.31096923128
         ]
        },
        {
         "line": {
          "color": "blue",
          "width": 2
         },
         "mode": "lines",
         "opacity": 0.3,
         "showlegend": false,
         "type": "scatter3d",
         "x": [
          544.8961788753719,
          5505.469196981701
         ],
         "y": [
          677.8853764964206,
          -7423.696669735526
         ],
         "z": [
          -27000,
          -17407.9676981253
         ]
        },
        {
         "line": {
          "color": "blue",
          "width": 2
         },
         "mode": "lines",
         "opacity": 0.3,
         "showlegend": false,
         "type": "scatter3d",
         "x": [
          275.90655446233137,
          -1651.3812773127213
         ],
         "y": [
          887.748578027815,
          -5885.528323927129
         ],
         "z": [
          -27000,
          -15482.262304474223
         ]
        },
        {
         "line": {
          "color": "blue",
          "width": 2
         },
         "mode": "lines",
         "opacity": 0.3,
         "showlegend": false,
         "type": "scatter3d",
         "x": [
          -583.2253030432885,
          10516.564407412341
         ],
         "y": [
          -797.2791239941146,
          -8436.222130336915
         ],
         "z": [
          -27000,
          -27831.395290767105
         ]
        },
        {
         "line": {
          "color": "blue",
          "width": 2
         },
         "mode": "lines",
         "opacity": 0.3,
         "showlegend": false,
         "type": "scatter3d",
         "x": [
          -149.95626228166313,
          2532.8002940524916
         ],
         "y": [
          687.9237370498633,
          -7504.62653004192
         ],
         "z": [
          -27000,
          -16610.825952915195
         ]
        },
        {
         "line": {
          "color": "blue",
          "width": 2
         },
         "mode": "lines",
         "opacity": 0.3,
         "showlegend": false,
         "type": "scatter3d",
         "x": [
          301.8395235853798,
          4015.0029703035675
         ],
         "y": [
          622.0187836714,
          13200.82529171505
         ],
         "z": [
          -27000,
          -23800.618176716856
         ]
        },
        {
         "line": {
          "color": "blue",
          "width": 2
         },
         "mode": "lines",
         "opacity": 0.3,
         "showlegend": false,
         "type": "scatter3d",
         "x": [
          451.535809341237,
          3730.939459418253
         ],
         "y": [
          486.09194469087913,
          -12527.449052632053
         ],
         "z": [
          -27000,
          -28463.98852825313
         ]
        },
        {
         "line": {
          "color": "blue",
          "width": 2
         },
         "mode": "lines",
         "opacity": 0.3,
         "showlegend": false,
         "type": "scatter3d",
         "x": [
          -782.9372415747683,
          -4205.995596334966
         ],
         "y": [
          -613.2907957514055,
          -10056.817224304878
         ],
         "z": [
          -27000,
          -36019.5609700871
         ]
        },
        {
         "line": {
          "color": "blue",
          "width": 2
         },
         "mode": "lines",
         "opacity": 0.3,
         "showlegend": false,
         "type": "scatter3d",
         "x": [
          360.3215834067844,
          8648.569136371134
         ],
         "y": [
          -713.3223584179848,
          8036.560254479637
         ],
         "z": [
          -27000,
          -20917.689027902936
         ]
        },
        {
         "line": {
          "color": "blue",
          "width": 2
         },
         "mode": "lines",
         "opacity": 0.3,
         "showlegend": false,
         "type": "scatter3d",
         "x": [
          79.13049533651902,
          11745.390723240462
         ],
         "y": [
          -157.93539255182299,
          2265.0002795528876
         ],
         "z": [
          -27000,
          -20653.52420443683
         ]
        },
        {
         "line": {
          "color": "blue",
          "width": 2
         },
         "mode": "lines",
         "opacity": 0.3,
         "showlegend": false,
         "type": "scatter3d",
         "x": [
          -136.3892131240703,
          8349.627245732838
         ],
         "y": [
          -689.2836258128252,
          8887.637451712722
         ],
         "z": [
          -27000,
          -31303.49942893648
         ]
        },
        {
         "line": {
          "color": "blue",
          "width": 2
         },
         "mode": "lines",
         "opacity": 0.3,
         "showlegend": false,
         "type": "scatter3d",
         "x": [
          535.7436661543597,
          3532.2228484796324
         ],
         "y": [
          -687.2945741135297,
          2222.5861571698388
         ],
         "z": [
          -27000,
          -14162.410403833708
         ]
        },
        {
         "line": {
          "color": "blue",
          "width": 2
         },
         "mode": "lines",
         "opacity": 0.3,
         "showlegend": false,
         "type": "scatter3d",
         "x": [
          -275.9468473799755,
          8179.2973924851485
         ],
         "y": [
          -258.11558209763035,
          516.1713152942182
         ],
         "z": [
          -27000,
          -16504.318762235824
         ]
        },
        {
         "line": {
          "color": "blue",
          "width": 2
         },
         "mode": "lines",
         "opacity": 0.3,
         "showlegend": false,
         "type": "scatter3d",
         "x": [
          -660.9146184745114,
          -11142.532983217174
         ],
         "y": [
          -9.335607408696122,
          8308.506583432372
         ],
         "z": [
          -27000,
          -28788.62453973817
         ]
        },
        {
         "line": {
          "color": "blue",
          "width": 2
         },
         "mode": "lines",
         "opacity": 0.3,
         "showlegend": false,
         "type": "scatter3d",
         "x": [
          201.64462794817132,
          -11463.350162312554
         ],
         "y": [
          11.094275386983417,
          5672.463928884258
         ],
         "z": [
          -27000,
          -30758.562250335926
         ]
        },
        {
         "line": {
          "color": "blue",
          "width": 2
         },
         "mode": "lines",
         "opacity": 0.3,
         "showlegend": false,
         "type": "scatter3d",
         "x": [
          530.6148712802182,
          472.1468273744265
         ],
         "y": [
          714.3409515280446,
          -9573.501111196947
         ],
         "z": [
          -27000,
          -35741.10331595893
         ]
        },
        {
         "line": {
          "color": "blue",
          "width": 2
         },
         "mode": "lines",
         "opacity": 0.3,
         "showlegend": false,
         "type": "scatter3d",
         "x": [
          7.925086724979594,
          -5776.550263750635
         ],
         "y": [
          -998.8058045954189,
          -11899.267559199347
         ],
         "z": [
          -27000,
          -21525.533956982006
         ]
        },
        {
         "line": {
          "color": "blue",
          "width": 2
         },
         "mode": "lines",
         "opacity": 0.3,
         "showlegend": false,
         "type": "scatter3d",
         "x": [
          -395.3463943470539,
          3982.9738877259
         ],
         "y": [
          642.5373661477083,
          9717.636778584263
         ],
         "z": [
          -27000,
          -18015.408625764758
         ]
        },
        {
         "line": {
          "color": "blue",
          "width": 2
         },
         "mode": "lines",
         "opacity": 0.3,
         "showlegend": false,
         "type": "scatter3d",
         "x": [
          -131.94722543606443,
          5784.8809995953925
         ],
         "y": [
          205.35628528779765,
          -273.77491282375445
         ],
         "z": [
          -27000,
          -14875.16692690298
         ]
        },
        {
         "line": {
          "color": "blue",
          "width": 2
         },
         "mode": "lines",
         "opacity": 0.3,
         "showlegend": false,
         "type": "scatter3d",
         "x": [
          -16.14199520855847,
          10947.185811568364
         ],
         "y": [
          -870.2872518636484,
          84.67722009535021
         ],
         "z": [
          -27000,
          -19180.569953094535
         ]
        },
        {
         "line": {
          "color": "blue",
          "width": 2
         },
         "mode": "lines",
         "opacity": 0.3,
         "showlegend": false,
         "type": "scatter3d",
         "x": [
          524.8400328940611,
          8477.30478222306
         ],
         "y": [
          -737.2957058239401,
          -9960.039066393538
         ],
         "z": [
          -27000,
          -21173.396416800853
         ]
        },
        {
         "line": {
          "color": "blue",
          "width": 2
         },
         "mode": "lines",
         "opacity": 0.3,
         "showlegend": false,
         "type": "scatter3d",
         "x": [
          35.99252208427354,
          -4511.310350944068
         ],
         "y": [
          579.5690350064264,
          13251.753819112497
         ],
         "z": [
          -27000,
          -27993.86587546753
         ]
        },
        {
         "line": {
          "color": "blue",
          "width": 2
         },
         "mode": "lines",
         "opacity": 0.3,
         "showlegend": false,
         "type": "scatter3d",
         "x": [
          -277.1731018780419,
          -1346.2693627708045
         ],
         "y": [
          -169.15819021017055,
          -11047.176798717843
         ],
         "z": [
          -27000,
          -34923.11456044312
         ]
        },
        {
         "line": {
          "color": "blue",
          "width": 2
         },
         "mode": "lines",
         "opacity": 0.3,
         "showlegend": false,
         "type": "scatter3d",
         "x": [
          -159.16834251101733,
          8853.953984191328
         ],
         "y": [
          770.7588931680591,
          -9173.750545427169
         ],
         "z": [
          -27000,
          -28456.144893061875
         ]
        },
        {
         "line": {
          "color": "blue",
          "width": 2
         },
         "mode": "lines",
         "opacity": 0.3,
         "showlegend": false,
         "type": "scatter3d",
         "x": [
          -420.1448813322928,
          -4970.408994471318
         ],
         "y": [
          732.1595806257833,
          13225.83302828887
         ],
         "z": [
          -27000,
          -29335.213113152095
         ]
        },
        {
         "line": {
          "color": "blue",
          "width": 2
         },
         "mode": "lines",
         "opacity": 0.3,
         "showlegend": false,
         "type": "scatter3d",
         "x": [
          -170.05094830692278,
          1701.5914588534715
         ],
         "y": [
          -697.5053453941858,
          -7595.084930969576
         ],
         "z": [
          -27000,
          -15547.037476688729
         ]
        },
        {
         "line": {
          "color": "blue",
          "width": 2
         },
         "mode": "lines",
         "opacity": 0.3,
         "showlegend": false,
         "type": "scatter3d",
         "x": [
          -497.49248290322817,
          -10678.894303103678
         ],
         "y": [
          684.0234084747601,
          -4121.735761618094
         ],
         "z": [
          -27000,
          -34449.411773736734
         ]
        },
        {
         "line": {
          "color": "blue",
          "width": 2
         },
         "mode": "lines",
         "opacity": 0.3,
         "showlegend": false,
         "type": "scatter3d",
         "x": [
          -713.528650738323,
          -8053.951789880501
         ],
         "y": [
          525.6730710637247,
          -2910.884904824558
         ],
         "z": [
          -27000,
          -37796.21495787782
         ]
        },
        {
         "line": {
          "color": "blue",
          "width": 2
         },
         "mode": "lines",
         "opacity": 0.3,
         "showlegend": false,
         "type": "scatter3d",
         "x": [
          -229.03068973343198,
          -9793.96322188002
         ],
         "y": [
          674.2792269410239,
          8539.18501415088
         ],
         "z": [
          -27000,
          -21623.632953955173
         ]
        },
        {
         "line": {
          "color": "blue",
          "width": 2
         },
         "mode": "lines",
         "opacity": 0.3,
         "showlegend": false,
         "type": "scatter3d",
         "x": [
          811.4557394163074,
          -6273.304470741955
         ],
         "y": [
          403.36631623788656,
          -4767.19976074566
         ],
         "z": [
          -27000,
          -16737.377566717892
         ]
        },
        {
         "line": {
          "color": "blue",
          "width": 2
         },
         "mode": "lines",
         "opacity": 0.3,
         "showlegend": false,
         "type": "scatter3d",
         "x": [
          -363.7841334980491,
          12652.513310858769
         ],
         "y": [
          507.0003742584936,
          2733.99174812214
         ],
         "z": [
          -27000,
          -29804.729980010026
         ]
        },
        {
         "line": {
          "color": "blue",
          "width": 2
         },
         "mode": "lines",
         "opacity": 0.3,
         "showlegend": false,
         "type": "scatter3d",
         "x": [
          458.52788035011366,
          13378.415715338004
         ],
         "y": [
          376.82786619922877,
          19.475958751812925
         ],
         "z": [
          -27000,
          -30898.563574648437
         ]
        },
        {
         "line": {
          "color": "blue",
          "width": 2
         },
         "mode": "lines",
         "opacity": 0.3,
         "showlegend": false,
         "type": "scatter3d",
         "x": [
          -125.78669150258479,
          663.7640501909314
         ],
         "y": [
          479.3363647344055,
          12417.26822846819
         ],
         "z": [
          -27000,
          -20746.009878234472
         ]
        },
        {
         "line": {
          "color": "blue",
          "width": 2
         },
         "mode": "lines",
         "opacity": 0.3,
         "showlegend": false,
         "type": "scatter3d",
         "x": [
          -255.87902779103626,
          8332.624191068426
         ],
         "y": [
          707.6712880530409,
          -7753.195699976364
         ],
         "z": [
          -27000,
          -20925.352498250213
         ]
        },
        {
         "line": {
          "color": "blue",
          "width": 2
         },
         "mode": "lines",
         "opacity": 0.3,
         "showlegend": false,
         "type": "scatter3d",
         "x": [
          -240.0416537105342,
          -1715.9543484787005
         ],
         "y": [
          377.6225548028212,
          11878.68257630109
         ],
         "z": [
          -27000,
          -20086.440851535554
         ]
        },
        {
         "line": {
          "color": "blue",
          "width": 2
         },
         "mode": "lines",
         "opacity": 0.3,
         "showlegend": false,
         "type": "scatter3d",
         "x": [
          -219.7327295439311,
          -13107.247598495314
         ],
         "y": [
          -905.7232281024272,
          1374.5854975795305
         ],
         "z": [
          -27000,
          -30310.914166531005
         ]
        },
        {
         "line": {
          "color": "blue",
          "width": 2
         },
         "mode": "lines",
         "opacity": 0.3,
         "showlegend": false,
         "type": "scatter3d",
         "x": [
          537.580847544775,
          -10153.02384220415
         ],
         "y": [
          -272.730988494108,
          -512.0221580163443
         ],
         "z": [
          -27000,
          -18759.629188943807
         ]
        },
        {
         "line": {
          "color": "blue",
          "width": 2
         },
         "mode": "lines",
         "opacity": 0.3,
         "showlegend": false,
         "type": "scatter3d",
         "x": [
          -340.70286948747344,
          -12843.544305746067
         ],
         "y": [
          -894.5882689826973,
          -1943.9319390794926
         ],
         "z": [
          -27000,
          -31982.753644502496
         ]
        },
        {
         "line": {
          "color": "blue",
          "width": 2
         },
         "mode": "lines",
         "opacity": 0.3,
         "showlegend": false,
         "type": "scatter3d",
         "x": [
          714.7084654241193,
          -8364.743081621431
         ],
         "y": [
          -370.5305543379491,
          -9435.449996821379
         ],
         "z": [
          -27000,
          -22799.90534557397
         ]
        },
        {
         "line": {
          "color": "blue",
          "width": 2
         },
         "mode": "lines",
         "opacity": 0.3,
         "showlegend": false,
         "type": "scatter3d",
         "x": [
          661.8218157878875,
          -6283.767158655601
         ],
         "y": [
          319.50116605152556,
          11802.207188766382
         ],
         "z": [
          -27000,
          -25531.580375370522
         ]
        },
        {
         "line": {
          "color": "blue",
          "width": 2
         },
         "mode": "lines",
         "opacity": 0.3,
         "showlegend": false,
         "type": "scatter3d",
         "x": [
          -76.29965065899538,
          -12612.908156083044
         ],
         "y": [
          -166.5905834084804,
          -3699.8751245775275
         ],
         "z": [
          -27000,
          -30549.55596277411
         ]
        },
        {
         "line": {
          "color": "blue",
          "width": 2
         },
         "mode": "lines",
         "opacity": 0.3,
         "showlegend": false,
         "type": "scatter3d",
         "x": [
          403.92628930405687,
          -9459.496833040092
         ],
         "y": [
          -505.837926578972,
          -7705.624270496823
         ],
         "z": [
          -27000,
          -32755.515694665493
         ]
        },
        {
         "line": {
          "color": "blue",
          "width": 2
         },
         "mode": "lines",
         "opacity": 0.3,
         "showlegend": false,
         "type": "scatter3d",
         "x": [
          861.7833662667877,
          6362.713596044699
         ],
         "y": [
          -494.4026281018263,
          -12619.412911604024
         ],
         "z": [
          -27000,
          -24769.777537535432
         ]
        },
        {
         "line": {
          "color": "blue",
          "width": 2
         },
         "mode": "lines",
         "opacity": 0.3,
         "showlegend": false,
         "type": "scatter3d",
         "x": [
          126.22548917361506,
          -11362.673458618141
         ],
         "y": [
          -940.4854401104229,
          -7016.96796802604
         ],
         "z": [
          -27000,
          -30651.241029481036
         ]
        },
        {
         "line": {
          "color": "blue",
          "width": 2
         },
         "mode": "lines",
         "opacity": 0.3,
         "showlegend": false,
         "type": "scatter3d",
         "x": [
          742.4728192541091,
          4505.916874777704
         ],
         "y": [
          435.3199371474617,
          12933.630552770866
         ],
         "z": [
          -27000,
          -30446.551986600443
         ]
        },
        {
         "line": {
          "color": "blue",
          "width": 2
         },
         "mode": "lines",
         "opacity": 0.3,
         "showlegend": false,
         "type": "scatter3d",
         "x": [
          253.72556753701667,
          -5044.458586035456
         ],
         "y": [
          -434.2088830326734,
          1537.2035719153037
         ],
         "z": [
          -27000,
          -14740.604517052665
         ]
        },
        {
         "line": {
          "color": "blue",
          "width": 2
         },
         "mode": "lines",
         "opacity": 0.3,
         "showlegend": false,
         "type": "scatter3d",
         "x": [
          -914.6538260371739,
          -12010.290042563742
         ],
         "y": [
          220.0273870433087,
          7823.792117043885
         ],
         "z": [
          -27000,
          -25851.25334328965
         ]
        },
        {
         "line": {
          "color": "blue",
          "width": 2
         },
         "mode": "lines",
         "opacity": 0.3,
         "showlegend": false,
         "type": "scatter3d",
         "x": [
          -229.07543089065834,
          -2460.7766851020506
         ],
         "y": [
          527.8631196124047,
          -1596.9053484916813
         ],
         "z": [
          -27000,
          -13856.375367924496
         ]
        },
        {
         "line": {
          "color": "blue",
          "width": 2
         },
         "mode": "lines",
         "opacity": 0.3,
         "showlegend": false,
         "type": "scatter3d",
         "x": [
          -230.9856573058143,
          -4709.619635901284
         ],
         "y": [
          -911.5004134639178,
          -1436.9567406121619
         ],
         "z": [
          -27000,
          -14275.388676504497
         ]
        },
        {
         "line": {
          "color": "blue",
          "width": 2
         },
         "mode": "lines",
         "opacity": 0.3,
         "showlegend": false,
         "type": "scatter3d",
         "x": [
          449.3515244788326,
          2823.669707589907
         ],
         "y": [
          801.849152239256,
          5362.124108069171
         ],
         "z": [
          -27000,
          -39482.64817627167
         ]
        },
        {
         "line": {
          "color": "blue",
          "width": 2
         },
         "mode": "lines",
         "opacity": 0.3,
         "showlegend": false,
         "type": "scatter3d",
         "x": [
          -787.8893369053678,
          -9957.45096184616
         ],
         "y": [
          86.97606003943395,
          -6406.124666244907
         ],
         "z": [
          -27000,
          -34483.90156033195
         ]
        },
        {
         "line": {
          "color": "blue",
          "width": 2
         },
         "mode": "lines",
         "opacity": 0.3,
         "showlegend": false,
         "type": "scatter3d",
         "x": [
          -622.1636345145961,
          8805.9894405623
         ],
         "y": [
          -163.95550530466025,
          8961.800258155024
         ],
         "z": [
          -27000,
          -30174.98210051654
         ]
        },
        {
         "line": {
          "color": "blue",
          "width": 2
         },
         "mode": "lines",
         "opacity": 0.3,
         "showlegend": false,
         "type": "scatter3d",
         "x": [
          529.0022684182042,
          5757.6566088318805
         ],
         "y": [
          -81.43142165399932,
          12364.87541340794
         ],
         "z": [
          -27000,
          -27024.898914910176
         ]
        },
        {
         "line": {
          "color": "blue",
          "width": 2
         },
         "mode": "lines",
         "opacity": 0.3,
         "showlegend": false,
         "type": "scatter3d",
         "x": [
          897.5431965065127,
          -4437.860579715486
         ],
         "y": [
          -337.82648233673547,
          10743.941113514184
         ],
         "z": [
          -27000,
          -21434.221213861925
         ]
        },
        {
         "line": {
          "color": "blue",
          "width": 2
         },
         "mode": "lines",
         "opacity": 0.3,
         "showlegend": false,
         "type": "scatter3d",
         "x": [
          -161.72579752456642,
          1799.6629468468363
         ],
         "y": [
          346.8948549099136,
          2167.2501403867545
         ],
         "z": [
          -27000,
          -40232.12986741325
         ]
        },
        {
         "line": {
          "color": "blue",
          "width": 2
         },
         "mode": "lines",
         "opacity": 0.3,
         "showlegend": false,
         "type": "scatter3d",
         "x": [
          -130.25839786251498,
          9183.795939718602
         ],
         "y": [
          327.7190791430393,
          -7446.3564518741405
         ],
         "z": [
          -27000,
          -32921.32936380221
         ]
        },
        {
         "line": {
          "color": "blue",
          "width": 2
         },
         "mode": "lines",
         "opacity": 0.3,
         "showlegend": false,
         "type": "scatter3d",
         "x": [
          201.74221126584038,
          12225.298769503812
         ],
         "y": [
          512.314428701385,
          -2497.8228295132076
         ],
         "z": [
          -27000,
          -32350.061810629944
         ]
        },
        {
         "line": {
          "color": "blue",
          "width": 2
         },
         "mode": "lines",
         "opacity": 0.3,
         "showlegend": false,
         "type": "scatter3d",
         "x": [
          650.674637210754,
          -495.42726448977567
         ],
         "y": [
          -258.4698945593206,
          12715.769287499297
         ],
         "z": [
          -27000,
          -30550.432097316236
         ]
        },
        {
         "line": {
          "color": "blue",
          "width": 2
         },
         "mode": "lines",
         "opacity": 0.3,
         "showlegend": false,
         "type": "scatter3d",
         "x": [
          966.8735399851379,
          -6732.001825807999
         ],
         "y": [
          9.322887607110571,
          -6552.725409578575
         ],
         "z": [
          -27000,
          -18060.378070220977
         ]
        },
        {
         "line": {
          "color": "blue",
          "width": 2
         },
         "mode": "lines",
         "opacity": 0.3,
         "showlegend": false,
         "type": "scatter3d",
         "x": [
          -442.3922357609887,
          -13579.017637981657
         ],
         "y": [
          -139.15375257507918,
          -1715.6187730010795
         ],
         "z": [
          -27000,
          -24317.86818349584
         ]
        },
        {
         "line": {
          "color": "blue",
          "width": 2
         },
         "mode": "lines",
         "opacity": 0.3,
         "showlegend": false,
         "type": "scatter3d",
         "x": [
          391.863485536581,
          11428.683388138496
         ],
         "y": [
          -665.702775340596,
          6635.559922983126
         ],
         "z": [
          -27000,
          -29670.237713687096
         ]
        },
        {
         "line": {
          "color": "blue",
          "width": 2
         },
         "mode": "lines",
         "opacity": 0.3,
         "showlegend": false,
         "type": "scatter3d",
         "x": [
          -81.74778547381429,
          8445.370228815329
         ],
         "y": [
          611.1398014027258,
          -2560.498744893481
         ],
         "z": [
          -27000,
          -17026.08565797592
         ]
        },
        {
         "line": {
          "color": "blue",
          "width": 2
         },
         "mode": "lines",
         "opacity": 0.3,
         "showlegend": false,
         "type": "scatter3d",
         "x": [
          -143.75977143928748,
          12180.769104588791
         ],
         "y": [
          -436.9140259703786,
          -5929.845761595005
         ],
         "z": [
          -27000,
          -26571.410532423048
         ]
        },
        {
         "line": {
          "color": "blue",
          "width": 2
         },
         "mode": "lines",
         "opacity": 0.3,
         "showlegend": false,
         "type": "scatter3d",
         "x": [
          716.2289628266943,
          3491.854110571726
         ],
         "y": [
          445.9575990045897,
          -12717.692663360935
         ],
         "z": [
          -27000,
          -25875.62603670782
         ]
        },
        {
         "line": {
          "color": "blue",
          "width": 2
         },
         "mode": "lines",
         "opacity": 0.3,
         "showlegend": false,
         "type": "scatter3d",
         "x": [
          207.7546176910719,
          9186.433711270922
         ],
         "y": [
          327.39835966875495,
          4879.797632343059
         ],
         "z": [
          -27000,
          -18005.057943673753
         ]
        },
        {
         "line": {
          "color": "blue",
          "width": 2
         },
         "mode": "lines",
         "opacity": 0.3,
         "showlegend": false,
         "type": "scatter3d",
         "x": [
          -53.00579695233114,
          -10028.001352038315
         ],
         "y": [
          38.42632606244584,
          3851.7698326040563
         ],
         "z": [
          -27000,
          -18741.1940949595
         ]
        },
        {
         "line": {
          "color": "blue",
          "width": 2
         },
         "mode": "lines",
         "opacity": 0.3,
         "showlegend": false,
         "type": "scatter3d",
         "x": [
          -329.4426532023227,
          8736.291913623729
         ],
         "y": [
          -424.74063687783257,
          -1140.0678092094254
         ],
         "z": [
          -27000,
          -17022.48709344962
         ]
        },
        {
         "line": {
          "color": "blue",
          "width": 2
         },
         "mode": "lines",
         "opacity": 0.3,
         "showlegend": false,
         "type": "scatter3d",
         "x": [
          627.2434727023624,
          -3107.0967745367575
         ],
         "y": [
          -496.8198642782526,
          -5282.722233452717
         ],
         "z": [
          -27000,
          -39058.18566081068
         ]
        },
        {
         "line": {
          "color": "blue",
          "width": 2
         },
         "mode": "lines",
         "opacity": 0.3,
         "showlegend": false,
         "type": "scatter3d",
         "x": [
          117.2995000665339,
          -9399.036483095746
         ],
         "y": [
          826.0574808632293,
          -287.6817467369433
         ],
         "z": [
          -27000,
          -36510.46446754707
         ]
        },
        {
         "line": {
          "color": "grey",
          "width": 2
         },
         "mode": "lines",
         "name": "Package wall at z=13700",
         "type": "scatter3d",
         "x": [
          -10000,
          10000,
          10000,
          -10000,
          -10000
         ],
         "y": [
          -10000,
          -10000,
          10000,
          10000,
          -10000
         ],
         "z": [
          13700,
          13700,
          13700,
          13700,
          13700
         ]
        },
        {
         "line": {
          "color": "grey",
          "width": 2
         },
         "mode": "lines",
         "name": "Package wall at z=0",
         "type": "scatter3d",
         "x": [
          -10000,
          10000,
          10000,
          -10000,
          -10000
         ],
         "y": [
          -10000,
          -10000,
          10000,
          10000,
          -10000
         ],
         "z": [
          0,
          0,
          0,
          0,
          0
         ]
        },
        {
         "line": {
          "color": "black",
          "width": 2
         },
         "mode": "lines",
         "name": "Chip at z=15000",
         "type": "scatter3d",
         "x": [
          -2500,
          2500,
          2500,
          -2500,
          -2500
         ],
         "y": [
          -2500,
          -2500,
          2500,
          2500,
          -2500
         ],
         "z": [
          15000,
          15000,
          15000,
          15000,
          15000
         ]
        },
        {
         "line": {
          "color": "red",
          "width": 2
         },
         "mode": "lines",
         "name": "Source Circle at z=-27000 and radius 1000",
         "type": "scatter3d",
         "x": [
          1000,
          997.9866764718845,
          991.9548128307954,
          981.9286972627067,
          967.9487013963562,
          950.0711177409454,
          928.3679330160726,
          902.9265382866212,
          873.849377069785,
          841.2535328311812,
          805.2702575310586,
          766.044443118978,
          723.7340381050702,
          678.5094115571321,
          630.5526670845225,
          580.0569095711982,
          527.2254676105024,
          472.2710747726827,
          415.41501300188645,
          356.8862215918719,
          296.92037532827493,
          235.7589355094273,
          173.64817766693042,
          110.8381999010111,
          47.58191582374218,
          -15.865963834808028,
          -79.24995685678854,
          -142.31483827328523,
          -204.80666806519073,
          -266.47381369003506,
          -327.0679633174217,
          -386.3451256931287,
          -444.06661260577414,
          -500.0000000000002,
          -553.9200638661102,
          -605.6096871376668,
          -654.860733945285,
          -701.4748877063214,
          -745.2644496757547,
          -786.0530947427875,
          -823.6765814298327,
          -857.9834132349771,
          -888.8354486549233,
          -916.1084574320696,
          -939.6926207859083,
          -959.4929736144974,
          -975.429786885407,
          -987.4388886763943,
          -995.4719225730846,
          -999.4965423831851,
          -999.4965423831851,
          -995.4719225730846,
          -987.4388886763943,
          -975.429786885407,
          -959.4929736144974,
          -939.6926207859084,
          -916.1084574320696,
          -888.8354486549234,
          -857.983413234977,
          -823.6765814298328,
          -786.0530947427874,
          -745.2644496757548,
          -701.4748877063213,
          -654.8607339452852,
          -605.6096871376666,
          -553.9200638661105,
          -499.9999999999996,
          -444.06661260577397,
          -386.3451256931287,
          -327.06796331742186,
          -266.47381369003466,
          -204.80666806519054,
          -142.31483827328523,
          -79.24995685678878,
          -15.865963834807609,
          47.581915823742385,
          110.83819990101087,
          173.64817766692997,
          235.7589355094275,
          296.92037532827493,
          356.8862215918717,
          415.41501300188685,
          472.2710747726829,
          527.2254676105024,
          580.0569095711979,
          630.5526670845228,
          678.5094115571322,
          723.7340381050701,
          766.0444431189778,
          805.2702575310587,
          841.2535328311812,
          873.8493770697849,
          902.926538286621,
          928.3679330160727,
          950.0711177409454,
          967.9487013963562,
          981.9286972627068,
          991.9548128307954,
          997.9866764718845,
          1000
         ],
         "y": [
          0,
          63.42391965656451,
          126.59245357374927,
          189.25124436041023,
          251.14798718107923,
          312.0334456984871,
          371.66245566032757,
          429.79491208917165,
          486.1967361004687,
          540.6408174555976,
          592.9079290546404,
          642.7876096865392,
          690.079011482112,
          734.5917086575333,
          776.1464642917568,
          814.5759520503357,
          849.7254299495144,
          881.4533634475821,
          909.6319953545184,
          934.1478602651066,
          954.9022414440739,
          971.8115683235417,
          984.807753012208,
          993.8384644612541,
          998.867339183008,
          999.874127673875,
          996.8547759519424,
          989.8214418809326,
          978.8024462147788,
          963.842158559942,
          945.0008187146684,
          922.3542941045814,
          895.9937742913359,
          866.0254037844386,
          832.5698546347714,
          795.7618405308319,
          755.7495743542582,
          712.6941713788627,
          666.7690005162916,
          618.1589862206051,
          567.0598638627708,
          513.6773915734063,
          458.2265217274105,
          400.9305354066136,
          342.02014332566887,
          281.7325568414297,
          220.31053278654082,
          158.0013959733499,
          95.05604330418244,
          31.727933498067657,
          -31.72793349806786,
          -95.05604330418264,
          -158.00139597335007,
          -220.31053278654056,
          -281.7325568414298,
          -342.02014332566864,
          -400.9305354066138,
          -458.2265217274103,
          -513.6773915734065,
          -567.0598638627706,
          -618.1589862206052,
          -666.7690005162915,
          -712.694171378863,
          -755.7495743542581,
          -795.761840530832,
          -832.5698546347713,
          -866.0254037844388,
          -895.993774291336,
          -922.3542941045814,
          -945.0008187146683,
          -963.8421585599422,
          -978.8024462147788,
          -989.8214418809326,
          -996.8547759519423,
          -999.874127673875,
          -998.867339183008,
          -993.8384644612541,
          -984.8077530122081,
          -971.8115683235417,
          -954.9022414440739,
          -934.1478602651067,
          -909.6319953545183,
          -881.453363447582,
          -849.7254299495144,
          -814.5759520503358,
          -776.1464642917566,
          -734.5917086575331,
          -690.079011482112,
          -642.7876096865396,
          -592.9079290546401,
          -540.6408174555975,
          -486.1967361004688,
          -429.79491208917193,
          -371.6624556603272,
          -312.03344569848707,
          -251.1479871810794,
          -189.25124436040974,
          -126.59245357374904,
          -63.42391965656452,
          -2.4492935982947065e-13
         ],
         "z": [
          -27000,
          -27000,
          -27000,
          -27000,
          -27000,
          -27000,
          -27000,
          -27000,
          -27000,
          -27000,
          -27000,
          -27000,
          -27000,
          -27000,
          -27000,
          -27000,
          -27000,
          -27000,
          -27000,
          -27000,
          -27000,
          -27000,
          -27000,
          -27000,
          -27000,
          -27000,
          -27000,
          -27000,
          -27000,
          -27000,
          -27000,
          -27000,
          -27000,
          -27000,
          -27000,
          -27000,
          -27000,
          -27000,
          -27000,
          -27000,
          -27000,
          -27000,
          -27000,
          -27000,
          -27000,
          -27000,
          -27000,
          -27000,
          -27000,
          -27000,
          -27000,
          -27000,
          -27000,
          -27000,
          -27000,
          -27000,
          -27000,
          -27000,
          -27000,
          -27000,
          -27000,
          -27000,
          -27000,
          -27000,
          -27000,
          -27000,
          -27000,
          -27000,
          -27000,
          -27000,
          -27000,
          -27000,
          -27000,
          -27000,
          -27000,
          -27000,
          -27000,
          -27000,
          -27000,
          -27000,
          -27000,
          -27000,
          -27000,
          -27000,
          -27000,
          -27000,
          -27000,
          -27000,
          -27000,
          -27000,
          -27000,
          -27000,
          -27000,
          -27000,
          -27000,
          -27000,
          -27000,
          -27000,
          -27000,
          -27000
         ]
        },
        {
         "line": {
          "color": "green",
          "width": 3
         },
         "mode": "lines",
         "showlegend": false,
         "type": "scatter3d",
         "x": [
          485.71428571428567,
          481.7265781427195,
          469.82893347609996,
          450.2167107109248,
          423.2119420027891,
          389.25804490729325,
          348.91254147603917,
          302.8379037599563,
          251.79067603654076,
          196.60905237373422,
          138.19911350650156,
          77.5199490162128,
          15.567909106232587,
          -46.639755440873884,
          -108.08159649306695,
          -167.74874071892077,
          -224.66145525983416,
          -277.88523491648226,
          -326.5461466983537,
          -369.84517977929374,
          -407.07136523317956,
          -437.61345012403206,
          -460.9699342623247,
          -476.7573048242317,
          -484.7163336215919,
          -484.7163336215919,
          -476.7573048242317,
          -460.96993426232484,
          -437.6134501240321,
          -407.07136523317973,
          -369.8451797792939,
          -326.54614669835394,
          -277.88523491648255,
          -224.66145525983427,
          -167.74874071892108,
          -108.08159649306707,
          -46.639755440874325,
          15.567909106232358,
          77.51994901621237,
          138.19911350650125,
          196.6090523737337,
          251.79067603654045,
          302.8379037599562,
          348.9125414760388,
          389.2580449072931,
          423.2119420027889,
          450.21671071092476,
          469.8289334760998,
          481.72657814271946,
          485.71428571428567
         ],
         "y": [
          0,
          62.111764246760046,
          123.2036550417607,
          182.27254522712454,
          238.3485252590555,
          290.5108290957334,
          337.9029531502648,
          379.74672005590014,
          415.3550563168823,
          444.1432740362517,
          465.6386714749494,
          479.4882948013043,
          485.4647335831912,
          483.4698548610391,
          473.5364144883143,
          455.82751928131216,
          430.6339488097429,
          398.36938080423573,
          359.56359857943903,
          314.8537920066402,
          264.9740948736952,
          210.74353042852826,
          153.05256304004442,
          92.84847679780951,
          31.119821133489282,
          -31.11982113348895,
          -92.84847679780918,
          -153.05256304004408,
          -210.74353042852815,
          -264.9740948736949,
          -314.85379200663994,
          -359.5635985794388,
          -398.36938080423556,
          -430.63394880974283,
          -455.82751928131205,
          -473.5364144883143,
          -483.46985486103904,
          -485.4647335831912,
          -479.4882948013044,
          -465.6386714749495,
          -444.1432740362519,
          -415.3550563168825,
          -379.7467200559002,
          -337.90295315026503,
          -290.5108290957336,
          -238.3485252590559,
          -182.2725452271248,
          -123.20365504176118,
          -62.11176424676036,
          -1.189656890600286e-13
         ],
         "z": [
          0,
          0,
          0,
          0,
          0,
          0,
          0,
          0,
          0,
          0,
          0,
          0,
          0,
          0,
          0,
          0,
          0,
          0,
          0,
          0,
          0,
          0,
          0,
          0,
          0,
          0,
          0,
          0,
          0,
          0,
          0,
          0,
          0,
          0,
          0,
          0,
          0,
          0,
          0,
          0,
          0,
          0,
          0,
          0,
          0,
          0,
          0,
          0,
          0,
          0
         ]
        },
        {
         "line": {
          "color": "green",
          "width": 3
         },
         "mode": "lines",
         "showlegend": false,
         "type": "scatter3d",
         "x": [
          224.7619047619047,
          222.9166126307486,
          217.411035883058,
          208.33557593682008,
          195.83925159344747,
          180.1272521531788,
          161.4575682124416,
          140.1367554653915,
          116.51490106788944,
          90.97987521608091,
          63.950962328498754,
          35.87197640750239,
          7.203973625629197,
          -21.582318204012225,
          -50.01422896541921,
          -77.62490746993196,
          -103.96098713984482,
          -128.59003027507805,
          -151.10762866825777,
          -171.1440439763006,
          -188.37027881378503,
          -202.5034788809246,
          -213.31157742335023,
          -220.6171057618013,
          -224.3001073229327,
          -224.3001073229327,
          -220.61710576180133,
          -213.3115774233503,
          -202.50347888092463,
          -188.3702788137851,
          -171.1440439763007,
          -151.1076286682579,
          -128.59003027507816,
          -103.96098713984486,
          -77.6249074699321,
          -50.014228965419264,
          -21.582318204012427,
          7.20397362562909,
          35.87197640750218,
          63.950962328498605,
          90.97987521608067,
          116.51490106788928,
          140.13675546539147,
          161.45756821244146,
          180.12725215317872,
          195.8392515934474,
          208.33557593682005,
          217.4110358830579,
          222.91661263074857,
          224.7619047619047
         ],
         "y": [
          0,
          28.741914435755625,
          57.01188743108926,
          84.34572681098311,
          110.29461168850409,
          134.43246209135896,
          156.36293518325976,
          175.72593320233807,
          192.20351625643963,
          205.5251228873635,
          215.47201268252556,
          221.88085798648586,
          224.6464257365355,
          223.72330538667688,
          219.12665454753363,
          210.93195009880324,
          199.27374886097903,
          184.34347817607767,
          166.38629267597568,
          145.69704885013152,
          122.61546351018052,
          97.52053564927972,
          70.82432328911858,
          42.9651774985942,
          14.400544681379351,
          -14.400544681379198,
          -42.965177498594045,
          -70.82432328911842,
          -97.52053564927968,
          -122.61546351018039,
          -145.6970488501314,
          -166.38629267597557,
          -184.3434781760776,
          -199.273748860979,
          -210.93195009880318,
          -219.12665454753363,
          -223.72330538667686,
          -224.6464257365355,
          -221.88085798648592,
          -215.47201268252562,
          -205.52512288736358,
          -192.2035162564397,
          -175.7259332023381,
          -156.36293518325988,
          -134.43246209135904,
          -110.29461168850428,
          -84.34572681098322,
          -57.01188743108948,
          -28.74191443575577,
          -5.505078944738577e-14
         ],
         "z": [
          13700,
          13700,
          13700,
          13700,
          13700,
          13700,
          13700,
          13700,
          13700,
          13700,
          13700,
          13700,
          13700,
          13700,
          13700,
          13700,
          13700,
          13700,
          13700,
          13700,
          13700,
          13700,
          13700,
          13700,
          13700,
          13700,
          13700,
          13700,
          13700,
          13700,
          13700,
          13700,
          13700,
          13700,
          13700,
          13700,
          13700,
          13700,
          13700,
          13700,
          13700,
          13700,
          13700,
          13700,
          13700,
          13700,
          13700,
          13700,
          13700,
          13700
         ]
        },
        {
         "line": {
          "color": "green",
          "width": 3
         },
         "mode": "lines",
         "showlegend": false,
         "type": "scatter3d",
         "x": [
          485.71428571428567,
          224.7619047619047
         ],
         "y": [
          0,
          0
         ],
         "z": [
          0,
          13700
         ]
        },
        {
         "line": {
          "color": "green",
          "width": 3
         },
         "mode": "lines",
         "showlegend": false,
         "type": "scatter3d",
         "x": [
          481.7265781427195,
          222.9166126307486
         ],
         "y": [
          62.111764246760046,
          28.741914435755625
         ],
         "z": [
          0,
          13700
         ]
        },
        {
         "line": {
          "color": "green",
          "width": 3
         },
         "mode": "lines",
         "showlegend": false,
         "type": "scatter3d",
         "x": [
          469.82893347609996,
          217.411035883058
         ],
         "y": [
          123.2036550417607,
          57.01188743108926
         ],
         "z": [
          0,
          13700
         ]
        },
        {
         "line": {
          "color": "green",
          "width": 3
         },
         "mode": "lines",
         "showlegend": false,
         "type": "scatter3d",
         "x": [
          450.2167107109248,
          208.33557593682008
         ],
         "y": [
          182.27254522712454,
          84.34572681098311
         ],
         "z": [
          0,
          13700
         ]
        },
        {
         "line": {
          "color": "green",
          "width": 3
         },
         "mode": "lines",
         "showlegend": false,
         "type": "scatter3d",
         "x": [
          423.2119420027891,
          195.83925159344747
         ],
         "y": [
          238.3485252590555,
          110.29461168850409
         ],
         "z": [
          0,
          13700
         ]
        },
        {
         "line": {
          "color": "green",
          "width": 3
         },
         "mode": "lines",
         "showlegend": false,
         "type": "scatter3d",
         "x": [
          389.25804490729325,
          180.1272521531788
         ],
         "y": [
          290.5108290957334,
          134.43246209135896
         ],
         "z": [
          0,
          13700
         ]
        },
        {
         "line": {
          "color": "green",
          "width": 3
         },
         "mode": "lines",
         "showlegend": false,
         "type": "scatter3d",
         "x": [
          348.91254147603917,
          161.4575682124416
         ],
         "y": [
          337.9029531502648,
          156.36293518325976
         ],
         "z": [
          0,
          13700
         ]
        },
        {
         "line": {
          "color": "green",
          "width": 3
         },
         "mode": "lines",
         "showlegend": false,
         "type": "scatter3d",
         "x": [
          302.8379037599563,
          140.1367554653915
         ],
         "y": [
          379.74672005590014,
          175.72593320233807
         ],
         "z": [
          0,
          13700
         ]
        },
        {
         "line": {
          "color": "green",
          "width": 3
         },
         "mode": "lines",
         "showlegend": false,
         "type": "scatter3d",
         "x": [
          251.79067603654076,
          116.51490106788944
         ],
         "y": [
          415.3550563168823,
          192.20351625643963
         ],
         "z": [
          0,
          13700
         ]
        },
        {
         "line": {
          "color": "green",
          "width": 3
         },
         "mode": "lines",
         "showlegend": false,
         "type": "scatter3d",
         "x": [
          196.60905237373422,
          90.97987521608091
         ],
         "y": [
          444.1432740362517,
          205.5251228873635
         ],
         "z": [
          0,
          13700
         ]
        },
        {
         "line": {
          "color": "green",
          "width": 3
         },
         "mode": "lines",
         "showlegend": false,
         "type": "scatter3d",
         "x": [
          138.19911350650156,
          63.950962328498754
         ],
         "y": [
          465.6386714749494,
          215.47201268252556
         ],
         "z": [
          0,
          13700
         ]
        },
        {
         "line": {
          "color": "green",
          "width": 3
         },
         "mode": "lines",
         "showlegend": false,
         "type": "scatter3d",
         "x": [
          77.5199490162128,
          35.87197640750239
         ],
         "y": [
          479.4882948013043,
          221.88085798648586
         ],
         "z": [
          0,
          13700
         ]
        },
        {
         "line": {
          "color": "green",
          "width": 3
         },
         "mode": "lines",
         "showlegend": false,
         "type": "scatter3d",
         "x": [
          15.567909106232587,
          7.203973625629197
         ],
         "y": [
          485.4647335831912,
          224.6464257365355
         ],
         "z": [
          0,
          13700
         ]
        },
        {
         "line": {
          "color": "green",
          "width": 3
         },
         "mode": "lines",
         "showlegend": false,
         "type": "scatter3d",
         "x": [
          -46.639755440873884,
          -21.582318204012225
         ],
         "y": [
          483.4698548610391,
          223.72330538667688
         ],
         "z": [
          0,
          13700
         ]
        },
        {
         "line": {
          "color": "green",
          "width": 3
         },
         "mode": "lines",
         "showlegend": false,
         "type": "scatter3d",
         "x": [
          -108.08159649306695,
          -50.01422896541921
         ],
         "y": [
          473.5364144883143,
          219.12665454753363
         ],
         "z": [
          0,
          13700
         ]
        },
        {
         "line": {
          "color": "green",
          "width": 3
         },
         "mode": "lines",
         "showlegend": false,
         "type": "scatter3d",
         "x": [
          -167.74874071892077,
          -77.62490746993196
         ],
         "y": [
          455.82751928131216,
          210.93195009880324
         ],
         "z": [
          0,
          13700
         ]
        },
        {
         "line": {
          "color": "green",
          "width": 3
         },
         "mode": "lines",
         "showlegend": false,
         "type": "scatter3d",
         "x": [
          -224.66145525983416,
          -103.96098713984482
         ],
         "y": [
          430.6339488097429,
          199.27374886097903
         ],
         "z": [
          0,
          13700
         ]
        },
        {
         "line": {
          "color": "green",
          "width": 3
         },
         "mode": "lines",
         "showlegend": false,
         "type": "scatter3d",
         "x": [
          -277.88523491648226,
          -128.59003027507805
         ],
         "y": [
          398.36938080423573,
          184.34347817607767
         ],
         "z": [
          0,
          13700
         ]
        },
        {
         "line": {
          "color": "green",
          "width": 3
         },
         "mode": "lines",
         "showlegend": false,
         "type": "scatter3d",
         "x": [
          -326.5461466983537,
          -151.10762866825777
         ],
         "y": [
          359.56359857943903,
          166.38629267597568
         ],
         "z": [
          0,
          13700
         ]
        },
        {
         "line": {
          "color": "green",
          "width": 3
         },
         "mode": "lines",
         "showlegend": false,
         "type": "scatter3d",
         "x": [
          -369.84517977929374,
          -171.1440439763006
         ],
         "y": [
          314.8537920066402,
          145.69704885013152
         ],
         "z": [
          0,
          13700
         ]
        },
        {
         "line": {
          "color": "green",
          "width": 3
         },
         "mode": "lines",
         "showlegend": false,
         "type": "scatter3d",
         "x": [
          -407.07136523317956,
          -188.37027881378503
         ],
         "y": [
          264.9740948736952,
          122.61546351018052
         ],
         "z": [
          0,
          13700
         ]
        },
        {
         "line": {
          "color": "green",
          "width": 3
         },
         "mode": "lines",
         "showlegend": false,
         "type": "scatter3d",
         "x": [
          -437.61345012403206,
          -202.5034788809246
         ],
         "y": [
          210.74353042852826,
          97.52053564927972
         ],
         "z": [
          0,
          13700
         ]
        },
        {
         "line": {
          "color": "green",
          "width": 3
         },
         "mode": "lines",
         "showlegend": false,
         "type": "scatter3d",
         "x": [
          -460.9699342623247,
          -213.31157742335023
         ],
         "y": [
          153.05256304004442,
          70.82432328911858
         ],
         "z": [
          0,
          13700
         ]
        },
        {
         "line": {
          "color": "green",
          "width": 3
         },
         "mode": "lines",
         "showlegend": false,
         "type": "scatter3d",
         "x": [
          -476.7573048242317,
          -220.6171057618013
         ],
         "y": [
          92.84847679780951,
          42.9651774985942
         ],
         "z": [
          0,
          13700
         ]
        },
        {
         "line": {
          "color": "green",
          "width": 3
         },
         "mode": "lines",
         "showlegend": false,
         "type": "scatter3d",
         "x": [
          -484.7163336215919,
          -224.3001073229327
         ],
         "y": [
          31.119821133489282,
          14.400544681379351
         ],
         "z": [
          0,
          13700
         ]
        },
        {
         "line": {
          "color": "green",
          "width": 3
         },
         "mode": "lines",
         "showlegend": false,
         "type": "scatter3d",
         "x": [
          -484.7163336215919,
          -224.3001073229327
         ],
         "y": [
          -31.11982113348895,
          -14.400544681379198
         ],
         "z": [
          0,
          13700
         ]
        },
        {
         "line": {
          "color": "green",
          "width": 3
         },
         "mode": "lines",
         "showlegend": false,
         "type": "scatter3d",
         "x": [
          -476.7573048242317,
          -220.61710576180133
         ],
         "y": [
          -92.84847679780918,
          -42.965177498594045
         ],
         "z": [
          0,
          13700
         ]
        },
        {
         "line": {
          "color": "green",
          "width": 3
         },
         "mode": "lines",
         "showlegend": false,
         "type": "scatter3d",
         "x": [
          -460.96993426232484,
          -213.3115774233503
         ],
         "y": [
          -153.05256304004408,
          -70.82432328911842
         ],
         "z": [
          0,
          13700
         ]
        },
        {
         "line": {
          "color": "green",
          "width": 3
         },
         "mode": "lines",
         "showlegend": false,
         "type": "scatter3d",
         "x": [
          -437.6134501240321,
          -202.50347888092463
         ],
         "y": [
          -210.74353042852815,
          -97.52053564927968
         ],
         "z": [
          0,
          13700
         ]
        },
        {
         "line": {
          "color": "green",
          "width": 3
         },
         "mode": "lines",
         "showlegend": false,
         "type": "scatter3d",
         "x": [
          -407.07136523317973,
          -188.3702788137851
         ],
         "y": [
          -264.9740948736949,
          -122.61546351018039
         ],
         "z": [
          0,
          13700
         ]
        },
        {
         "line": {
          "color": "green",
          "width": 3
         },
         "mode": "lines",
         "showlegend": false,
         "type": "scatter3d",
         "x": [
          -369.8451797792939,
          -171.1440439763007
         ],
         "y": [
          -314.85379200663994,
          -145.6970488501314
         ],
         "z": [
          0,
          13700
         ]
        },
        {
         "line": {
          "color": "green",
          "width": 3
         },
         "mode": "lines",
         "showlegend": false,
         "type": "scatter3d",
         "x": [
          -326.54614669835394,
          -151.1076286682579
         ],
         "y": [
          -359.5635985794388,
          -166.38629267597557
         ],
         "z": [
          0,
          13700
         ]
        },
        {
         "line": {
          "color": "green",
          "width": 3
         },
         "mode": "lines",
         "showlegend": false,
         "type": "scatter3d",
         "x": [
          -277.88523491648255,
          -128.59003027507816
         ],
         "y": [
          -398.36938080423556,
          -184.3434781760776
         ],
         "z": [
          0,
          13700
         ]
        },
        {
         "line": {
          "color": "green",
          "width": 3
         },
         "mode": "lines",
         "showlegend": false,
         "type": "scatter3d",
         "x": [
          -224.66145525983427,
          -103.96098713984486
         ],
         "y": [
          -430.63394880974283,
          -199.273748860979
         ],
         "z": [
          0,
          13700
         ]
        },
        {
         "line": {
          "color": "green",
          "width": 3
         },
         "mode": "lines",
         "showlegend": false,
         "type": "scatter3d",
         "x": [
          -167.74874071892108,
          -77.6249074699321
         ],
         "y": [
          -455.82751928131205,
          -210.93195009880318
         ],
         "z": [
          0,
          13700
         ]
        },
        {
         "line": {
          "color": "green",
          "width": 3
         },
         "mode": "lines",
         "showlegend": false,
         "type": "scatter3d",
         "x": [
          -108.08159649306707,
          -50.014228965419264
         ],
         "y": [
          -473.5364144883143,
          -219.12665454753363
         ],
         "z": [
          0,
          13700
         ]
        },
        {
         "line": {
          "color": "green",
          "width": 3
         },
         "mode": "lines",
         "showlegend": false,
         "type": "scatter3d",
         "x": [
          -46.639755440874325,
          -21.582318204012427
         ],
         "y": [
          -483.46985486103904,
          -223.72330538667686
         ],
         "z": [
          0,
          13700
         ]
        },
        {
         "line": {
          "color": "green",
          "width": 3
         },
         "mode": "lines",
         "showlegend": false,
         "type": "scatter3d",
         "x": [
          15.567909106232358,
          7.20397362562909
         ],
         "y": [
          -485.4647335831912,
          -224.6464257365355
         ],
         "z": [
          0,
          13700
         ]
        },
        {
         "line": {
          "color": "green",
          "width": 3
         },
         "mode": "lines",
         "showlegend": false,
         "type": "scatter3d",
         "x": [
          77.51994901621237,
          35.87197640750218
         ],
         "y": [
          -479.4882948013044,
          -221.88085798648592
         ],
         "z": [
          0,
          13700
         ]
        },
        {
         "line": {
          "color": "green",
          "width": 3
         },
         "mode": "lines",
         "showlegend": false,
         "type": "scatter3d",
         "x": [
          138.19911350650125,
          63.950962328498605
         ],
         "y": [
          -465.6386714749495,
          -215.47201268252562
         ],
         "z": [
          0,
          13700
         ]
        },
        {
         "line": {
          "color": "green",
          "width": 3
         },
         "mode": "lines",
         "showlegend": false,
         "type": "scatter3d",
         "x": [
          196.6090523737337,
          90.97987521608067
         ],
         "y": [
          -444.1432740362519,
          -205.52512288736358
         ],
         "z": [
          0,
          13700
         ]
        },
        {
         "line": {
          "color": "green",
          "width": 3
         },
         "mode": "lines",
         "showlegend": false,
         "type": "scatter3d",
         "x": [
          251.79067603654045,
          116.51490106788928
         ],
         "y": [
          -415.3550563168825,
          -192.2035162564397
         ],
         "z": [
          0,
          13700
         ]
        },
        {
         "line": {
          "color": "green",
          "width": 3
         },
         "mode": "lines",
         "showlegend": false,
         "type": "scatter3d",
         "x": [
          302.8379037599562,
          140.13675546539147
         ],
         "y": [
          -379.7467200559002,
          -175.7259332023381
         ],
         "z": [
          0,
          13700
         ]
        },
        {
         "line": {
          "color": "green",
          "width": 3
         },
         "mode": "lines",
         "showlegend": false,
         "type": "scatter3d",
         "x": [
          348.9125414760388,
          161.45756821244146
         ],
         "y": [
          -337.90295315026503,
          -156.36293518325988
         ],
         "z": [
          0,
          13700
         ]
        },
        {
         "line": {
          "color": "green",
          "width": 3
         },
         "mode": "lines",
         "showlegend": false,
         "type": "scatter3d",
         "x": [
          389.2580449072931,
          180.12725215317872
         ],
         "y": [
          -290.5108290957336,
          -134.43246209135904
         ],
         "z": [
          0,
          13700
         ]
        },
        {
         "line": {
          "color": "green",
          "width": 3
         },
         "mode": "lines",
         "showlegend": false,
         "type": "scatter3d",
         "x": [
          423.2119420027889,
          195.8392515934474
         ],
         "y": [
          -238.3485252590559,
          -110.29461168850428
         ],
         "z": [
          0,
          13700
         ]
        },
        {
         "line": {
          "color": "green",
          "width": 3
         },
         "mode": "lines",
         "showlegend": false,
         "type": "scatter3d",
         "x": [
          450.21671071092476,
          208.33557593682005
         ],
         "y": [
          -182.2725452271248,
          -84.34572681098322
         ],
         "z": [
          0,
          13700
         ]
        },
        {
         "line": {
          "color": "green",
          "width": 3
         },
         "mode": "lines",
         "showlegend": false,
         "type": "scatter3d",
         "x": [
          469.8289334760998,
          217.4110358830579
         ],
         "y": [
          -123.20365504176118,
          -57.01188743108948
         ],
         "z": [
          0,
          13700
         ]
        },
        {
         "line": {
          "color": "green",
          "width": 3
         },
         "mode": "lines",
         "showlegend": false,
         "type": "scatter3d",
         "x": [
          481.72657814271946,
          222.91661263074857
         ],
         "y": [
          -62.11176424676036,
          -28.74191443575577
         ],
         "z": [
          0,
          13700
         ]
        },
        {
         "line": {
          "color": "green",
          "width": 3
         },
         "mode": "lines",
         "showlegend": false,
         "type": "scatter3d",
         "x": [
          485.71428571428567,
          224.7619047619047
         ],
         "y": [
          -1.189656890600286e-13,
          -5.505078944738577e-14
         ],
         "z": [
          0,
          13700
         ]
        }
       ],
       "layout": {
        "scene": {
         "xaxis": {
          "title": {
           "text": "X"
          }
         },
         "yaxis": {
          "title": {
           "text": "Y"
          }
         },
         "zaxis": {
          "title": {
           "text": "Z"
          }
         }
        },
        "showlegend": true,
        "template": {
         "data": {
          "bar": [
           {
            "error_x": {
             "color": "#2a3f5f"
            },
            "error_y": {
             "color": "#2a3f5f"
            },
            "marker": {
             "line": {
              "color": "#E5ECF6",
              "width": 0.5
             },
             "pattern": {
              "fillmode": "overlay",
              "size": 10,
              "solidity": 0.2
             }
            },
            "type": "bar"
           }
          ],
          "barpolar": [
           {
            "marker": {
             "line": {
              "color": "#E5ECF6",
              "width": 0.5
             },
             "pattern": {
              "fillmode": "overlay",
              "size": 10,
              "solidity": 0.2
             }
            },
            "type": "barpolar"
           }
          ],
          "carpet": [
           {
            "aaxis": {
             "endlinecolor": "#2a3f5f",
             "gridcolor": "white",
             "linecolor": "white",
             "minorgridcolor": "white",
             "startlinecolor": "#2a3f5f"
            },
            "baxis": {
             "endlinecolor": "#2a3f5f",
             "gridcolor": "white",
             "linecolor": "white",
             "minorgridcolor": "white",
             "startlinecolor": "#2a3f5f"
            },
            "type": "carpet"
           }
          ],
          "choropleth": [
           {
            "colorbar": {
             "outlinewidth": 0,
             "ticks": ""
            },
            "type": "choropleth"
           }
          ],
          "contour": [
           {
            "colorbar": {
             "outlinewidth": 0,
             "ticks": ""
            },
            "colorscale": [
             [
              0,
              "#0d0887"
             ],
             [
              0.1111111111111111,
              "#46039f"
             ],
             [
              0.2222222222222222,
              "#7201a8"
             ],
             [
              0.3333333333333333,
              "#9c179e"
             ],
             [
              0.4444444444444444,
              "#bd3786"
             ],
             [
              0.5555555555555556,
              "#d8576b"
             ],
             [
              0.6666666666666666,
              "#ed7953"
             ],
             [
              0.7777777777777778,
              "#fb9f3a"
             ],
             [
              0.8888888888888888,
              "#fdca26"
             ],
             [
              1,
              "#f0f921"
             ]
            ],
            "type": "contour"
           }
          ],
          "contourcarpet": [
           {
            "colorbar": {
             "outlinewidth": 0,
             "ticks": ""
            },
            "type": "contourcarpet"
           }
          ],
          "heatmap": [
           {
            "colorbar": {
             "outlinewidth": 0,
             "ticks": ""
            },
            "colorscale": [
             [
              0,
              "#0d0887"
             ],
             [
              0.1111111111111111,
              "#46039f"
             ],
             [
              0.2222222222222222,
              "#7201a8"
             ],
             [
              0.3333333333333333,
              "#9c179e"
             ],
             [
              0.4444444444444444,
              "#bd3786"
             ],
             [
              0.5555555555555556,
              "#d8576b"
             ],
             [
              0.6666666666666666,
              "#ed7953"
             ],
             [
              0.7777777777777778,
              "#fb9f3a"
             ],
             [
              0.8888888888888888,
              "#fdca26"
             ],
             [
              1,
              "#f0f921"
             ]
            ],
            "type": "heatmap"
           }
          ],
          "heatmapgl": [
           {
            "colorbar": {
             "outlinewidth": 0,
             "ticks": ""
            },
            "colorscale": [
             [
              0,
              "#0d0887"
             ],
             [
              0.1111111111111111,
              "#46039f"
             ],
             [
              0.2222222222222222,
              "#7201a8"
             ],
             [
              0.3333333333333333,
              "#9c179e"
             ],
             [
              0.4444444444444444,
              "#bd3786"
             ],
             [
              0.5555555555555556,
              "#d8576b"
             ],
             [
              0.6666666666666666,
              "#ed7953"
             ],
             [
              0.7777777777777778,
              "#fb9f3a"
             ],
             [
              0.8888888888888888,
              "#fdca26"
             ],
             [
              1,
              "#f0f921"
             ]
            ],
            "type": "heatmapgl"
           }
          ],
          "histogram": [
           {
            "marker": {
             "pattern": {
              "fillmode": "overlay",
              "size": 10,
              "solidity": 0.2
             }
            },
            "type": "histogram"
           }
          ],
          "histogram2d": [
           {
            "colorbar": {
             "outlinewidth": 0,
             "ticks": ""
            },
            "colorscale": [
             [
              0,
              "#0d0887"
             ],
             [
              0.1111111111111111,
              "#46039f"
             ],
             [
              0.2222222222222222,
              "#7201a8"
             ],
             [
              0.3333333333333333,
              "#9c179e"
             ],
             [
              0.4444444444444444,
              "#bd3786"
             ],
             [
              0.5555555555555556,
              "#d8576b"
             ],
             [
              0.6666666666666666,
              "#ed7953"
             ],
             [
              0.7777777777777778,
              "#fb9f3a"
             ],
             [
              0.8888888888888888,
              "#fdca26"
             ],
             [
              1,
              "#f0f921"
             ]
            ],
            "type": "histogram2d"
           }
          ],
          "histogram2dcontour": [
           {
            "colorbar": {
             "outlinewidth": 0,
             "ticks": ""
            },
            "colorscale": [
             [
              0,
              "#0d0887"
             ],
             [
              0.1111111111111111,
              "#46039f"
             ],
             [
              0.2222222222222222,
              "#7201a8"
             ],
             [
              0.3333333333333333,
              "#9c179e"
             ],
             [
              0.4444444444444444,
              "#bd3786"
             ],
             [
              0.5555555555555556,
              "#d8576b"
             ],
             [
              0.6666666666666666,
              "#ed7953"
             ],
             [
              0.7777777777777778,
              "#fb9f3a"
             ],
             [
              0.8888888888888888,
              "#fdca26"
             ],
             [
              1,
              "#f0f921"
             ]
            ],
            "type": "histogram2dcontour"
           }
          ],
          "mesh3d": [
           {
            "colorbar": {
             "outlinewidth": 0,
             "ticks": ""
            },
            "type": "mesh3d"
           }
          ],
          "parcoords": [
           {
            "line": {
             "colorbar": {
              "outlinewidth": 0,
              "ticks": ""
             }
            },
            "type": "parcoords"
           }
          ],
          "pie": [
           {
            "automargin": true,
            "type": "pie"
           }
          ],
          "scatter": [
           {
            "fillpattern": {
             "fillmode": "overlay",
             "size": 10,
             "solidity": 0.2
            },
            "type": "scatter"
           }
          ],
          "scatter3d": [
           {
            "line": {
             "colorbar": {
              "outlinewidth": 0,
              "ticks": ""
             }
            },
            "marker": {
             "colorbar": {
              "outlinewidth": 0,
              "ticks": ""
             }
            },
            "type": "scatter3d"
           }
          ],
          "scattercarpet": [
           {
            "marker": {
             "colorbar": {
              "outlinewidth": 0,
              "ticks": ""
             }
            },
            "type": "scattercarpet"
           }
          ],
          "scattergeo": [
           {
            "marker": {
             "colorbar": {
              "outlinewidth": 0,
              "ticks": ""
             }
            },
            "type": "scattergeo"
           }
          ],
          "scattergl": [
           {
            "marker": {
             "colorbar": {
              "outlinewidth": 0,
              "ticks": ""
             }
            },
            "type": "scattergl"
           }
          ],
          "scattermapbox": [
           {
            "marker": {
             "colorbar": {
              "outlinewidth": 0,
              "ticks": ""
             }
            },
            "type": "scattermapbox"
           }
          ],
          "scatterpolar": [
           {
            "marker": {
             "colorbar": {
              "outlinewidth": 0,
              "ticks": ""
             }
            },
            "type": "scatterpolar"
           }
          ],
          "scatterpolargl": [
           {
            "marker": {
             "colorbar": {
              "outlinewidth": 0,
              "ticks": ""
             }
            },
            "type": "scatterpolargl"
           }
          ],
          "scatterternary": [
           {
            "marker": {
             "colorbar": {
              "outlinewidth": 0,
              "ticks": ""
             }
            },
            "type": "scatterternary"
           }
          ],
          "surface": [
           {
            "colorbar": {
             "outlinewidth": 0,
             "ticks": ""
            },
            "colorscale": [
             [
              0,
              "#0d0887"
             ],
             [
              0.1111111111111111,
              "#46039f"
             ],
             [
              0.2222222222222222,
              "#7201a8"
             ],
             [
              0.3333333333333333,
              "#9c179e"
             ],
             [
              0.4444444444444444,
              "#bd3786"
             ],
             [
              0.5555555555555556,
              "#d8576b"
             ],
             [
              0.6666666666666666,
              "#ed7953"
             ],
             [
              0.7777777777777778,
              "#fb9f3a"
             ],
             [
              0.8888888888888888,
              "#fdca26"
             ],
             [
              1,
              "#f0f921"
             ]
            ],
            "type": "surface"
           }
          ],
          "table": [
           {
            "cells": {
             "fill": {
              "color": "#EBF0F8"
             },
             "line": {
              "color": "white"
             }
            },
            "header": {
             "fill": {
              "color": "#C8D4E3"
             },
             "line": {
              "color": "white"
             }
            },
            "type": "table"
           }
          ]
         },
         "layout": {
          "annotationdefaults": {
           "arrowcolor": "#2a3f5f",
           "arrowhead": 0,
           "arrowwidth": 1
          },
          "autotypenumbers": "strict",
          "coloraxis": {
           "colorbar": {
            "outlinewidth": 0,
            "ticks": ""
           }
          },
          "colorscale": {
           "diverging": [
            [
             0,
             "#8e0152"
            ],
            [
             0.1,
             "#c51b7d"
            ],
            [
             0.2,
             "#de77ae"
            ],
            [
             0.3,
             "#f1b6da"
            ],
            [
             0.4,
             "#fde0ef"
            ],
            [
             0.5,
             "#f7f7f7"
            ],
            [
             0.6,
             "#e6f5d0"
            ],
            [
             0.7,
             "#b8e186"
            ],
            [
             0.8,
             "#7fbc41"
            ],
            [
             0.9,
             "#4d9221"
            ],
            [
             1,
             "#276419"
            ]
           ],
           "sequential": [
            [
             0,
             "#0d0887"
            ],
            [
             0.1111111111111111,
             "#46039f"
            ],
            [
             0.2222222222222222,
             "#7201a8"
            ],
            [
             0.3333333333333333,
             "#9c179e"
            ],
            [
             0.4444444444444444,
             "#bd3786"
            ],
            [
             0.5555555555555556,
             "#d8576b"
            ],
            [
             0.6666666666666666,
             "#ed7953"
            ],
            [
             0.7777777777777778,
             "#fb9f3a"
            ],
            [
             0.8888888888888888,
             "#fdca26"
            ],
            [
             1,
             "#f0f921"
            ]
           ],
           "sequentialminus": [
            [
             0,
             "#0d0887"
            ],
            [
             0.1111111111111111,
             "#46039f"
            ],
            [
             0.2222222222222222,
             "#7201a8"
            ],
            [
             0.3333333333333333,
             "#9c179e"
            ],
            [
             0.4444444444444444,
             "#bd3786"
            ],
            [
             0.5555555555555556,
             "#d8576b"
            ],
            [
             0.6666666666666666,
             "#ed7953"
            ],
            [
             0.7777777777777778,
             "#fb9f3a"
            ],
            [
             0.8888888888888888,
             "#fdca26"
            ],
            [
             1,
             "#f0f921"
            ]
           ]
          },
          "colorway": [
           "#636efa",
           "#EF553B",
           "#00cc96",
           "#ab63fa",
           "#FFA15A",
           "#19d3f3",
           "#FF6692",
           "#B6E880",
           "#FF97FF",
           "#FECB52"
          ],
          "font": {
           "color": "#2a3f5f"
          },
          "geo": {
           "bgcolor": "white",
           "lakecolor": "white",
           "landcolor": "#E5ECF6",
           "showlakes": true,
           "showland": true,
           "subunitcolor": "white"
          },
          "hoverlabel": {
           "align": "left"
          },
          "hovermode": "closest",
          "mapbox": {
           "style": "light"
          },
          "paper_bgcolor": "white",
          "plot_bgcolor": "#E5ECF6",
          "polar": {
           "angularaxis": {
            "gridcolor": "white",
            "linecolor": "white",
            "ticks": ""
           },
           "bgcolor": "#E5ECF6",
           "radialaxis": {
            "gridcolor": "white",
            "linecolor": "white",
            "ticks": ""
           }
          },
          "scene": {
           "xaxis": {
            "backgroundcolor": "#E5ECF6",
            "gridcolor": "white",
            "gridwidth": 2,
            "linecolor": "white",
            "showbackground": true,
            "ticks": "",
            "zerolinecolor": "white"
           },
           "yaxis": {
            "backgroundcolor": "#E5ECF6",
            "gridcolor": "white",
            "gridwidth": 2,
            "linecolor": "white",
            "showbackground": true,
            "ticks": "",
            "zerolinecolor": "white"
           },
           "zaxis": {
            "backgroundcolor": "#E5ECF6",
            "gridcolor": "white",
            "gridwidth": 2,
            "linecolor": "white",
            "showbackground": true,
            "ticks": "",
            "zerolinecolor": "white"
           }
          },
          "shapedefaults": {
           "line": {
            "color": "#2a3f5f"
           }
          },
          "ternary": {
           "aaxis": {
            "gridcolor": "white",
            "linecolor": "white",
            "ticks": ""
           },
           "baxis": {
            "gridcolor": "white",
            "linecolor": "white",
            "ticks": ""
           },
           "bgcolor": "#E5ECF6",
           "caxis": {
            "gridcolor": "white",
            "linecolor": "white",
            "ticks": ""
           }
          },
          "title": {
           "x": 0.05
          },
          "xaxis": {
           "automargin": true,
           "gridcolor": "white",
           "linecolor": "white",
           "ticks": "",
           "title": {
            "standoff": 15
           },
           "zerolinecolor": "white",
           "zerolinewidth": 2
          },
          "yaxis": {
           "automargin": true,
           "gridcolor": "white",
           "linecolor": "white",
           "ticks": "",
           "title": {
            "standoff": 15
           },
           "zerolinecolor": "white",
           "zerolinewidth": 2
          }
         }
        },
        "title": {
         "text": "3D Particle Emission with Cylinders and Planes"
        }
       }
      }
     },
     "metadata": {},
     "output_type": "display_data"
    },
    {
     "name": "stdout",
     "output_type": "stream",
     "text": [
      "Number of particles that hit the chip: 0\n"
     ]
    }
   ],
   "source": [
    "cylinders = [Cylinder(radius_lower, [center_xl, center_yl], radius_upper, [center_xu, center_yu], 'green', wall_lower, wall_upper)]\n",
    "x_paths, y_paths, z_paths = generate_paths(num_particles, circle_radius, source_z, cylinders, chip_z)\n",
    "\n",
    "fig = go.Figure()\n",
    "plot_simulation(fig, x_paths, y_paths, z_paths, source_z, cylinders, wall_upper, wall_lower, chip_z, plane_size, chip_plane_width, chip_plane_length, circle_radius)\n",
    "fig.show()\n",
    "\n",
    "hit_count, _ = count_hits_on_chip(x_paths, y_paths, z_paths, chip_z, chip_plane_width, chip_plane_length)\n",
    "print(f\"Number of particles that hit the chip: {hit_count}\")\n"
   ]
  },
  {
   "cell_type": "markdown",
   "id": "b4aed8d6",
   "metadata": {},
   "source": [
    "## b) Run simulation"
   ]
  },
  {
   "cell_type": "code",
   "execution_count": 33,
   "id": "bd304950",
   "metadata": {},
   "outputs": [],
   "source": [
    "############################### Parameters #########################################\n",
    "num_experiments = 200\n",
    "num_particles =250000"
   ]
  },
  {
   "cell_type": "code",
   "execution_count": null,
   "id": "a868a01c",
   "metadata": {},
   "outputs": [
    {
     "data": {
      "image/png": "[encoded data removed]",
      "text/plain": [
       "<Figure size 1000x600 with 1 Axes>"
      ]
     },
     "metadata": {},
     "output_type": "display_data"
    },
    {
     "data": {
      "image/png": "[encoded data removed]",
      "text/plain": [
       "<Figure size 800x800 with 1 Axes>"
      ]
     },
     "metadata": {},
     "output_type": "display_data"
    }
   ],
   "source": [
    "############################### Simulation Part #########################################\n",
    "\n",
    "all_hit_positions = []\n",
    "hit_counts = []\n",
    "\n",
    "for _ in range(num_experiments):\n",
    "    x_paths, y_paths, z_paths = generate_paths(num_particles, circle_radius, source_z, cylinders, chip_z)\n",
    "\n",
    "    hit_count, hit_positions = count_hits_on_chip(x_paths, y_paths, z_paths, chip_z, chip_plane_width, chip_plane_length)\n",
    "    hit_counts.append(hit_count)\n",
    "    all_hit_positions.extend(hit_positions)\n",
    "\n",
    "plot_hist(hit_counts)\n",
    "plot_chip_with_hits(all_hit_positions, chip_plane_width, chip_plane_length)\n"
   ]
  },
  {
   "cell_type": "markdown",
   "id": "a8e5c3eb",
   "metadata": {},
   "source": [
    "## Find optimal source position in z axis to get expected hit rate"
   ]
  },
  {
   "cell_type": "code",
   "execution_count": 94,
   "id": "9dd4ed11",
   "metadata": {},
   "outputs": [
    {
     "name": "stdout",
     "output_type": "stream",
     "text": [
      "############## Radius of hit circle: 65, Source_z: -27000.0 ################\n"
     ]
    },
    {
     "data": {
      "image/png": "[encoded data removed]",
      "text/plain": [
       "<Figure size 1000x600 with 1 Axes>"
      ]
     },
     "metadata": {},
     "output_type": "display_data"
    },
    {
     "data": {
      "image/png": "[encoded data removed]",
      "text/plain": [
       "<Figure size 800x800 with 1 Axes>"
      ]
     },
     "metadata": {},
     "output_type": "display_data"
    },
    {
     "name": "stdout",
     "output_type": "stream",
     "text": [
      "\n",
      "\n",
      "############## Radius of hit circle: 65, Source_z: -26000.0 ################\n"
     ]
    },
    {
     "data": {
      "image/png": "[encoded data removed]",
      "text/plain": [
       "<Figure size 1000x600 with 1 Axes>"
      ]
     },
     "metadata": {},
     "output_type": "display_data"
    },
    {
     "data": {
      "image/png": "[encoded data removed]",
      "text/plain": [
       "<Figure size 800x800 with 1 Axes>"
      ]
     },
     "metadata": {},
     "output_type": "display_data"
    },
    {
     "name": "stdout",
     "output_type": "stream",
     "text": [
      "\n",
      "\n",
      "############## Radius of hit circle: 65, Source_z: -25000.0 ################\n"
     ]
    },
    {
     "data": {
      "image/png": "[encoded data removed]",
      "text/plain": [
       "<Figure size 1000x600 with 1 Axes>"
      ]
     },
     "metadata": {},
     "output_type": "display_data"
    },
    {
     "data": {
      "image/png": "[encoded data removed]",
      "text/plain": [
       "<Figure size 800x800 with 1 Axes>"
      ]
     },
     "metadata": {},
     "output_type": "display_data"
    },
    {
     "name": "stdout",
     "output_type": "stream",
     "text": [
      "\n",
      "\n"
     ]
    },
    {
     "data": {
      "image/png": "[encoded data removed]",
      "text/plain": [
       "<Figure size 640x480 with 1 Axes>"
      ]
     },
     "metadata": {},
     "output_type": "display_data"
    }
   ],
   "source": [
    "source_z_values = np.linspace(-27000, -25000, 3)   # sweep over source cap distance \n",
    "num_experiments = 700                              # number of repetitions\n",
    "num_particles = 370000                             # number of emitted particles for each repetition\n",
    "radius_values = [65, 80]                           # radius of hit/target circle at chip\n",
    "\n",
    "mu_values = np.zeros((len(source_z_values), len(radius_values)))  \n",
    "for radius_idx, radius in enumerate(radius_values):\n",
    "    for source_z_idx, source_z in enumerate(source_z_values):\n",
    "        \n",
    "        source_position = [0, 0, source_z]  \n",
    "        intersections_upper = []\n",
    "        intersections_lower = []\n",
    "\n",
    "        boundary_points = plot_2d_chip_with_circle(center_x, center_y, radius, chip_plane_width, chip_plane_length, chip_z, boundary_pts, show_plot=False)\n",
    "        \n",
    "        for boundary_point in boundary_points:\n",
    "            intersection_upper, intersection_lower = find_intersection_with_planes(source_position, boundary_point, wall_upper, wall_lower)\n",
    "            if intersection_upper is not None:\n",
    "                intersections_upper.append(intersection_upper)\n",
    "            if intersection_lower is not None:\n",
    "                intersections_lower.append(intersection_lower)\n",
    "\n",
    "        center_xl, center_yl, _, _, center_xu, center_yu, _, _ = calculate_circle_properties(intersections_upper, intersections_lower, print_output=False)\n",
    "        radius_lower = diameter_at_z(wall_lower, source_z, chip_z, circle_radius, radius) / 2\n",
    "        radius_upper = diameter_at_z(wall_upper, source_z, chip_z, circle_radius, radius) / 2\n",
    "        cylinders = [Cylinder(radius_lower, [center_xl, center_yl], radius_upper, [center_xu, center_yu], 'green', wall_lower, wall_upper)]\n",
    "\n",
    "        hit_counts = []\n",
    "        hit_positions = []\n",
    "\n",
    "        for _ in range(num_experiments):\n",
    "            x_paths, y_paths, z_paths = generate_paths(num_particles, circle_radius, source_z, cylinders, chip_z)\n",
    "            hit_count, hit_position = count_hits_on_chip(x_paths, y_paths, z_paths, chip_z, chip_plane_width, chip_plane_length)\n",
    "            hit_counts.append(hit_count)\n",
    "            hit_positions.extend(hit_position)\n",
    "\n",
    "        mu, std = norm.fit(hit_counts)\n",
    "        mu_values[source_z_idx, radius_idx] = mu\n",
    "        \n",
    "        print(f\"############## Radius of hit circle: {radius}, Source_z: {source_z} ################\")\n",
    "        plot_hist(hit_counts)\n",
    "        plot_chip_with_hits(hit_positions, chip_plane_width, chip_plane_length)\n",
    "        print(end=\"\\n\\n\")\n",
    "\n",
    "plt.figure()\n",
    "for radius_idx, radius in enumerate(radius_values):\n",
    "    plt.plot(source_z_values, mu_values[:, radius_idx], '-o', label=f'Radius = {radius}')\n",
    "\n",
    "plt.xlabel(\"Source z-position\")\n",
    "plt.ylabel(\"Mean (mu) of Gaussian fit (Hit counts)\")\n",
    "plt.title(f\"Mu vs Source z-position - Nr. of particles: {num_particles}, Reps: {num_experiments} \")\n",
    "plt.legend()\n",
    "plt.show()\n"
   ]
  },
  {
   "cell_type": "code",
   "execution_count": null,
   "id": "5b082ef4",
   "metadata": {},
   "outputs": [],
   "source": []
  }
 ],
 "metadata": {
  "kernelspec": {
   "display_name": ".venv",
   "language": "python",
   "name": "python3"
  },
  "language_info": {
   "codemirror_mode": {
    "name": "ipython",
    "version": 3
   },
   "file_extension": ".py",
   "mimetype": "text/x-python",
   "name": "python",
   "nbconvert_exporter": "python",
   "pygments_lexer": "ipython3",
   "version": "3.12.4"
  }
 },
 "nbformat": 4,
 "nbformat_minor": 5
}
